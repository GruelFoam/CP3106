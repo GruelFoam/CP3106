{
 "cells": [
  {
   "cell_type": "code",
   "execution_count": null,
   "metadata": {},
   "outputs": [],
   "source": [
    "import torch\n",
    "import torch.nn as nn\n",
    "import pandas as pd\n",
    "import numpy as np\n",
    "import json\n",
    "from tool import *\n",
    "\n",
    "data_root = '../../MyData/'"
   ]
  },
  {
   "cell_type": "code",
   "execution_count": 4,
   "metadata": {},
   "outputs": [
    {
     "data": {
      "text/html": [
       "<div>\n",
       "<style scoped>\n",
       "    .dataframe tbody tr th:only-of-type {\n",
       "        vertical-align: middle;\n",
       "    }\n",
       "\n",
       "    .dataframe tbody tr th {\n",
       "        vertical-align: top;\n",
       "    }\n",
       "\n",
       "    .dataframe thead th {\n",
       "        text-align: right;\n",
       "    }\n",
       "</style>\n",
       "<table border=\"1\" class=\"dataframe\">\n",
       "  <thead>\n",
       "    <tr style=\"text-align: right;\">\n",
       "      <th></th>\n",
       "      <th>tic</th>\n",
       "      <th>Year</th>\n",
       "    </tr>\n",
       "  </thead>\n",
       "  <tbody>\n",
       "    <tr>\n",
       "      <th>0</th>\n",
       "      <td>WIRE</td>\n",
       "      <td>2021</td>\n",
       "    </tr>\n",
       "    <tr>\n",
       "      <th>1</th>\n",
       "      <td>LNT</td>\n",
       "      <td>2021</td>\n",
       "    </tr>\n",
       "    <tr>\n",
       "      <th>2</th>\n",
       "      <td>AMR</td>\n",
       "      <td>2021</td>\n",
       "    </tr>\n",
       "    <tr>\n",
       "      <th>3</th>\n",
       "      <td>SFM</td>\n",
       "      <td>2021</td>\n",
       "    </tr>\n",
       "    <tr>\n",
       "      <th>4</th>\n",
       "      <td>ENSG</td>\n",
       "      <td>2021</td>\n",
       "    </tr>\n",
       "    <tr>\n",
       "      <th>...</th>\n",
       "      <td>...</td>\n",
       "      <td>...</td>\n",
       "    </tr>\n",
       "    <tr>\n",
       "      <th>1192</th>\n",
       "      <td>NOV</td>\n",
       "      <td>2021</td>\n",
       "    </tr>\n",
       "    <tr>\n",
       "      <th>1193</th>\n",
       "      <td>DIS</td>\n",
       "      <td>2021</td>\n",
       "    </tr>\n",
       "    <tr>\n",
       "      <th>1194</th>\n",
       "      <td>PACW</td>\n",
       "      <td>2021</td>\n",
       "    </tr>\n",
       "    <tr>\n",
       "      <th>1195</th>\n",
       "      <td>DBD</td>\n",
       "      <td>2021</td>\n",
       "    </tr>\n",
       "    <tr>\n",
       "      <th>1196</th>\n",
       "      <td>UAL</td>\n",
       "      <td>2021</td>\n",
       "    </tr>\n",
       "  </tbody>\n",
       "</table>\n",
       "<p>1197 rows × 2 columns</p>\n",
       "</div>"
      ],
      "text/plain": [
       "       tic  Year\n",
       "0     WIRE  2021\n",
       "1      LNT  2021\n",
       "2      AMR  2021\n",
       "3      SFM  2021\n",
       "4     ENSG  2021\n",
       "...    ...   ...\n",
       "1192   NOV  2021\n",
       "1193   DIS  2021\n",
       "1194  PACW  2021\n",
       "1195   DBD  2021\n",
       "1196   UAL  2021\n",
       "\n",
       "[1197 rows x 2 columns]"
      ]
     },
     "execution_count": 4,
     "metadata": {},
     "output_type": "execute_result"
    }
   ],
   "source": [
    "set_1197 = pd.read_csv(data_root+'merged_1197.csv')\n",
    "set_1197 = set_1197[['tic', 'Year']]\n",
    "set_1197"
   ]
  },
  {
   "cell_type": "code",
   "execution_count": 5,
   "metadata": {},
   "outputs": [
    {
     "name": "stderr",
     "output_type": "stream",
     "text": [
      "[*********************100%***********************]  1197 of 1197 completed\n",
      "\n",
      "133 Failed downloads:\n",
      "['LUB', 'DEN', 'NCR', 'KRA', 'MMP', 'AUD', 'CRD.A', 'POLY', 'SJI', 'FMBI', 'FBC', 'TA', 'MGI', 'AMOT', 'SIRE', 'TMST', 'INT', 'GPS', 'ANAT', 'WIRE', 'FOE', 'RCII', 'CCMP', 'MAXR', 'PKI', 'ABMD', 'OCN', 'PGTI', 'CLVSQ', 'HT', 'SLCA', 'AIMC', 'SPLK', 'RUTH', 'PNM', 'FLT', 'BBBY', 'ENDPQ', 'COHR.1', 'RFP', 'EXPR', 'YELL', 'AAIC', 'ACC', 'COWN', 'MTOR', 'NLS', 'AXAS', 'UNVR', 'ATH', 'SAFM', 'VG', 'VRTV', 'KSU', 'CCF', 'STON', 'HBP', 'IVCRQ', 'NEX', 'MNK', 'BIG', 'NATI', 'AAWW', 'AVEO', 'RRD', 'UCBI', 'RNWK', 'SCHN', 'MDC', 'ATVI', 'VMW', 'AVYAQ', 'WRK', 'ARNC', 'PACW', 'TMX', 'NUVA', 'ADES', 'SIX', 'KAMN', 'TWTR', 'ALR', 'DRQ', 'RE', 'SCU', 'LHCG', 'EXTN', 'SRLP', 'MOG.A', 'CIR', 'NLSN', 'SCX', 'CHS', 'LCI', 'NP', 'DISH', 'WLL', 'LL', 'UMPQ', 'RAD', 'NWLI', 'BRK.B', 'HSC', 'VRS', 'CTXS', 'ECOL', 'CPSI', 'MANT', 'CONE', 'OFC', 'SMLP', 'CEQP', 'USAK', 'PBFX', 'SP', 'OSG', 'SEAS', 'HZN', 'GSKY', 'HA']: YFTzMissingError('$%ticker%: possibly delisted; no timezone found')\n",
      "['CAMP', 'VOLT']: YFPricesMissingError('$%ticker%: possibly delisted; no price data found  (1d 2022-01-01 -> 2023-12-31) (Yahoo error = \"Data doesn\\'t exist for startDate = 1641013200, endDate = 1703998800\")')\n",
      "['GLT', 'SWN', 'AAN', 'SAVE', 'NYCB', 'CHK', 'VGR', 'FISV']: YFPricesMissingError('$%ticker%: possibly delisted; no price data found  (1d 2022-01-01 -> 2023-12-31) (Yahoo error = \"No data found, symbol may be delisted\")')\n",
      "['AMRS', 'OSTK', 'BF.B']: YFPricesMissingError('$%ticker%: possibly delisted; no price data found  (1d 2022-01-01 -> 2023-12-31)')\n",
      "d:\\NGNE\\clustering_project\\4 text fusion\\tool.py:40: FutureWarning: The default fill_method='pad' in DataFrame.pct_change is deprecated and will be removed in a future version. Either fill in any non-leading NA values prior to calling pct_change or specify 'fill_method=None' to not fill NA values.\n",
      "  returns = close_prices.pct_change()\n"
     ]
    }
   ],
   "source": [
    "year = 2021\n",
    "mode = 'forward'  # Can be 'in-sample', 'forward', or 'backtest'\n",
    "returns_long = fetch_stock_data(set_1197, year, mode)"
   ]
  },
  {
   "cell_type": "code",
   "execution_count": null,
   "metadata": {},
   "outputs": [],
   "source": [
    "# returns_long.to_csv(\"returns_long.csv\", index=False)"
   ]
  }
 ],
 "metadata": {
  "kernelspec": {
   "display_name": "NLP",
   "language": "python",
   "name": "python3"
  },
  "language_info": {
   "codemirror_mode": {
    "name": "ipython",
    "version": 3
   },
   "file_extension": ".py",
   "mimetype": "text/x-python",
   "name": "python",
   "nbconvert_exporter": "python",
   "pygments_lexer": "ipython3",
   "version": "3.9.19"
  }
 },
 "nbformat": 4,
 "nbformat_minor": 2
}
