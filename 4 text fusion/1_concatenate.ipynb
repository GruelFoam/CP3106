{
 "cells": [
  {
   "cell_type": "code",
   "execution_count": null,
   "metadata": {},
   "outputs": [],
   "source": [
    "import torch\n",
    "import torch.nn as nn\n",
    "import pandas as pd\n",
    "import numpy as np\n",
    "import json\n",
    "from tool import *\n",
    "\n",
    "data_root = '../../MyData/'"
   ]
  },
  {
   "cell_type": "markdown",
   "metadata": {},
   "source": [
    "## Load data"
   ]
  },
  {
   "cell_type": "code",
   "execution_count": 2,
   "metadata": {},
   "outputs": [
    {
     "name": "stdout",
     "output_type": "stream",
     "text": [
      "1197\n",
      "       cik   tic  Year                                   item1_embeddings\n",
      "0   850460  WIRE  2021  [0.03955410048365593, -0.04159577935934067, -0...\n",
      "1   352541   LNT  2021  [-0.0231856107711792, 0.001279839314520359, 0....\n",
      "2  1704715   AMR  2021  [0.014074714854359627, 0.006938479840755463, 0...\n",
      "3  1575515   SFM  2021  [-0.023708730936050415, 0.01762891560792923, 0...\n",
      "4  1125376  ENSG  2021  [0.04463111609220505, 0.0018805989529937506, 0...\n",
      "1197\n",
      "       cik                           SP_SHORT_DESC_embeddings  \\\n",
      "0   850460  [0.01568225771188736, -0.07636360824108124, -0...   \n",
      "1   352541  [-0.013836896046996117, -0.028995024040341377,...   \n",
      "2  1704715  [0.0030535957776010036, 0.0008783274097368121,...   \n",
      "3  1575515  [-0.025762900710105896, 0.0034106436651200056,...   \n",
      "4  1125376  [0.04616139456629753, -0.0021259395871311426, ...   \n",
      "\n",
      "                             SP_LONG_DESC_embeddings  \\\n",
      "0  [0.06089901179075241, -0.07059630751609802, -0...   \n",
      "1  [-0.021961161866784096, 0.020302705466747284, ...   \n",
      "2  [-0.0017570963827893138, 0.006557094398885965,...   \n",
      "3  [-0.015190708450973034, 0.011541897431015968, ...   \n",
      "4  [0.05935207009315491, 0.0013673527864739299, 0...   \n",
      "\n",
      "                          ORBIS_PROD_SERV_embeddings  \\\n",
      "0                                                NaN   \n",
      "1  [-0.015400929376482964, 0.03232719004154205, -...   \n",
      "2  [-0.02030838653445244, -0.009386725723743439, ...   \n",
      "3  [-0.013177500106394291, 0.036401789635419846, ...   \n",
      "4  [0.029405493289232254, 0.014010551385581493, 0...   \n",
      "\n",
      "                           ORBIS_OVERVIEW_embeddings  \n",
      "0                                                NaN  \n",
      "1  [-0.041709959506988525, -0.011898815631866455,...  \n",
      "2  [-0.012340557761490345, -0.01428779773414135, ...  \n",
      "3  [-0.01883152313530445, 0.021741388365626335, 0...  \n",
      "4  [-0.006068837363272905, 0.010537531226873398, ...  \n",
      "1197\n"
     ]
    },
    {
     "data": {
      "text/html": [
       "<div>\n",
       "<style scoped>\n",
       "    .dataframe tbody tr th:only-of-type {\n",
       "        vertical-align: middle;\n",
       "    }\n",
       "\n",
       "    .dataframe tbody tr th {\n",
       "        vertical-align: top;\n",
       "    }\n",
       "\n",
       "    .dataframe thead th {\n",
       "        text-align: right;\n",
       "    }\n",
       "</style>\n",
       "<table border=\"1\" class=\"dataframe\">\n",
       "  <thead>\n",
       "    <tr style=\"text-align: right;\">\n",
       "      <th></th>\n",
       "      <th>cik</th>\n",
       "      <th>tic</th>\n",
       "      <th>Year</th>\n",
       "      <th>item1_embeddings</th>\n",
       "      <th>SP_SHORT_DESC_embeddings</th>\n",
       "      <th>SP_LONG_DESC_embeddings</th>\n",
       "      <th>ORBIS_PROD_SERV_embeddings</th>\n",
       "      <th>ORBIS_OVERVIEW_embeddings</th>\n",
       "    </tr>\n",
       "  </thead>\n",
       "  <tbody>\n",
       "    <tr>\n",
       "      <th>0</th>\n",
       "      <td>850460</td>\n",
       "      <td>WIRE</td>\n",
       "      <td>2021</td>\n",
       "      <td>[0.03955410048365593, -0.04159577935934067, -0...</td>\n",
       "      <td>[0.01568225771188736, -0.07636360824108124, -0...</td>\n",
       "      <td>[0.06089901179075241, -0.07059630751609802, -0...</td>\n",
       "      <td>NaN</td>\n",
       "      <td>NaN</td>\n",
       "    </tr>\n",
       "    <tr>\n",
       "      <th>1</th>\n",
       "      <td>352541</td>\n",
       "      <td>LNT</td>\n",
       "      <td>2021</td>\n",
       "      <td>[-0.0231856107711792, 0.001279839314520359, 0....</td>\n",
       "      <td>[-0.013836896046996117, -0.028995024040341377,...</td>\n",
       "      <td>[-0.021961161866784096, 0.020302705466747284, ...</td>\n",
       "      <td>[-0.015400929376482964, 0.03232719004154205, -...</td>\n",
       "      <td>[-0.041709959506988525, -0.011898815631866455,...</td>\n",
       "    </tr>\n",
       "    <tr>\n",
       "      <th>2</th>\n",
       "      <td>1704715</td>\n",
       "      <td>AMR</td>\n",
       "      <td>2021</td>\n",
       "      <td>[0.014074714854359627, 0.006938479840755463, 0...</td>\n",
       "      <td>[0.0030535957776010036, 0.0008783274097368121,...</td>\n",
       "      <td>[-0.0017570963827893138, 0.006557094398885965,...</td>\n",
       "      <td>[-0.02030838653445244, -0.009386725723743439, ...</td>\n",
       "      <td>[-0.012340557761490345, -0.01428779773414135, ...</td>\n",
       "    </tr>\n",
       "    <tr>\n",
       "      <th>3</th>\n",
       "      <td>1575515</td>\n",
       "      <td>SFM</td>\n",
       "      <td>2021</td>\n",
       "      <td>[-0.023708730936050415, 0.01762891560792923, 0...</td>\n",
       "      <td>[-0.025762900710105896, 0.0034106436651200056,...</td>\n",
       "      <td>[-0.015190708450973034, 0.011541897431015968, ...</td>\n",
       "      <td>[-0.013177500106394291, 0.036401789635419846, ...</td>\n",
       "      <td>[-0.01883152313530445, 0.021741388365626335, 0...</td>\n",
       "    </tr>\n",
       "    <tr>\n",
       "      <th>4</th>\n",
       "      <td>1125376</td>\n",
       "      <td>ENSG</td>\n",
       "      <td>2021</td>\n",
       "      <td>[0.04463111609220505, 0.0018805989529937506, 0...</td>\n",
       "      <td>[0.04616139456629753, -0.0021259395871311426, ...</td>\n",
       "      <td>[0.05935207009315491, 0.0013673527864739299, 0...</td>\n",
       "      <td>[0.029405493289232254, 0.014010551385581493, 0...</td>\n",
       "      <td>[-0.006068837363272905, 0.010537531226873398, ...</td>\n",
       "    </tr>\n",
       "  </tbody>\n",
       "</table>\n",
       "</div>"
      ],
      "text/plain": [
       "       cik   tic  Year                                   item1_embeddings  \\\n",
       "0   850460  WIRE  2021  [0.03955410048365593, -0.04159577935934067, -0...   \n",
       "1   352541   LNT  2021  [-0.0231856107711792, 0.001279839314520359, 0....   \n",
       "2  1704715   AMR  2021  [0.014074714854359627, 0.006938479840755463, 0...   \n",
       "3  1575515   SFM  2021  [-0.023708730936050415, 0.01762891560792923, 0...   \n",
       "4  1125376  ENSG  2021  [0.04463111609220505, 0.0018805989529937506, 0...   \n",
       "\n",
       "                            SP_SHORT_DESC_embeddings  \\\n",
       "0  [0.01568225771188736, -0.07636360824108124, -0...   \n",
       "1  [-0.013836896046996117, -0.028995024040341377,...   \n",
       "2  [0.0030535957776010036, 0.0008783274097368121,...   \n",
       "3  [-0.025762900710105896, 0.0034106436651200056,...   \n",
       "4  [0.04616139456629753, -0.0021259395871311426, ...   \n",
       "\n",
       "                             SP_LONG_DESC_embeddings  \\\n",
       "0  [0.06089901179075241, -0.07059630751609802, -0...   \n",
       "1  [-0.021961161866784096, 0.020302705466747284, ...   \n",
       "2  [-0.0017570963827893138, 0.006557094398885965,...   \n",
       "3  [-0.015190708450973034, 0.011541897431015968, ...   \n",
       "4  [0.05935207009315491, 0.0013673527864739299, 0...   \n",
       "\n",
       "                          ORBIS_PROD_SERV_embeddings  \\\n",
       "0                                                NaN   \n",
       "1  [-0.015400929376482964, 0.03232719004154205, -...   \n",
       "2  [-0.02030838653445244, -0.009386725723743439, ...   \n",
       "3  [-0.013177500106394291, 0.036401789635419846, ...   \n",
       "4  [0.029405493289232254, 0.014010551385581493, 0...   \n",
       "\n",
       "                           ORBIS_OVERVIEW_embeddings  \n",
       "0                                                NaN  \n",
       "1  [-0.041709959506988525, -0.011898815631866455,...  \n",
       "2  [-0.012340557761490345, -0.01428779773414135, ...  \n",
       "3  [-0.01883152313530445, 0.021741388365626335, 0...  \n",
       "4  [-0.006068837363272905, 0.010537531226873398, ...  "
      ]
     },
     "execution_count": 2,
     "metadata": {},
     "output_type": "execute_result"
    }
   ],
   "source": [
    "item1_embedding = pd.read_csv(data_root+'merged_1197.csv')\n",
    "item1_embedding = item1_embedding[['cik', 'tic', 'Year', 'item1_embeddings']]\n",
    "print(len(item1_embedding))\n",
    "print(item1_embedding.head())\n",
    "\n",
    "other_embedding = pd.read_csv(data_root+'output_embeddings_2.csv')\n",
    "other_embedding = other_embedding[['cik', 'SP_SHORT_DESC_embeddings', 'SP_LONG_DESC_embeddings', 'ORBIS_PROD_SERV_embeddings', 'ORBIS_OVERVIEW_embeddings']]\n",
    "print(len(other_embedding))\n",
    "print(other_embedding.head())\n",
    "\n",
    "total_embedding = pd.merge(item1_embedding, other_embedding, on=['cik'])\n",
    "\n",
    "# To reduce mem consumption\n",
    "item1_embedding = ''\n",
    "other_embedding = ''\n",
    "\n",
    "print(len(total_embedding))\n",
    "total_embedding.head()"
   ]
  },
  {
   "cell_type": "markdown",
   "metadata": {},
   "source": [
    "### Check dataset"
   ]
  },
  {
   "cell_type": "code",
   "execution_count": 3,
   "metadata": {},
   "outputs": [
    {
     "name": "stdout",
     "output_type": "stream",
     "text": [
      "The nan value proportion in each column:\n",
      "cik                           0.000000\n",
      "tic                           0.000000\n",
      "Year                          0.000000\n",
      "item1_embeddings              0.000000\n",
      "SP_SHORT_DESC_embeddings      0.041771\n",
      "SP_LONG_DESC_embeddings       0.095238\n",
      "ORBIS_PROD_SERV_embeddings    0.208020\n",
      "ORBIS_OVERVIEW_embeddings     0.168755\n",
      "dtype: float64\n",
      "\n",
      "\n"
     ]
    }
   ],
   "source": [
    "nan_proportion = total_embedding.isna().mean()\n",
    "print(f\"The nan value proportion in each column:\\n{nan_proportion}\\n\\n\")"
   ]
  },
  {
   "cell_type": "markdown",
   "metadata": {},
   "source": [
    "## Define fusion function"
   ]
  },
  {
   "cell_type": "code",
   "execution_count": 15,
   "metadata": {},
   "outputs": [],
   "source": [
    "# def concatenate_fusion(data_df, target_list):\n",
    "#     modality_content_list = []\n",
    "#     for target in target_list:\n",
    "#         temp_list = list(data_df[target].apply(json.loads))\n",
    "#         modality_content_list.append(temp_list)\n",
    "\n",
    "#     modality_content_array = np.array(modality_content_list)  # Shape: (3, 1197, 1536)\n",
    "\n",
    "#     arr_transposed = np.transpose(modality_content_array, (1, 0, 2))  # Shape: (1197, 3, 1536)\n",
    "#     arr_shape = arr_transposed.shape\n",
    "\n",
    "#     # Reshape the last two dimensions into a single dimension\n",
    "#     result = arr_transposed.reshape(arr_shape[0], arr_shape[1]*arr_shape[2])\n",
    "    \n",
    "#     return result"
   ]
  },
  {
   "cell_type": "markdown",
   "metadata": {},
   "source": [
    "## Experiment 1:\n",
    "\n",
    "Concatenate item1, sp_long, orbis_overview"
   ]
  },
  {
   "cell_type": "markdown",
   "metadata": {},
   "source": [
    "### concatenate"
   ]
  },
  {
   "cell_type": "code",
   "execution_count": 10,
   "metadata": {},
   "outputs": [
    {
     "name": "stdout",
     "output_type": "stream",
     "text": [
      "(926, 6)\n",
      "<class 'numpy.ndarray'>\n",
      "(926, 4608)\n"
     ]
    },
    {
     "data": {
      "text/plain": [
       "array([[-0.02318561,  0.00127984,  0.03837442, ..., -0.01639827,\n",
       "        -0.00884627,  0.01504294],\n",
       "       [ 0.01407471,  0.00693848,  0.05793545, ..., -0.01053198,\n",
       "        -0.01884542,  0.01698861],\n",
       "       [-0.02370873,  0.01762892,  0.03881923, ...,  0.00984779,\n",
       "         0.01709069, -0.00222528],\n",
       "       ...,\n",
       "       [-0.02168068,  0.02275101,  0.01675978, ...,  0.00697548,\n",
       "         0.00930723, -0.00699524],\n",
       "       [ 0.02060029,  0.01415954,  0.02986284, ...,  0.00881959,\n",
       "        -0.01525622, -0.00635244],\n",
       "       [-0.06847923, -0.00438687,  0.04645469, ..., -0.0006741 ,\n",
       "        -0.00551236,  0.0016899 ]])"
      ]
     },
     "execution_count": 10,
     "metadata": {},
     "output_type": "execute_result"
    }
   ],
   "source": [
    "target_list = ['item1_embeddings', 'SP_LONG_DESC_embeddings', 'ORBIS_OVERVIEW_embeddings']\n",
    "info_list = ['cik', 'tic', 'Year']\n",
    "exp1_df = convert_to_array(total_embedding, info_list, target_list, 1536, True)\n",
    "print(exp1_df.shape)\n",
    "exp1_df\n",
    "\n",
    "\n",
    "item1 = np.vstack(exp1_df['item1_embeddings'].values)\n",
    "sp_long = np.vstack(exp1_df['SP_LONG_DESC_embeddings'].values)\n",
    "orbis = np.vstack(exp1_df['ORBIS_OVERVIEW_embeddings'].values)\n",
    "concatenated_np = np.concatenate([item1, sp_long, orbis], axis=1)\n",
    "\n",
    "print(type(concatenated_np))\n",
    "print(concatenated_np.shape)\n",
    "concatenated_np"
   ]
  },
  {
   "cell_type": "code",
   "execution_count": 7,
   "metadata": {},
   "outputs": [
    {
     "name": "stdout",
     "output_type": "stream",
     "text": [
      "Normalized Within-Cluster Sum of Squares (WCSS): 0.000301903706202179\n",
      "Normalized Within-Cluster Sum of Squares (WCSS): 0.000231705621510157\n"
     ]
    },
    {
     "data": {
      "text/html": [
       "<div>\n",
       "<style scoped>\n",
       "    .dataframe tbody tr th:only-of-type {\n",
       "        vertical-align: middle;\n",
       "    }\n",
       "\n",
       "    .dataframe tbody tr th {\n",
       "        vertical-align: top;\n",
       "    }\n",
       "\n",
       "    .dataframe thead th {\n",
       "        text-align: right;\n",
       "    }\n",
       "</style>\n",
       "<table border=\"1\" class=\"dataframe\">\n",
       "  <thead>\n",
       "    <tr style=\"text-align: right;\">\n",
       "      <th></th>\n",
       "      <th>cik</th>\n",
       "      <th>tic</th>\n",
       "      <th>Year</th>\n",
       "      <th>cluster_10</th>\n",
       "      <th>cluster_100</th>\n",
       "    </tr>\n",
       "  </thead>\n",
       "  <tbody>\n",
       "    <tr>\n",
       "      <th>1</th>\n",
       "      <td>352541</td>\n",
       "      <td>LNT</td>\n",
       "      <td>2021</td>\n",
       "      <td>5</td>\n",
       "      <td>5</td>\n",
       "    </tr>\n",
       "    <tr>\n",
       "      <th>2</th>\n",
       "      <td>1704715</td>\n",
       "      <td>AMR</td>\n",
       "      <td>2021</td>\n",
       "      <td>5</td>\n",
       "      <td>72</td>\n",
       "    </tr>\n",
       "    <tr>\n",
       "      <th>3</th>\n",
       "      <td>1575515</td>\n",
       "      <td>SFM</td>\n",
       "      <td>2021</td>\n",
       "      <td>0</td>\n",
       "      <td>53</td>\n",
       "    </tr>\n",
       "    <tr>\n",
       "      <th>4</th>\n",
       "      <td>1125376</td>\n",
       "      <td>ENSG</td>\n",
       "      <td>2021</td>\n",
       "      <td>4</td>\n",
       "      <td>55</td>\n",
       "    </tr>\n",
       "    <tr>\n",
       "      <th>5</th>\n",
       "      <td>1674335</td>\n",
       "      <td>JELD</td>\n",
       "      <td>2021</td>\n",
       "      <td>7</td>\n",
       "      <td>88</td>\n",
       "    </tr>\n",
       "    <tr>\n",
       "      <th>...</th>\n",
       "      <td>...</td>\n",
       "      <td>...</td>\n",
       "      <td>...</td>\n",
       "      <td>...</td>\n",
       "      <td>...</td>\n",
       "    </tr>\n",
       "    <tr>\n",
       "      <th>1190</th>\n",
       "      <td>1653653</td>\n",
       "      <td>RRR</td>\n",
       "      <td>2021</td>\n",
       "      <td>2</td>\n",
       "      <td>52</td>\n",
       "    </tr>\n",
       "    <tr>\n",
       "      <th>1191</th>\n",
       "      <td>1627223</td>\n",
       "      <td>CC</td>\n",
       "      <td>2021</td>\n",
       "      <td>7</td>\n",
       "      <td>45</td>\n",
       "    </tr>\n",
       "    <tr>\n",
       "      <th>1192</th>\n",
       "      <td>1021860</td>\n",
       "      <td>NOV</td>\n",
       "      <td>2021</td>\n",
       "      <td>1</td>\n",
       "      <td>8</td>\n",
       "    </tr>\n",
       "    <tr>\n",
       "      <th>1193</th>\n",
       "      <td>1744489</td>\n",
       "      <td>DIS</td>\n",
       "      <td>2021</td>\n",
       "      <td>2</td>\n",
       "      <td>60</td>\n",
       "    </tr>\n",
       "    <tr>\n",
       "      <th>1196</th>\n",
       "      <td>100517</td>\n",
       "      <td>UAL</td>\n",
       "      <td>2021</td>\n",
       "      <td>2</td>\n",
       "      <td>24</td>\n",
       "    </tr>\n",
       "  </tbody>\n",
       "</table>\n",
       "<p>926 rows × 5 columns</p>\n",
       "</div>"
      ],
      "text/plain": [
       "          cik   tic  Year  cluster_10  cluster_100\n",
       "1      352541   LNT  2021           5            5\n",
       "2     1704715   AMR  2021           5           72\n",
       "3     1575515   SFM  2021           0           53\n",
       "4     1125376  ENSG  2021           4           55\n",
       "5     1674335  JELD  2021           7           88\n",
       "...       ...   ...   ...         ...          ...\n",
       "1190  1653653   RRR  2021           2           52\n",
       "1191  1627223    CC  2021           7           45\n",
       "1192  1021860   NOV  2021           1            8\n",
       "1193  1744489   DIS  2021           2           60\n",
       "1196   100517   UAL  2021           2           24\n",
       "\n",
       "[926 rows x 5 columns]"
      ]
     },
     "execution_count": 7,
     "metadata": {},
     "output_type": "execute_result"
    }
   ],
   "source": [
    "exp1_df = exp1_df[['cik', 'tic', 'Year']]\n",
    "\n",
    "exp1_df['cluster_10'] = cluster(concatenated_np, 10)\n",
    "exp1_df['cluster_100'] = cluster(concatenated_np, 100)\n",
    "exp1_df"
   ]
  },
  {
   "cell_type": "code",
   "execution_count": 8,
   "metadata": {},
   "outputs": [],
   "source": [
    "# exp1_df.to_csv('1_concatenate_clusters.csv', index=False)"
   ]
  },
  {
   "cell_type": "markdown",
   "metadata": {},
   "source": [
    "### Evaluate"
   ]
  },
  {
   "cell_type": "code",
   "execution_count": 8,
   "metadata": {},
   "outputs": [
    {
     "name": "stdout",
     "output_type": "stream",
     "text": [
      "0.36940339079749923\n",
      "0.430472927797262\n",
      "924\n"
     ]
    }
   ],
   "source": [
    "year = 2021\n",
    "mode = 'forward'  # Can be 'in-sample', 'forward', or 'backtest'\n",
    "# returns_long = fetch_stock_data(exp1_df, year, mode)\n",
    "returns_long = pd.read_csv(data_root+\"returns_long.csv\")\n",
    "\n",
    "exp1_returns = pd.merge(exp1_df, returns_long, on='tic', how='inner')\n",
    "\n",
    "exp1_intra_corrs_10 = intra_industry_correlations(exp1_returns, \"cluster_10\")\n",
    "exp1_avg_intra_corr_10 = np.nanmean(list(exp1_intra_corrs_10.values()))\n",
    "print(exp1_avg_intra_corr_10)\n",
    "\n",
    "exp1_intra_corrs_100 = intra_industry_correlations(exp1_returns, \"cluster_100\")\n",
    "exp1_avg_intra_corr_100 = np.nanmean(list(exp1_intra_corrs_100.values()))\n",
    "print(exp1_avg_intra_corr_100)\n",
    "\n",
    "print(len(exp1_returns['cik'].unique()))"
   ]
  },
  {
   "cell_type": "code",
   "execution_count": 9,
   "metadata": {},
   "outputs": [
    {
     "data": {
      "image/png": "[encoded data removed]",
      "text/plain": [
       "<Figure size 1000x800 with 1 Axes>"
      ]
     },
     "metadata": {},
     "output_type": "display_data"
    }
   ],
   "source": [
    "show_cluster_graph(concatenated_np, exp1_df['cluster_10'])"
   ]
  },
  {
   "cell_type": "markdown",
   "metadata": {},
   "source": [
    "## Experient 2:\n",
    "\n",
    "Concatenate item1, sp_long, sp_short"
   ]
  },
  {
   "cell_type": "markdown",
   "metadata": {},
   "source": [
    "### concatenate"
   ]
  },
  {
   "cell_type": "code",
   "execution_count": 17,
   "metadata": {},
   "outputs": [
    {
     "name": "stdout",
     "output_type": "stream",
     "text": [
      "(1083, 6)\n",
      "<class 'numpy.ndarray'>\n",
      "(1083, 4608)\n"
     ]
    },
    {
     "data": {
      "text/plain": [
       "array([[ 0.0395541 , -0.04159578, -0.01619731, ..., -0.04097864,\n",
       "        -0.00316205,  0.04387536],\n",
       "       [-0.02318561,  0.00127984,  0.03837442, ...,  0.00101044,\n",
       "        -0.00172511,  0.01498997],\n",
       "       [ 0.01407471,  0.00693848,  0.05793545, ...,  0.00833574,\n",
       "        -0.03363522,  0.01407759],\n",
       "       ...,\n",
       "       [-0.02168068,  0.02275101,  0.01675978, ...,  0.00643672,\n",
       "         0.01606878,  0.00074254],\n",
       "       [ 0.02060029,  0.01415954,  0.02986284, ...,  0.0233734 ,\n",
       "         0.01609699,  0.01128678],\n",
       "       [-0.06847923, -0.00438687,  0.04645469, ...,  0.00550124,\n",
       "        -0.00698685, -0.01824066]])"
      ]
     },
     "execution_count": 17,
     "metadata": {},
     "output_type": "execute_result"
    }
   ],
   "source": [
    "target_list = ['item1_embeddings', 'SP_LONG_DESC_embeddings', 'SP_SHORT_DESC_embeddings']\n",
    "info_list = ['cik', 'tic', 'Year']\n",
    "exp2_df = convert_to_array(total_embedding, info_list, target_list, 1536, True)\n",
    "print(exp2_df.shape)\n",
    "exp2_df\n",
    "\n",
    "\n",
    "item1 = np.vstack(exp2_df['item1_embeddings'].values)\n",
    "sp_long = np.vstack(exp2_df['SP_LONG_DESC_embeddings'].values)\n",
    "sp_short = np.vstack(exp2_df['SP_SHORT_DESC_embeddings'].values)\n",
    "concatenated_np = np.concatenate([item1, sp_long, sp_short], axis=1)\n",
    "\n",
    "print(type(concatenated_np))\n",
    "print(concatenated_np.shape)\n",
    "concatenated_np"
   ]
  },
  {
   "cell_type": "code",
   "execution_count": 18,
   "metadata": {},
   "outputs": [
    {
     "name": "stdout",
     "output_type": "stream",
     "text": [
      "Normalized Within-Cluster Sum of Squares (WCSS): 0.0003173942703166314\n",
      "Normalized Within-Cluster Sum of Squares (WCSS): 0.00025121207076494567\n"
     ]
    },
    {
     "data": {
      "text/html": [
       "<div>\n",
       "<style scoped>\n",
       "    .dataframe tbody tr th:only-of-type {\n",
       "        vertical-align: middle;\n",
       "    }\n",
       "\n",
       "    .dataframe tbody tr th {\n",
       "        vertical-align: top;\n",
       "    }\n",
       "\n",
       "    .dataframe thead th {\n",
       "        text-align: right;\n",
       "    }\n",
       "</style>\n",
       "<table border=\"1\" class=\"dataframe\">\n",
       "  <thead>\n",
       "    <tr style=\"text-align: right;\">\n",
       "      <th></th>\n",
       "      <th>cik</th>\n",
       "      <th>tic</th>\n",
       "      <th>Year</th>\n",
       "      <th>cluster_10</th>\n",
       "      <th>cluster_100</th>\n",
       "    </tr>\n",
       "  </thead>\n",
       "  <tbody>\n",
       "    <tr>\n",
       "      <th>0</th>\n",
       "      <td>850460</td>\n",
       "      <td>WIRE</td>\n",
       "      <td>2021</td>\n",
       "      <td>7</td>\n",
       "      <td>66</td>\n",
       "    </tr>\n",
       "    <tr>\n",
       "      <th>1</th>\n",
       "      <td>352541</td>\n",
       "      <td>LNT</td>\n",
       "      <td>2021</td>\n",
       "      <td>4</td>\n",
       "      <td>11</td>\n",
       "    </tr>\n",
       "    <tr>\n",
       "      <th>2</th>\n",
       "      <td>1704715</td>\n",
       "      <td>AMR</td>\n",
       "      <td>2021</td>\n",
       "      <td>4</td>\n",
       "      <td>48</td>\n",
       "    </tr>\n",
       "    <tr>\n",
       "      <th>3</th>\n",
       "      <td>1575515</td>\n",
       "      <td>SFM</td>\n",
       "      <td>2021</td>\n",
       "      <td>6</td>\n",
       "      <td>8</td>\n",
       "    </tr>\n",
       "    <tr>\n",
       "      <th>4</th>\n",
       "      <td>1125376</td>\n",
       "      <td>ENSG</td>\n",
       "      <td>2021</td>\n",
       "      <td>5</td>\n",
       "      <td>57</td>\n",
       "    </tr>\n",
       "    <tr>\n",
       "      <th>...</th>\n",
       "      <td>...</td>\n",
       "      <td>...</td>\n",
       "      <td>...</td>\n",
       "      <td>...</td>\n",
       "      <td>...</td>\n",
       "    </tr>\n",
       "    <tr>\n",
       "      <th>1190</th>\n",
       "      <td>1653653</td>\n",
       "      <td>RRR</td>\n",
       "      <td>2021</td>\n",
       "      <td>9</td>\n",
       "      <td>49</td>\n",
       "    </tr>\n",
       "    <tr>\n",
       "      <th>1191</th>\n",
       "      <td>1627223</td>\n",
       "      <td>CC</td>\n",
       "      <td>2021</td>\n",
       "      <td>2</td>\n",
       "      <td>89</td>\n",
       "    </tr>\n",
       "    <tr>\n",
       "      <th>1192</th>\n",
       "      <td>1021860</td>\n",
       "      <td>NOV</td>\n",
       "      <td>2021</td>\n",
       "      <td>7</td>\n",
       "      <td>70</td>\n",
       "    </tr>\n",
       "    <tr>\n",
       "      <th>1193</th>\n",
       "      <td>1744489</td>\n",
       "      <td>DIS</td>\n",
       "      <td>2021</td>\n",
       "      <td>9</td>\n",
       "      <td>23</td>\n",
       "    </tr>\n",
       "    <tr>\n",
       "      <th>1196</th>\n",
       "      <td>100517</td>\n",
       "      <td>UAL</td>\n",
       "      <td>2021</td>\n",
       "      <td>1</td>\n",
       "      <td>47</td>\n",
       "    </tr>\n",
       "  </tbody>\n",
       "</table>\n",
       "<p>1083 rows × 5 columns</p>\n",
       "</div>"
      ],
      "text/plain": [
       "          cik   tic  Year  cluster_10  cluster_100\n",
       "0      850460  WIRE  2021           7           66\n",
       "1      352541   LNT  2021           4           11\n",
       "2     1704715   AMR  2021           4           48\n",
       "3     1575515   SFM  2021           6            8\n",
       "4     1125376  ENSG  2021           5           57\n",
       "...       ...   ...   ...         ...          ...\n",
       "1190  1653653   RRR  2021           9           49\n",
       "1191  1627223    CC  2021           2           89\n",
       "1192  1021860   NOV  2021           7           70\n",
       "1193  1744489   DIS  2021           9           23\n",
       "1196   100517   UAL  2021           1           47\n",
       "\n",
       "[1083 rows x 5 columns]"
      ]
     },
     "execution_count": 18,
     "metadata": {},
     "output_type": "execute_result"
    }
   ],
   "source": [
    "exp2_df = exp2_df[['cik', 'tic', 'Year']]\n",
    "\n",
    "exp2_df['cluster_10'] = cluster(concatenated_np, 10)\n",
    "exp2_df['cluster_100'] = cluster(concatenated_np, 100)\n",
    "exp2_df"
   ]
  },
  {
   "cell_type": "markdown",
   "metadata": {},
   "source": [
    "### Evaluate"
   ]
  },
  {
   "cell_type": "code",
   "execution_count": 19,
   "metadata": {},
   "outputs": [
    {
     "name": "stdout",
     "output_type": "stream",
     "text": [
      "0.3802146200376737\n",
      "0.43152164040312174\n",
      "973\n"
     ]
    }
   ],
   "source": [
    "year = 2021\n",
    "mode = 'forward'  # Can be 'in-sample', 'forward', or 'backtest'\n",
    "# returns_long = fetch_stock_data(exp2_df, year, mode)\n",
    "returns_long = pd.read_csv(data_root+\"returns_long.csv\")\n",
    "\n",
    "exp2_returns = pd.merge(exp2_df, returns_long, on='tic', how='inner')\n",
    "\n",
    "exp2_intra_corrs_10 = intra_industry_correlations(exp2_returns, \"cluster_10\")\n",
    "exp2_avg_intra_corr_10 = np.nanmean(list(exp2_intra_corrs_10.values()))\n",
    "print(exp2_avg_intra_corr_10)\n",
    "\n",
    "exp2_intra_corrs_100 = intra_industry_correlations(exp2_returns, \"cluster_100\")\n",
    "exp2_avg_intra_corr_100 = np.nanmean(list(exp2_intra_corrs_100.values()))\n",
    "print(exp2_avg_intra_corr_100)\n",
    "\n",
    "print(len(exp2_returns['cik'].unique()))"
   ]
  }
 ],
 "metadata": {
  "kernelspec": {
   "display_name": "NLP",
   "language": "python",
   "name": "python3"
  },
  "language_info": {
   "codemirror_mode": {
    "name": "ipython",
    "version": 3
   },
   "file_extension": ".py",
   "mimetype": "text/x-python",
   "name": "python",
   "nbconvert_exporter": "python",
   "pygments_lexer": "ipython3",
   "version": "3.9.19"
  }
 },
 "nbformat": 4,
 "nbformat_minor": 2
}
