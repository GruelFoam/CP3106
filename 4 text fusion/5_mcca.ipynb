{
 "cells": [
  {
   "cell_type": "markdown",
   "metadata": {},
   "source": [
    "# Introduction: This is a MDCCA test."
   ]
  },
  {
   "cell_type": "code",
   "execution_count": 1,
   "metadata": {},
   "outputs": [],
   "source": [
    "import torch\n",
    "import torch.nn as nn\n",
    "import pandas as pd\n",
    "import numpy as np\n",
    "import json\n",
    "\n",
    "import sys\n",
    "sys.path.append('../0 utils/')\n",
    "from tool import *\n",
    "\n",
    "from sklearn.model_selection import train_test_split\n",
    "\n",
    "\n",
    "data_root = '../../MyData/'"
   ]
  },
  {
   "cell_type": "markdown",
   "metadata": {},
   "source": [
    "## Load data"
   ]
  },
  {
   "cell_type": "code",
   "execution_count": 2,
   "metadata": {},
   "outputs": [
    {
     "name": "stdout",
     "output_type": "stream",
     "text": [
      "1197\n",
      "       cik   tic  Year                                   item1_embeddings\n",
      "0   850460  WIRE  2021  [0.03955410048365593, -0.04159577935934067, -0...\n",
      "1   352541   LNT  2021  [-0.0231856107711792, 0.001279839314520359, 0....\n",
      "2  1704715   AMR  2021  [0.014074714854359627, 0.006938479840755463, 0...\n",
      "3  1575515   SFM  2021  [-0.023708730936050415, 0.01762891560792923, 0...\n",
      "4  1125376  ENSG  2021  [0.04463111609220505, 0.0018805989529937506, 0...\n",
      "1197\n",
      "       cik                           SP_SHORT_DESC_embeddings  \\\n",
      "0   850460  [0.01568225771188736, -0.07636360824108124, -0...   \n",
      "1   352541  [-0.013836896046996117, -0.028995024040341377,...   \n",
      "2  1704715  [0.0030535957776010036, 0.0008783274097368121,...   \n",
      "3  1575515  [-0.025762900710105896, 0.0034106436651200056,...   \n",
      "4  1125376  [0.04616139456629753, -0.0021259395871311426, ...   \n",
      "\n",
      "                             SP_LONG_DESC_embeddings  \\\n",
      "0  [0.06089901179075241, -0.07059630751609802, -0...   \n",
      "1  [-0.021961161866784096, 0.020302705466747284, ...   \n",
      "2  [-0.0017570963827893138, 0.006557094398885965,...   \n",
      "3  [-0.015190708450973034, 0.011541897431015968, ...   \n",
      "4  [0.05935207009315491, 0.0013673527864739299, 0...   \n",
      "\n",
      "                          ORBIS_PROD_SERV_embeddings  \\\n",
      "0                                                NaN   \n",
      "1  [-0.015400929376482964, 0.03232719004154205, -...   \n",
      "2  [-0.02030838653445244, -0.009386725723743439, ...   \n",
      "3  [-0.013177500106394291, 0.036401789635419846, ...   \n",
      "4  [0.029405493289232254, 0.014010551385581493, 0...   \n",
      "\n",
      "                           ORBIS_OVERVIEW_embeddings  \n",
      "0                                                NaN  \n",
      "1  [-0.041709959506988525, -0.011898815631866455,...  \n",
      "2  [-0.012340557761490345, -0.01428779773414135, ...  \n",
      "3  [-0.01883152313530445, 0.021741388365626335, 0...  \n",
      "4  [-0.006068837363272905, 0.010537531226873398, ...  \n",
      "1197\n"
     ]
    },
    {
     "data": {
      "text/html": [
       "<div>\n",
       "<style scoped>\n",
       "    .dataframe tbody tr th:only-of-type {\n",
       "        vertical-align: middle;\n",
       "    }\n",
       "\n",
       "    .dataframe tbody tr th {\n",
       "        vertical-align: top;\n",
       "    }\n",
       "\n",
       "    .dataframe thead th {\n",
       "        text-align: right;\n",
       "    }\n",
       "</style>\n",
       "<table border=\"1\" class=\"dataframe\">\n",
       "  <thead>\n",
       "    <tr style=\"text-align: right;\">\n",
       "      <th></th>\n",
       "      <th>cik</th>\n",
       "      <th>tic</th>\n",
       "      <th>Year</th>\n",
       "      <th>item1_embeddings</th>\n",
       "      <th>SP_SHORT_DESC_embeddings</th>\n",
       "      <th>SP_LONG_DESC_embeddings</th>\n",
       "      <th>ORBIS_PROD_SERV_embeddings</th>\n",
       "      <th>ORBIS_OVERVIEW_embeddings</th>\n",
       "    </tr>\n",
       "  </thead>\n",
       "  <tbody>\n",
       "    <tr>\n",
       "      <th>0</th>\n",
       "      <td>850460</td>\n",
       "      <td>WIRE</td>\n",
       "      <td>2021</td>\n",
       "      <td>[0.03955410048365593, -0.04159577935934067, -0...</td>\n",
       "      <td>[0.01568225771188736, -0.07636360824108124, -0...</td>\n",
       "      <td>[0.06089901179075241, -0.07059630751609802, -0...</td>\n",
       "      <td>NaN</td>\n",
       "      <td>NaN</td>\n",
       "    </tr>\n",
       "    <tr>\n",
       "      <th>1</th>\n",
       "      <td>352541</td>\n",
       "      <td>LNT</td>\n",
       "      <td>2021</td>\n",
       "      <td>[-0.0231856107711792, 0.001279839314520359, 0....</td>\n",
       "      <td>[-0.013836896046996117, -0.028995024040341377,...</td>\n",
       "      <td>[-0.021961161866784096, 0.020302705466747284, ...</td>\n",
       "      <td>[-0.015400929376482964, 0.03232719004154205, -...</td>\n",
       "      <td>[-0.041709959506988525, -0.011898815631866455,...</td>\n",
       "    </tr>\n",
       "    <tr>\n",
       "      <th>2</th>\n",
       "      <td>1704715</td>\n",
       "      <td>AMR</td>\n",
       "      <td>2021</td>\n",
       "      <td>[0.014074714854359627, 0.006938479840755463, 0...</td>\n",
       "      <td>[0.0030535957776010036, 0.0008783274097368121,...</td>\n",
       "      <td>[-0.0017570963827893138, 0.006557094398885965,...</td>\n",
       "      <td>[-0.02030838653445244, -0.009386725723743439, ...</td>\n",
       "      <td>[-0.012340557761490345, -0.01428779773414135, ...</td>\n",
       "    </tr>\n",
       "    <tr>\n",
       "      <th>3</th>\n",
       "      <td>1575515</td>\n",
       "      <td>SFM</td>\n",
       "      <td>2021</td>\n",
       "      <td>[-0.023708730936050415, 0.01762891560792923, 0...</td>\n",
       "      <td>[-0.025762900710105896, 0.0034106436651200056,...</td>\n",
       "      <td>[-0.015190708450973034, 0.011541897431015968, ...</td>\n",
       "      <td>[-0.013177500106394291, 0.036401789635419846, ...</td>\n",
       "      <td>[-0.01883152313530445, 0.021741388365626335, 0...</td>\n",
       "    </tr>\n",
       "    <tr>\n",
       "      <th>4</th>\n",
       "      <td>1125376</td>\n",
       "      <td>ENSG</td>\n",
       "      <td>2021</td>\n",
       "      <td>[0.04463111609220505, 0.0018805989529937506, 0...</td>\n",
       "      <td>[0.04616139456629753, -0.0021259395871311426, ...</td>\n",
       "      <td>[0.05935207009315491, 0.0013673527864739299, 0...</td>\n",
       "      <td>[0.029405493289232254, 0.014010551385581493, 0...</td>\n",
       "      <td>[-0.006068837363272905, 0.010537531226873398, ...</td>\n",
       "    </tr>\n",
       "  </tbody>\n",
       "</table>\n",
       "</div>"
      ],
      "text/plain": [
       "       cik   tic  Year                                   item1_embeddings  \\\n",
       "0   850460  WIRE  2021  [0.03955410048365593, -0.04159577935934067, -0...   \n",
       "1   352541   LNT  2021  [-0.0231856107711792, 0.001279839314520359, 0....   \n",
       "2  1704715   AMR  2021  [0.014074714854359627, 0.006938479840755463, 0...   \n",
       "3  1575515   SFM  2021  [-0.023708730936050415, 0.01762891560792923, 0...   \n",
       "4  1125376  ENSG  2021  [0.04463111609220505, 0.0018805989529937506, 0...   \n",
       "\n",
       "                            SP_SHORT_DESC_embeddings  \\\n",
       "0  [0.01568225771188736, -0.07636360824108124, -0...   \n",
       "1  [-0.013836896046996117, -0.028995024040341377,...   \n",
       "2  [0.0030535957776010036, 0.0008783274097368121,...   \n",
       "3  [-0.025762900710105896, 0.0034106436651200056,...   \n",
       "4  [0.04616139456629753, -0.0021259395871311426, ...   \n",
       "\n",
       "                             SP_LONG_DESC_embeddings  \\\n",
       "0  [0.06089901179075241, -0.07059630751609802, -0...   \n",
       "1  [-0.021961161866784096, 0.020302705466747284, ...   \n",
       "2  [-0.0017570963827893138, 0.006557094398885965,...   \n",
       "3  [-0.015190708450973034, 0.011541897431015968, ...   \n",
       "4  [0.05935207009315491, 0.0013673527864739299, 0...   \n",
       "\n",
       "                          ORBIS_PROD_SERV_embeddings  \\\n",
       "0                                                NaN   \n",
       "1  [-0.015400929376482964, 0.03232719004154205, -...   \n",
       "2  [-0.02030838653445244, -0.009386725723743439, ...   \n",
       "3  [-0.013177500106394291, 0.036401789635419846, ...   \n",
       "4  [0.029405493289232254, 0.014010551385581493, 0...   \n",
       "\n",
       "                           ORBIS_OVERVIEW_embeddings  \n",
       "0                                                NaN  \n",
       "1  [-0.041709959506988525, -0.011898815631866455,...  \n",
       "2  [-0.012340557761490345, -0.01428779773414135, ...  \n",
       "3  [-0.01883152313530445, 0.021741388365626335, 0...  \n",
       "4  [-0.006068837363272905, 0.010537531226873398, ...  "
      ]
     },
     "execution_count": 2,
     "metadata": {},
     "output_type": "execute_result"
    }
   ],
   "source": [
    "item1_embedding = pd.read_csv(data_root+'merged_1197.csv')\n",
    "item1_embedding = item1_embedding[['cik', 'tic', 'Year', 'item1_embeddings']]\n",
    "print(len(item1_embedding))\n",
    "print(item1_embedding.head())\n",
    "\n",
    "other_embedding = pd.read_csv(data_root+'output_embeddings_2.csv')\n",
    "other_embedding = other_embedding[['cik', 'SP_SHORT_DESC_embeddings', 'SP_LONG_DESC_embeddings', 'ORBIS_PROD_SERV_embeddings', 'ORBIS_OVERVIEW_embeddings']]\n",
    "print(len(other_embedding))\n",
    "print(other_embedding.head())\n",
    "\n",
    "total_embedding = pd.merge(item1_embedding, other_embedding, on=['cik'])\n",
    "\n",
    "# To reduce mem consumption\n",
    "item1_embedding = ''\n",
    "other_embedding = ''\n",
    "\n",
    "print(len(total_embedding))\n",
    "total_embedding.head()"
   ]
  },
  {
   "cell_type": "markdown",
   "metadata": {},
   "source": [
    "### Check dataset"
   ]
  },
  {
   "cell_type": "code",
   "execution_count": 3,
   "metadata": {},
   "outputs": [
    {
     "name": "stdout",
     "output_type": "stream",
     "text": [
      "The nan value proportion in each column:\n",
      "cik                           0.000000\n",
      "tic                           0.000000\n",
      "Year                          0.000000\n",
      "item1_embeddings              0.000000\n",
      "SP_SHORT_DESC_embeddings      0.041771\n",
      "SP_LONG_DESC_embeddings       0.095238\n",
      "ORBIS_PROD_SERV_embeddings    0.208020\n",
      "ORBIS_OVERVIEW_embeddings     0.168755\n",
      "dtype: float64\n",
      "\n",
      "\n"
     ]
    }
   ],
   "source": [
    "nan_proportion = total_embedding.isna().mean()\n",
    "print(f\"The nan value proportion in each column:\\n{nan_proportion}\\n\\n\")"
   ]
  },
  {
   "cell_type": "markdown",
   "metadata": {},
   "source": [
    "## Obtain tensors and prepare data"
   ]
  },
  {
   "cell_type": "code",
   "execution_count": 4,
   "metadata": {},
   "outputs": [
    {
     "name": "stdout",
     "output_type": "stream",
     "text": [
      "<class 'pandas.core.frame.DataFrame'>\n",
      "(926, 6)\n"
     ]
    }
   ],
   "source": [
    "target_list = ['item1_embeddings', 'SP_LONG_DESC_embeddings', 'ORBIS_OVERVIEW_embeddings']\n",
    "info_list = ['cik', 'tic', 'Year']\n",
    "\n",
    "exp_df = convert_to_array(total_embedding, info_list, target_list, 1536, True)\n",
    "print(type(exp_df))\n",
    "print(exp_df.shape)\n",
    "\n",
    "\n",
    "item1_np = np.vstack(exp_df['item1_embeddings'].values)\n",
    "sp_long_np = np.vstack(exp_df['SP_LONG_DESC_embeddings'].values)\n",
    "orbis_np = np.vstack(exp_df['ORBIS_OVERVIEW_embeddings'].values)\n",
    "# combined_array = np.concatenate([item1, sp_long, orbis], axis=1)"
   ]
  },
  {
   "cell_type": "code",
   "execution_count": 5,
   "metadata": {},
   "outputs": [
    {
     "name": "stdout",
     "output_type": "stream",
     "text": [
      "(926, 64)\n"
     ]
    },
    {
     "data": {
      "text/plain": [
       "array([[-0.00913671,  0.33057058, -0.08595407, ...,  0.05835451,\n",
       "         0.04172008,  0.03792392],\n",
       "       [-0.18024387,  0.23354474, -0.00663259, ..., -0.0321933 ,\n",
       "        -0.05652997,  0.00923388],\n",
       "       [ 0.08223159, -0.11439042,  0.22086727, ..., -0.0480291 ,\n",
       "        -0.01685086,  0.04102089],\n",
       "       ...,\n",
       "       [-0.13244995,  0.1267212 , -0.06033578, ..., -0.00981779,\n",
       "         0.03791275,  0.07942736],\n",
       "       [ 0.09807554, -0.08446089,  0.08403671, ..., -0.04416503,\n",
       "         0.0227295 , -0.056445  ],\n",
       "       [ 0.1400567 ,  0.00146885,  0.09743251, ...,  0.02663088,\n",
       "         0.0105495 , -0.09660603]])"
      ]
     },
     "execution_count": 5,
     "metadata": {},
     "output_type": "execute_result"
    }
   ],
   "source": [
    "from sklearn.decomposition import PCA\n",
    "'''\n",
    "If the dimension is too large (more than 128), the deep neural network get too complex,\n",
    "So it leads to severe overfitting.\n",
    "'''\n",
    "pca = PCA(n_components=64)\n",
    "item1_np = pca.fit_transform(item1_np)\n",
    "sp_long_np = pca.fit_transform(sp_long_np)\n",
    "orbis_np = pca.fit_transform(orbis_np)\n",
    "\n",
    "print(item1_np.shape)\n",
    "item1_np"
   ]
  },
  {
   "cell_type": "code",
   "execution_count": 6,
   "metadata": {},
   "outputs": [],
   "source": [
    "train_idx, test_idx = train_test_split(np.arange(len(item1_np)), test_size=0.2, random_state=42)\n",
    "# val_idx, test_idx = train_test_split(temp_idx, test_size=0.5, random_state=42)\n",
    "\n",
    "# Split data using the computed indices\n",
    "item1_train, item1_test = item1_np[train_idx], item1_np[test_idx]\n",
    "sp_long_train, sp_long_test = sp_long_np[train_idx], sp_long_np[test_idx]\n",
    "orbis_train, orbis_test = orbis_np[train_idx], orbis_np[test_idx]\n"
   ]
  },
  {
   "cell_type": "code",
   "execution_count": null,
   "metadata": {},
   "outputs": [],
   "source": []
  },
  {
   "cell_type": "markdown",
   "metadata": {},
   "source": [
    "# Experiment 1: Utilize MCCA"
   ]
  },
  {
   "cell_type": "code",
   "execution_count": 7,
   "metadata": {},
   "outputs": [],
   "source": [
    "from mvlearn.embed import MCCA\n",
    "\n",
    "mcca = MCCA(n_components=16)\n",
    "mcca.fit([item1_train, sp_long_train, orbis_train])\n",
    "Xs_scores = mcca.transform([item1_test, sp_long_test, orbis_test])"
   ]
  },
  {
   "cell_type": "code",
   "execution_count": 8,
   "metadata": {},
   "outputs": [
    {
     "name": "stdout",
     "output_type": "stream",
     "text": [
      "Average correlation: 0.9317512339302385\n"
     ]
    }
   ],
   "source": [
    "# Compute correlation for each row\n",
    "def row_correlation(x, y):\n",
    "    x_mean = torch.mean(x, dim=1, keepdim=True)\n",
    "    y_mean = torch.mean(y, dim=1, keepdim=True)\n",
    "    \n",
    "    x_centered = x - x_mean\n",
    "    y_centered = y - y_mean\n",
    "    \n",
    "    numerator = (x_centered * y_centered).sum(dim=1)\n",
    "    denominator = torch.sqrt((x_centered ** 2).sum(dim=1) * (y_centered ** 2).sum(dim=1))\n",
    "    \n",
    "    correlation = numerator / denominator\n",
    "    return correlation\n",
    "\n",
    "correlations = row_correlation(torch.tensor(Xs_scores[0]), torch.tensor(Xs_scores[1]))\n",
    "\n",
    "# Compute the average correlation\n",
    "average_correlation = correlations.mean()\n",
    "\n",
    "print(\"Average correlation:\", average_correlation.item())"
   ]
  },
  {
   "cell_type": "markdown",
   "metadata": {},
   "source": [
    "## Taking average"
   ]
  },
  {
   "cell_type": "code",
   "execution_count": 9,
   "metadata": {},
   "outputs": [
    {
     "name": "stdout",
     "output_type": "stream",
     "text": [
      "(926, 16)\n"
     ]
    },
    {
     "data": {
      "text/plain": [
       "array([[-0.0313309 , -0.00594768,  0.04087957, ...,  0.01139515,\n",
       "         0.00929451,  0.0176191 ],\n",
       "       [-0.00921806, -0.02913307,  0.04008278, ..., -0.03280003,\n",
       "        -0.00291652, -0.01013059],\n",
       "       [ 0.05306762,  0.0253674 ,  0.04456594, ...,  0.03027088,\n",
       "        -0.03060049, -0.01094752],\n",
       "       ...,\n",
       "       [-0.01131895, -0.02913275,  0.00985133, ...,  0.00189046,\n",
       "         0.00854678,  0.0179292 ],\n",
       "       [ 0.01960038,  0.0258044 , -0.00507032, ...,  0.0125269 ,\n",
       "         0.02968103, -0.00758456],\n",
       "       [-0.00495295,  0.01298679, -0.00428133, ..., -0.01560733,\n",
       "         0.06471052, -0.03134573]])"
      ]
     },
     "execution_count": 9,
     "metadata": {},
     "output_type": "execute_result"
    }
   ],
   "source": [
    "Xs_scores = mcca.transform([item1_np, sp_long_np, orbis_np])\n",
    "mean_array = np.mean(Xs_scores, axis=0)\n",
    "\n",
    "print(mean_array.shape)\n",
    "mean_array"
   ]
  },
  {
   "cell_type": "markdown",
   "metadata": {},
   "source": [
    "## clustering and evaluation"
   ]
  },
  {
   "cell_type": "code",
   "execution_count": 10,
   "metadata": {},
   "outputs": [
    {
     "name": "stdout",
     "output_type": "stream",
     "text": [
      "Normalized Within-Cluster Sum of Squares (WCSS): 0.0002612562391511547\n",
      "Normalized Within-Cluster Sum of Squares (WCSS): 9.015054245960859e-05\n"
     ]
    },
    {
     "data": {
      "text/html": [
       "<div>\n",
       "<style scoped>\n",
       "    .dataframe tbody tr th:only-of-type {\n",
       "        vertical-align: middle;\n",
       "    }\n",
       "\n",
       "    .dataframe tbody tr th {\n",
       "        vertical-align: top;\n",
       "    }\n",
       "\n",
       "    .dataframe thead th {\n",
       "        text-align: right;\n",
       "    }\n",
       "</style>\n",
       "<table border=\"1\" class=\"dataframe\">\n",
       "  <thead>\n",
       "    <tr style=\"text-align: right;\">\n",
       "      <th></th>\n",
       "      <th>cik</th>\n",
       "      <th>tic</th>\n",
       "      <th>Year</th>\n",
       "      <th>cluster_10</th>\n",
       "      <th>cluster_100</th>\n",
       "    </tr>\n",
       "  </thead>\n",
       "  <tbody>\n",
       "    <tr>\n",
       "      <th>1</th>\n",
       "      <td>352541</td>\n",
       "      <td>LNT</td>\n",
       "      <td>2021</td>\n",
       "      <td>6</td>\n",
       "      <td>8</td>\n",
       "    </tr>\n",
       "    <tr>\n",
       "      <th>2</th>\n",
       "      <td>1704715</td>\n",
       "      <td>AMR</td>\n",
       "      <td>2021</td>\n",
       "      <td>8</td>\n",
       "      <td>15</td>\n",
       "    </tr>\n",
       "    <tr>\n",
       "      <th>3</th>\n",
       "      <td>1575515</td>\n",
       "      <td>SFM</td>\n",
       "      <td>2021</td>\n",
       "      <td>0</td>\n",
       "      <td>0</td>\n",
       "    </tr>\n",
       "    <tr>\n",
       "      <th>4</th>\n",
       "      <td>1125376</td>\n",
       "      <td>ENSG</td>\n",
       "      <td>2021</td>\n",
       "      <td>1</td>\n",
       "      <td>32</td>\n",
       "    </tr>\n",
       "    <tr>\n",
       "      <th>5</th>\n",
       "      <td>1674335</td>\n",
       "      <td>JELD</td>\n",
       "      <td>2021</td>\n",
       "      <td>3</td>\n",
       "      <td>58</td>\n",
       "    </tr>\n",
       "    <tr>\n",
       "      <th>...</th>\n",
       "      <td>...</td>\n",
       "      <td>...</td>\n",
       "      <td>...</td>\n",
       "      <td>...</td>\n",
       "      <td>...</td>\n",
       "    </tr>\n",
       "    <tr>\n",
       "      <th>1190</th>\n",
       "      <td>1653653</td>\n",
       "      <td>RRR</td>\n",
       "      <td>2021</td>\n",
       "      <td>3</td>\n",
       "      <td>27</td>\n",
       "    </tr>\n",
       "    <tr>\n",
       "      <th>1191</th>\n",
       "      <td>1627223</td>\n",
       "      <td>CC</td>\n",
       "      <td>2021</td>\n",
       "      <td>8</td>\n",
       "      <td>85</td>\n",
       "    </tr>\n",
       "    <tr>\n",
       "      <th>1192</th>\n",
       "      <td>1021860</td>\n",
       "      <td>NOV</td>\n",
       "      <td>2021</td>\n",
       "      <td>8</td>\n",
       "      <td>46</td>\n",
       "    </tr>\n",
       "    <tr>\n",
       "      <th>1193</th>\n",
       "      <td>1744489</td>\n",
       "      <td>DIS</td>\n",
       "      <td>2021</td>\n",
       "      <td>9</td>\n",
       "      <td>64</td>\n",
       "    </tr>\n",
       "    <tr>\n",
       "      <th>1196</th>\n",
       "      <td>100517</td>\n",
       "      <td>UAL</td>\n",
       "      <td>2021</td>\n",
       "      <td>2</td>\n",
       "      <td>54</td>\n",
       "    </tr>\n",
       "  </tbody>\n",
       "</table>\n",
       "<p>926 rows × 5 columns</p>\n",
       "</div>"
      ],
      "text/plain": [
       "          cik   tic  Year  cluster_10  cluster_100\n",
       "1      352541   LNT  2021           6            8\n",
       "2     1704715   AMR  2021           8           15\n",
       "3     1575515   SFM  2021           0            0\n",
       "4     1125376  ENSG  2021           1           32\n",
       "5     1674335  JELD  2021           3           58\n",
       "...       ...   ...   ...         ...          ...\n",
       "1190  1653653   RRR  2021           3           27\n",
       "1191  1627223    CC  2021           8           85\n",
       "1192  1021860   NOV  2021           8           46\n",
       "1193  1744489   DIS  2021           9           64\n",
       "1196   100517   UAL  2021           2           54\n",
       "\n",
       "[926 rows x 5 columns]"
      ]
     },
     "execution_count": 10,
     "metadata": {},
     "output_type": "execute_result"
    }
   ],
   "source": [
    "exp1_df = exp_df[['cik', 'tic', 'Year']].copy()\n",
    "exp1_df['cluster_10'] = cluster(mean_array, 10)\n",
    "exp1_df['cluster_100'] = cluster(mean_array, 100)\n",
    "exp1_df"
   ]
  },
  {
   "cell_type": "code",
   "execution_count": 11,
   "metadata": {},
   "outputs": [
    {
     "name": "stdout",
     "output_type": "stream",
     "text": [
      "0.37863365909631813\n",
      "0.4495877112659854\n",
      "924\n"
     ]
    }
   ],
   "source": [
    "year = 2021\n",
    "mode = 'forward'  # Can be 'in-sample', 'forward', or 'backtest'\n",
    "# returns_long = fetch_stock_data(exp1_df, year, mode)\n",
    "returns_long = pd.read_csv(data_root+\"returns_long.csv\")\n",
    "\n",
    "exp1_returns = pd.merge(exp1_df, returns_long, on='tic', how='inner')\n",
    "\n",
    "exp1_intra_corrs_10 = intra_industry_correlations(exp1_returns, \"cluster_10\")\n",
    "exp1_avg_intra_corr_10 = np.nanmean(list(exp1_intra_corrs_10.values()))\n",
    "print(exp1_avg_intra_corr_10)\n",
    "\n",
    "exp1_intra_corrs_100 = intra_industry_correlations(exp1_returns, \"cluster_100\")\n",
    "exp1_avg_intra_corr_100 = np.nanmean(list(exp1_intra_corrs_100.values()))\n",
    "print(exp1_avg_intra_corr_100)\n",
    "\n",
    "print(len(exp1_returns['cik'].unique()))"
   ]
  },
  {
   "cell_type": "code",
   "execution_count": 12,
   "metadata": {},
   "outputs": [
    {
     "data": {
      "image/png": "[encoded data removed]",
      "text/plain": [
       "<Figure size 1000x800 with 1 Axes>"
      ]
     },
     "metadata": {},
     "output_type": "display_data"
    }
   ],
   "source": [
    "show_cluster_graph(mean_array, exp1_df['cluster_10'])"
   ]
  },
  {
   "cell_type": "code",
   "execution_count": null,
   "metadata": {},
   "outputs": [],
   "source": [
    "# exp1_df.to_csv('./mid_data/5_cca.csv', index=False)"
   ]
  },
  {
   "cell_type": "code",
   "execution_count": null,
   "metadata": {},
   "outputs": [],
   "source": []
  },
  {
   "cell_type": "code",
   "execution_count": null,
   "metadata": {},
   "outputs": [],
   "source": []
  },
  {
   "cell_type": "markdown",
   "metadata": {},
   "source": [
    "# Experiment 2: Utilizing KMCCA"
   ]
  },
  {
   "cell_type": "code",
   "execution_count": 7,
   "metadata": {},
   "outputs": [],
   "source": [
    "import numpy as np\n",
    "from mvlearn.embed import KMCCA\n",
    "from mvlearn.model_selection import train_test_split\n",
    "from mvlearn.plotting import crossviews_plot\n",
    "import warnings\n",
    "warnings.filterwarnings(\"ignore\")"
   ]
  },
  {
   "cell_type": "code",
   "execution_count": 42,
   "metadata": {},
   "outputs": [
    {
     "name": "stdout",
     "output_type": "stream",
     "text": [
      "Test data canonical correlations: [[[1.         0.95956673 0.92344635]\n",
      "  [0.95956673 1.         0.93363075]\n",
      "  [0.92344635 0.93363075 1.        ]]\n",
      "\n",
      " [[1.         0.94101292 0.87654199]\n",
      "  [0.94101292 1.         0.88767326]\n",
      "  [0.87654199 0.88767326 1.        ]]\n",
      "\n",
      " [[1.         0.90572975 0.83664873]\n",
      "  [0.90572975 1.         0.89263684]\n",
      "  [0.83664873 0.89263684 1.        ]]\n",
      "\n",
      " [[1.         0.81815654 0.81593348]\n",
      "  [0.81815654 1.         0.79644686]\n",
      "  [0.81593348 0.79644686 1.        ]]]\n"
     ]
    }
   ],
   "source": [
    "np.random.seed(1)\n",
    "Xs = [item1_np, sp_long_np, orbis_np]\n",
    "Xs_train, Xs_test = train_test_split(Xs, test_size=0.3, random_state=42)\n",
    "\n",
    "kmcca = KMCCA(#kernel=\"poly\", kernel_params={'degree': 2.0, 'coef0': 0.1},\n",
    "              n_components=4, regs=0.01)\n",
    "scores = kmcca.fit_transform(Xs_test)\n",
    "\n",
    "# crossviews_plot(Xs, ax_ticks=False, ax_labels=True, equal_axes=True,\n",
    "#                 title='Simulated data crossplot: linear setting')\n",
    "\n",
    "# crossviews_plot(scores, ax_ticks=False, ax_labels=True, equal_axes=True,\n",
    "#                 title='Scores crossplot: linear KMCCA')\n",
    "\n",
    "# Now, we assess the canonical correlations achieved on the testing data\n",
    "\n",
    "print(f'Test data canonical correlations: {kmcca.canon_corrs(scores)}')"
   ]
  },
  {
   "cell_type": "code",
   "execution_count": 33,
   "metadata": {},
   "outputs": [
    {
     "name": "stdout",
     "output_type": "stream",
     "text": [
      "(3, 926, 64)\n"
     ]
    },
    {
     "data": {
      "text/plain": [
       "array([[[ 0.01942114, -0.01512443, -0.00708654, ...,  0.03962057,\n",
       "         -0.05203991,  0.01204564],\n",
       "        [-0.03333805, -0.04956414, -0.00395727, ..., -0.04695106,\n",
       "         -0.07791196,  0.08718288],\n",
       "        [-0.02097078,  0.10214895,  0.03806294, ...,  0.06043824,\n",
       "          0.09153933, -0.01061011],\n",
       "        ...,\n",
       "        [-0.03143817, -0.04442336, -0.01186916, ...,  0.01969703,\n",
       "          0.06050433, -0.04944281],\n",
       "        [-0.00758463,  0.02526037,  0.00010218, ..., -0.07798242,\n",
       "          0.01983374, -0.01369057],\n",
       "        [ 0.01993237,  0.04042144, -0.04947285, ..., -0.047914  ,\n",
       "         -0.04717159, -0.02510294]],\n",
       "\n",
       "       [[ 0.01296415, -0.01481236, -0.03062365, ..., -0.05188687,\n",
       "         -0.00825696,  0.03091947],\n",
       "        [-0.03875078, -0.04663553, -0.01196271, ..., -0.05904962,\n",
       "         -0.03024961,  0.02283951],\n",
       "        [-0.03105114,  0.09870569,  0.04396885, ...,  0.01618188,\n",
       "         -0.01657919,  0.02253552],\n",
       "        ...,\n",
       "        [-0.0248286 , -0.04193686, -0.01380082, ..., -0.03147285,\n",
       "          0.04373827,  0.01998885],\n",
       "        [ 0.00672984,  0.03040892, -0.00554567, ...,  0.01348659,\n",
       "          0.00687892, -0.02283439],\n",
       "        [ 0.00872565,  0.0318299 , -0.02972995, ..., -0.06411567,\n",
       "          0.0172108 ,  0.00465315]],\n",
       "\n",
       "       [[ 0.0039232 ,  0.00544854, -0.03076468, ..., -0.04822223,\n",
       "         -0.0300838 ,  0.01884553],\n",
       "        [-0.02391527, -0.03494991, -0.02514235, ..., -0.03562894,\n",
       "          0.00144257,  0.00684448],\n",
       "        [-0.01618993,  0.09901419,  0.0461406 , ...,  0.03095753,\n",
       "         -0.03928459,  0.04819715],\n",
       "        ...,\n",
       "        [-0.03397504, -0.04335426, -0.03044033, ...,  0.05847008,\n",
       "         -0.01428455, -0.00761369],\n",
       "        [-0.00761008,  0.01084473, -0.01344162, ..., -0.01348695,\n",
       "         -0.02601412,  0.0492992 ],\n",
       "        [ 0.01341859, -0.00264318, -0.03213168, ...,  0.08124774,\n",
       "         -0.00112623,  0.03951323]]])"
      ]
     },
     "execution_count": 33,
     "metadata": {},
     "output_type": "execute_result"
    }
   ],
   "source": [
    "Xs_transformed = kmcca.transform(Xs)\n",
    "print(Xs_transformed.shape)\n",
    "Xs_transformed"
   ]
  }
 ],
 "metadata": {
  "kernelspec": {
   "display_name": "NLP",
   "language": "python",
   "name": "python3"
  },
  "language_info": {
   "codemirror_mode": {
    "name": "ipython",
    "version": 3
   },
   "file_extension": ".py",
   "mimetype": "text/x-python",
   "name": "python",
   "nbconvert_exporter": "python",
   "pygments_lexer": "ipython3",
   "version": "3.9.19"
  }
 },
 "nbformat": 4,
 "nbformat_minor": 2
}
