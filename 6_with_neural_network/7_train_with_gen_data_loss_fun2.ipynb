{
 "cells": [
  {
   "cell_type": "markdown",
   "metadata": {},
   "source": [
    "# In this notebook\n",
    "\n",
    "training data is generated from the combinations of different description embeddings.\n",
    "\n",
    "Loss function only considers positive pairs (All the other pairs will be considers as negative ones).\n",
    "\n",
    "Loss function from tutorial: [tutorial](https://github.com/dhruvbird/ml-notebooks/blob/main/nt-xent-loss/NT-Xent%20Loss.ipynb), which is based on binary cross entropy loss"
   ]
  },
  {
   "cell_type": "code",
   "execution_count": 1,
   "metadata": {},
   "outputs": [],
   "source": [
    "import pandas as pd\n",
    "import numpy as np\n",
    "import json\n",
    "\n",
    "import torch\n",
    "from torch.utils.data import Dataset, DataLoader\n",
    "import torch.nn as nn\n",
    "import torch.optim as optim\n",
    "import torch.nn.functional as F\n",
    "\n",
    "\n",
    "import sys\n",
    "import os\n",
    "sys.path.append(os.path.abspath('../'))\n",
    "from tool import *\n",
    "\n",
    "import matplotlib.pyplot as plt\n",
    "\n",
    "\n",
    "data_root = '../../MyData/'"
   ]
  },
  {
   "cell_type": "markdown",
   "metadata": {},
   "source": [
    "# New load data"
   ]
  },
  {
   "cell_type": "code",
   "execution_count": 2,
   "metadata": {},
   "outputs": [
    {
     "name": "stdout",
     "output_type": "stream",
     "text": [
      "torch.Size([34683, 256])\n",
      "torch.Size([34683])\n",
      "torch.Size([1197, 256])\n",
      "torch.Size([1197])\n"
     ]
    }
   ],
   "source": [
    "train_data = torch.load(\"../5_synthetic_data_generation/data/train_data.pth\")\n",
    "train_label = torch.load(\"../5_synthetic_data_generation/data/train_label.pth\")\n",
    "test_data = torch.load(\"../5_synthetic_data_generation/data/test_data.pth\")\n",
    "test_label = torch.arange(1197)\n",
    "\n",
    "print(train_data.shape)\n",
    "print(train_label.shape)\n",
    "print(test_data.shape)\n",
    "print(test_label.shape)"
   ]
  },
  {
   "cell_type": "code",
   "execution_count": 6,
   "metadata": {},
   "outputs": [
    {
     "name": "stdout",
     "output_type": "stream",
     "text": [
      "1197\n",
      "CIK to Index Mapping: {850460: 0, 352541: 1, 1704715: 2, 1575515: 3, 1125376: 4, 1674335: 5, 1023128: 6, 1262039: 7, 1122976: 8, 1128928: 9, 58492: 10, 40533: 11, 1370946: 12, 1469367: 13, 858655: 14, 1486159: 15, 70145: 16, 77476: 17, 1593034: 18, 1140536: 19, 1353283: 20, 912728: 21, 73309: 22, 1754301: 23, 882796: 24, 1309402: 25, 1524358: 26, 80424: 27, 1551182: 28, 1283699: 29, 1158172: 30, 8947: 31, 804328: 32, 1120370: 33, 1655075: 34, 1361658: 35, 40987: 36, 1320414: 37, 1584509: 38, 1466301: 39, 1552033: 40, 1281761: 41, 93410: 42, 76282: 43, 19584: 44, 723531: 45, 1530804: 46, 101984: 47, 910329: 48, 5513: 49, 31462: 50, 1338749: 51, 1409171: 52, 821026: 53, 817720: 54, 5272: 55, 1013871: 56, 1111928: 57, 1393818: 58, 66382: 59, 812011: 60, 730708: 61, 1672013: 62, 1109242: 63, 883945: 64, 1527166: 65, 1421461: 66, 355811: 67, 1262823: 68, 26058: 69, 14930: 70, 1637459: 71, 892553: 72, 1345016: 73, 844965: 74, 1318220: 75, 819793: 76, 1175454: 77, 936468: 78, 29989: 79, 352915: 80, 98222: 81, 1393066: 82, 200406: 83, 890564: 84, 42888: 85, 59440: 86, 719955: 87, 828944: 88, 102037: 89, 1084869: 90, 1481792: 91, 3453: 92, 1747079: 93, 87347: 94, 896159: 95, 1104657: 96, 47111: 97, 1549922: 98, 25232: 99, 1323885: 100, 1808997: 101, 27419: 102, 1401257: 103, 75208: 104, 912093: 105, 46080: 106, 1555280: 107, 1332349: 108, 930420: 109, 1025378: 110, 821189: 111, 1041859: 112, 1415404: 113, 1289460: 114, 103379: 115, 51143: 116, 1402057: 117, 60086: 118, 737758: 119, 1501585: 120, 1289848: 121, 313616: 122, 1326160: 123, 808326: 124, 932696: 125, 879101: 126, 1300514: 127, 4904: 128, 1664703: 129, 717423: 130, 73088: 131, 945841: 132, 1398987: 133, 1685040: 134, 898173: 135, 1037646: 136, 1579241: 137, 1466258: 138, 874766: 139, 1712923: 140, 1462418: 141, 889900: 142, 1065696: 143, 1018963: 144, 1433270: 145, 899051: 146, 922621: 147, 880117: 148, 895447: 149, 910612: 150, 920148: 151, 39899: 152, 26172: 153, 1341439: 154, 1171759: 155, 886128: 156, 764065: 157, 1709164: 158, 931015: 159, 1486957: 160, 837465: 161, 1434588: 162, 771266: 163, 718877: 164, 9092: 165, 51253: 166, 89089: 167, 102729: 168, 1067294: 169, 1528356: 170, 21344: 171, 72971: 172, 885725: 173, 20212: 174, 815556: 175, 6176: 176, 898293: 177, 899689: 178, 1065837: 179, 1413898: 180, 1111711: 181, 899751: 182, 920522: 183, 1368265: 184, 1227654: 185, 1674862: 186, 1319947: 187, 1306830: 188, 99780: 189, 1590714: 190, 1021635: 191, 105418: 192, 840489: 193, 310764: 194, 707549: 195, 1113809: 196, 743238: 197, 56873: 198, 78128: 199, 859737: 200, 897723: 201, 27996: 202, 1519751: 203, 9984: 204, 711377: 205, 103730: 206, 318154: 207, 1739104: 208, 20286: 209, 69488: 210, 1739445: 211, 1745916: 212, 1123360: 213, 1020569: 214, 700564: 215, 823768: 216, 1325879: 217, 1086600: 218, 32604: 219, 1180262: 220, 1289308: 221, 914712: 222, 1289419: 223, 861459: 224, 860413: 225, 9389: 226, 889331: 227, 313927: 228, 883902: 229, 68505: 230, 1722482: 231, 1421182: 232, 818686: 233, 1362468: 234, 1020710: 235, 1232524: 236, 19617: 237, 1633917: 238, 1389170: 239, 1617406: 240, 1638833: 241, 1002047: 242, 89800: 243, 923120: 244, 7431: 245, 906163: 246, 1288847: 247, 878927: 248, 1400891: 249, 832428: 250, 1237831: 251, 746515: 252, 1467373: 253, 1587523: 254, 1529864: 255, 1499832: 256, 1681459: 257, 1722684: 258, 1579298: 259, 1096343: 260, 811596: 261, 1692819: 262, 1290900: 263, 1409970: 264, 1551152: 265, 1739940: 266, 943819: 267, 799233: 268, 1267238: 269, 1730168: 270, 1590976: 271, 320193: 272, 1057877: 273, 1801075: 274, 1527469: 275, 812074: 276, 891532: 277, 97216: 278, 318833: 279, 1070985: 280, 40704: 281, 33488: 282, 855658: 283, 726601: 284, 1054905: 285, 1509589: 286, 1289490: 287, 1046311: 288, 1126328: 289, 914208: 290, 1258602: 291, 1043509: 292, 100885: 293, 746598: 294, 945764: 295, 1690820: 296, 350698: 297, 5981: 298, 357173: 299, 4281: 300, 7084: 301, 766704: 302, 1592000: 303, 1304421: 304, 943452: 305, 764478: 306, 1757898: 307, 1707925: 308, 34903: 309, 1035267: 310, 714395: 311, 28412: 312, 95029: 313, 8818: 314, 1070412: 315, 98362: 316, 793952: 317, 26780: 318, 1001082: 319, 33185: 320, 1273931: 321, 1318605: 322, 1472787: 323, 354647: 324, 20520: 325, 820318: 326, 910073: 327, 94049: 328, 914025: 329, 77360: 330, 810332: 331, 7332: 332, 1396814: 333, 55135: 334, 820027: 335, 920371: 336, 1335258: 337, 1002910: 338, 1562476: 339, 1015328: 340, 857005: 341, 49826: 342, 1156388: 343, 866374: 344, 730263: 345, 9326: 346, 1035983: 347, 35527: 348, 1603923: 349, 701374: 350, 104918: 351, 811156: 352, 1374310: 353, 64803: 354, 91767: 355, 723603: 356, 1042046: 357, 1039684: 358, 866273: 359, 1753886: 360, 851968: 361, 1545654: 362, 1410636: 363, 1064728: 364, 72741: 365, 1005757: 366, 1043337: 367, 1176948: 368, 1177394: 369, 1077771: 370, 902791: 371, 1573516: 372, 37808: 373, 933036: 374, 1420800: 375, 1032033: 376, 1033012: 377, 1364742: 378, 12927: 379, 106640: 380, 316709: 381, 31791: 382, 1100682: 383, 922224: 384, 106040: 385, 1297184: 386, 886346: 387, 75252: 388, 59478: 389, 1069258: 390, 230557: 391, 55785: 392, 24741: 393, 1067983: 394, 814585: 395, 16040: 396, 1514705: 397, 1156039: 398, 1488813: 399, 785161: 400, 1410172: 401, 1336917: 402, 1636222: 403, 1408075: 404, 860546: 405, 1124804: 406, 1783180: 407, 1403568: 408, 818479: 409, 750004: 410, 1575965: 411, 1001250: 412, 1156375: 413, 46195: 414, 875045: 415, 7536: 416, 1688476: 417, 275053: 418, 1219601: 419, 1163302: 420, 879526: 421, 277135: 422, 1145986: 423, 1130310: 424, 917470: 425, 51644: 426, 1047862: 427, 1230245: 428, 16875: 429, 37785: 430, 1320854: 431, 1673985: 432, 1040829: 433, 1590895: 434, 892537: 435, 1618673: 436, 1071739: 437, 1451505: 438, 107263: 439, 871763: 440, 766829: 441, 773141: 442, 1144215: 443, 1164727: 444, 310158: 445, 940942: 446, 1592386: 447, 912463: 448, 875357: 449, 1571949: 450, 1018724: 451, 1095073: 452, 912767: 453, 789019: 454, 1708055: 455, 352825: 456, 104169: 457, 14693: 458, 1021162: 459, 91419: 460, 1564708: 461, 46129: 462, 1058623: 463, 21510: 464, 1136352: 465, 1255474: 466, 66570: 467, 896156: 468, 1164863: 469, 1037868: 470, 1053352: 471, 745308: 472, 1041803: 473, 1403161: 474, 1677703: 475, 764401: 476, 945114: 477, 1561680: 478, 1276187: 479, 1174922: 480, 1576940: 481, 102212: 482, 90498: 483, 916365: 484, 1274494: 485, 1012019: 486, 913760: 487, 842633: 488, 88205: 489, 48898: 490, 56047: 491, 37996: 492, 912242: 493, 1402829: 494, 910521: 495, 898437: 496, 927653: 497, 882835: 498, 1466026: 499, 1060822: 500, 43920: 501, 1633931: 502, 1032208: 503, 1467858: 504, 929008: 505, 67887: 506, 1492633: 507, 1437107: 508, 74303: 509, 1320695: 510, 29644: 511, 1047335: 512, 1515156: 513, 1326801: 514, 88948: 515, 62996: 516, 1138118: 517, 1601548: 518, 1090727: 519, 1069899: 520, 916076: 521, 1133421: 522, 882095: 523, 861884: 524, 917520: 525, 883984: 526, 100493: 527, 1031203: 528, 1050797: 529, 1455684: 530, 918541: 531, 906553: 532, 877890: 533, 1362004: 534, 88941: 535, 1584207: 536, 745732: 537, 753308: 538, 702165: 539, 103145: 540, 61986: 541, 1057706: 542, 915779: 543, 58361: 544, 79282: 545, 1031296: 546, 921557: 547, 1274173: 548, 1669779: 549, 77543: 550, 1616318: 551, 54381: 552, 1082554: 553, 912595: 554, 1324272: 555, 1099219: 556, 105770: 557, 1368458: 558, 876427: 559, 55242: 560, 1395942: 561, 354190: 562, 866787: 563, 1390777: 564, 49071: 565, 1800: 566, 723254: 567, 1321646: 568, 1396033: 569, 1597672: 570, 760498: 571, 78003: 572, 71829: 573, 1001385: 574, 1365135: 575, 1124610: 576, 794367: 577, 1090425: 578, 1060349: 579, 14707: 580, 1535929: 581, 1120193: 582, 861842: 583, 861878: 584, 886982: 585, 10795: 586, 1699150: 587, 1142750: 588, 91576: 589, 814453: 590, 1418135: 591, 1528849: 592, 1109354: 593, 107140: 594, 45876: 595, 723125: 596, 1637207: 597, 764622: 598, 1770450: 599, 1102934: 600, 1393311: 601, 763532: 602, 1701605: 603, 102752: 604, 1783400: 605, 45012: 606, 1356090: 607, 918646: 608, 315213: 609, 1616707: 610, 1525769: 611, 1613103: 612, 1585689: 613, 1364885: 614, 82811: 615, 1477294: 616, 320335: 617, 1518715: 618, 1016281: 619, 726728: 620, 877422: 621, 39311: 622, 1141391: 623, 1316835: 624, 877212: 625, 1169445: 626, 949157: 627, 1647088: 628, 712515: 629, 1687187: 630, 110621: 631, 98677: 632, 769397: 633, 768835: 634, 1034670: 635, 93676: 636, 912752: 637, 80035: 638, 1305323: 639, 4977: 640, 75362: 641, 1006837: 642, 1517175: 643, 1096056: 644, 1124198: 645, 933136: 646, 916789: 647, 24545: 648, 1141103: 649, 860748: 650, 1376339: 651, 873860: 652, 1498710: 653, 15615: 654, 1136869: 655, 1157408: 656, 1058090: 657, 879169: 658, 69891: 659, 1063761: 660, 1604821: 661, 7789: 662, 354950: 663, 91142: 664, 48287: 665, 921738: 666, 1546417: 667, 789570: 668, 1046568: 669, 1078207: 670, 19745: 671, 1050915: 672, 18498: 673, 90896: 674, 1418100: 675, 833079: 676, 1060391: 677, 1324404: 678, 884219: 679, 917491: 680, 1354327: 681, 1116942: 682, 92230: 683, 16099: 684, 832988: 685, 1069202: 686, 1315257: 687, 789933: 688, 763901: 689, 910638: 690, 874499: 691, 30305: 692, 1101302: 693, 23217: 694, 933034: 695, 29669: 696, 35214: 697, 815097: 698, 1040971: 699, 791963: 700, 1543151: 701, 16160: 702, 915840: 703, 1039065: 704, 4457: 705, 896878: 706, 703604: 707, 1334978: 708, 1296435: 709, 906345: 710, 885550: 711, 79879: 712, 46619: 713, 1067701: 714, 92122: 715, 944809: 716, 1564902: 717, 70318: 718, 96943: 719, 1580905: 720, 874501: 721, 912615: 722, 354707: 723, 26324: 724, 1005210: 725, 884624: 726, 1124941: 727, 1751788: 728, 1069878: 729, 1390478: 730, 1598428: 731, 811532: 732, 793733: 733, 1368622: 734, 1135185: 735, 1275187: 736, 1324948: 737, 1067837: 738, 728535: 739, 38725: 740, 860731: 741, 1021561: 742, 1618756: 743, 1609804: 744, 1397911: 745, 1065280: 746, 1296445: 747, 41719: 748, 857855: 749, 1320461: 750, 816956: 751, 1790982: 752, 1040130: 753, 913144: 754, 1402436: 755, 1657853: 756, 278166: 757, 86312: 758, 716634: 759, 842162: 760, 1590715: 761, 825542: 762, 789460: 763, 1014111: 764, 924822: 765, 1378992: 766, 74260: 767, 29905: 768, 895728: 769, 1116132: 770, 109380: 771, 1144980: 772, 712534: 773, 790051: 774, 1282648: 775, 39911: 776, 1043604: 777, 1474735: 778, 1022671: 779, 866706: 780, 1114483: 781, 815094: 782, 1334036: 783, 920760: 784, 29534: 785, 922358: 786, 60519: 787, 1396009: 788, 913142: 789, 928658: 790, 927066: 791, 880266: 792, 92380: 793, 277509: 794, 1012100: 795, 1097864: 796, 854560: 797, 1265131: 798, 1524472: 799, 1037038: 800, 1381197: 801, 73124: 802, 1726173: 803, 701985: 804, 1732845: 805, 16058: 806, 72331: 807, 34088: 808, 1173514: 809, 217346: 810, 1488139: 811, 1276520: 812, 1287213: 813, 863110: 814, 729580: 815, 64040: 816, 317540: 817, 746838: 818, 937098: 819, 93389: 820, 310142: 821, 1599489: 822, 897077: 823, 731766: 824, 742112: 825, 1053507: 826, 886158: 827, 54480: 828, 732717: 829, 4962: 830, 1013880: 831, 1159281: 832, 1331875: 833, 1040470: 834, 1093082: 835, 1585364: 836, 924901: 837, 796343: 838, 720672: 839, 915389: 840, 1101215: 841, 277948: 842, 798354: 843, 1133311: 844, 1361538: 845, 37472: 846, 1635984: 847, 1674168: 848, 108516: 849, 1417398: 850, 1385280: 851, 867665: 852, 868671: 853, 912593: 854, 1666700: 855, 49196: 856, 59527: 857, 55067: 858, 25475: 859, 1723089: 860, 1130713: 861, 1158463: 862, 868857: 863, 1582568: 864, 759944: 865, 906107: 866, 10329: 867, 1597033: 868, 1049502: 869, 60714: 870, 1042893: 871, 1708035: 872, 708955: 873, 1337298: 874, 1063344: 875, 876523: 876, 891014: 877, 894405: 878, 320187: 879, 1748790: 880, 1041061: 881, 75677: 882, 1792044: 883, 27904: 884, 70866: 885, 813762: 886, 1418091: 887, 33213: 888, 1286681: 889, 1723128: 890, 1490281: 891, 1670541: 892, 84839: 893, 716643: 894, 795403: 895, 1441236: 896, 1710366: 897, 850429: 898, 21665: 899, 1283630: 900, 1005731: 901, 81362: 902, 883948: 903, 91928: 904, 67347: 905, 1280058: 906, 100726: 907, 949870: 908, 1056285: 909, 1326380: 910, 1121142: 911, 928054: 912, 1046257: 913, 1688568: 914, 78814: 915, 97210: 916, 1336920: 917, 719413: 918, 935494: 919, 812128: 920, 63276: 921, 313143: 922, 8858: 923, 1108426: 924, 1641991: 925, 1091667: 926, 73756: 927, 1579684: 928, 46250: 929, 852772: 930, 1466538: 931, 1464343: 932, 822818: 933, 1121484: 934, 1692115: 935, 1821393: 936, 742278: 937, 57725: 938, 1611647: 939, 1078271: 940, 30625: 941, 1043277: 942, 1675149: 943, 799698: 944, 64996: 945, 1403256: 946, 1209028: 947, 797721: 948, 878726: 949, 76267: 950, 1439095: 951, 1428875: 952, 1065059: 953, 910606: 954, 719220: 955, 51434: 956, 1616862: 957, 1531152: 958, 1755672: 959, 764180: 960, 1674101: 961, 1000228: 962, 775158: 963, 1564408: 964, 1037540: 965, 59558: 966, 799167: 967, 1045609: 968, 1513761: 969, 882184: 970, 1163739: 971, 1339605: 972, 912603: 973, 1091883: 974, 1084961: 975, 1065088: 976, 50725: 977, 1630805: 978, 42582: 979, 78890: 980, 31235: 981, 1691303: 982, 72333: 983, 1285785: 984, 750577: 985, 1099800: 986, 1034054: 987, 84129: 988, 1282637: 989, 876437: 990, 95552: 991, 1567892: 992, 1328581: 993, 785956: 994, 1652044: 995, 1404912: 996, 794170: 997, 901491: 998, 885639: 999, 1635881: 1000, 315293: 1001, 1022079: 1002, 105634: 1003, 1086222: 1004, 1374535: 1005, 310354: 1006, 1617640: 1007, 1024725: 1008, 14272: 1009, 1260221: 1010, 1111335: 1011, 927628: 1012, 923796: 1013, 1365916: 1014, 1349436: 1015, 1604028: 1016, 63754: 1017, 1022321: 1018, 1525287: 1019, 1466593: 1020, 835011: 1021, 1137774: 1022, 730255: 1023, 1014739: 1024, 1604778: 1025, 795266: 1026, 94344: 1027, 39368: 1028, 769520: 1029, 740260: 1030, 1043000: 1031, 3197: 1032, 1109357: 1033, 1786352: 1034, 1303313: 1035, 1750: 1036, 1069157: 1037, 36270: 1038, 715957: 1039, 1048911: 1040, 80420: 1041, 1013462: 1042, 1510295: 1043, 717605: 1044, 6281: 1045, 707179: 1046, 1103982: 1047, 1372020: 1048, 1051512: 1049, 874866: 1050, 700923: 1051, 76605: 1052, 1307954: 1053, 36966: 1054, 1144519: 1055, 1575051: 1056, 897429: 1057, 811589: 1058, 931148: 1059, 36104: 1060, 784977: 1061, 1000697: 1062, 1483510: 1063, 1172222: 1064, 793074: 1065, 1434621: 1066, 1113256: 1067, 30697: 1068, 1524741: 1069, 816761: 1070, 1224608: 1071, 832101: 1072, 1058290: 1073, 926326: 1074, 40211: 1075, 1357615: 1076, 12659: 1077, 97476: 1078, 788784: 1079, 1108109: 1080, 62234: 1081, 1037676: 1082, 763744: 1083, 22444: 1084, 894081: 1085, 783325: 1086, 1521332: 1087, 856982: 1088, 1059556: 1089, 1494319: 1090, 82020: 1091, 895417: 1092, 778164: 1093, 108312: 1094, 101382: 1095, 862831: 1096, 1288403: 1097, 1129155: 1098, 915913: 1099, 849869: 1100, 1059262: 1101, 915912: 1102, 1309108: 1103, 316253: 1104, 1026655: 1105, 18230: 1106, 1077688: 1107, 66756: 1108, 1046327: 1109, 1126975: 1110, 1297989: 1111, 104889: 1112, 315189: 1113, 21076: 1114, 1517228: 1115, 716006: 1116, 1552000: 1117, 28917: 1118, 85961: 1119, 50493: 1120, 80661: 1121, 57515: 1122, 895126: 1123, 1037976: 1124, 768899: 1125, 1308208: 1126, 1520697: 1127, 830524: 1128, 813828: 1129, 1692063: 1130, 874716: 1131, 91440: 1132, 88121: 1133, 702325: 1134, 752642: 1135, 1355096: 1136, 860730: 1137, 18255: 1138, 105016: 1139, 1142596: 1140, 908255: 1141, 1705110: 1142, 1378453: 1143, 49754: 1144, 89439: 1145, 1579877: 1146, 1004980: 1147, 1711269: 1148, 93751: 1149, 314808: 1150, 101829: 1151, 1206264: 1152, 821002: 1153, 103872: 1154, 1166003: 1155, 911177: 1156, 1411207: 1157, 36146: 1158, 896262: 1159, 1637655: 1160, 935703: 1161, 849399: 1162, 1046102: 1163, 1468328: 1164, 1107843: 1165, 1272830: 1166, 40729: 1167, 62709: 1168, 96021: 1169, 780571: 1170, 66740: 1171, 1553023: 1172, 1019849: 1173, 12208: 1174, 884887: 1175, 1590955: 1176, 1659166: 1177, 1035201: 1178, 1062231: 1179, 824142: 1180, 1075531: 1181, 1050825: 1182, 1005284: 1183, 94845: 1184, 891166: 1185, 11544: 1186, 1136893: 1187, 717954: 1188, 1468174: 1189, 1653653: 1190, 1627223: 1191, 1021860: 1192, 1744489: 1193, 1102112: 1194, 28823: 1195, 100517: 1196}\n"
     ]
    }
   ],
   "source": [
    "# Get cik\n",
    "exp_df = pd.read_csv(\"./data/embedding_256.csv\")[['cik', 'tic', 'Year']]\n",
    "print(len(exp_df))\n",
    "\n",
    "unique_cik = exp_df['cik'].unique()\n",
    "cik_to_index = {cik: idx for idx, cik in enumerate(unique_cik)}\n",
    "index_to_cik = {idx: cik for idx, cik in enumerate(unique_cik)}\n",
    "print(\"CIK to Index Mapping:\", cik_to_index)"
   ]
  },
  {
   "cell_type": "code",
   "execution_count": 4,
   "metadata": {},
   "outputs": [
    {
     "name": "stdout",
     "output_type": "stream",
     "text": [
      "length of dissimilar_df: 2913\n",
      "dissimilar_df columns: Index(['Unnamed: 0', 'company_a_name', 'company_a_cik', 'company_a_products',\n",
      "       'company_b_cik', 'company_b_name', 'company_b_tic',\n",
      "       'company_b_products', 'reason_for_dissimilarity'],\n",
      "      dtype='object')\n",
      "number of firms occured in dissimilar_df: 1196 \n",
      "\n",
      "length of similar_df: 2365\n",
      "similar_df columns: Index(['Unnamed: 0', 'company_a_name', 'company_a_cik', 'company_b_cik',\n",
      "       'company_b_name', 'company_b_tic', 'competing_products'],\n",
      "      dtype='object')\n",
      "number of firms occured in similar_df: 1110 \n",
      "\n",
      "final union set length: 1197\n"
     ]
    }
   ],
   "source": [
    "dissimilar_df = pd.read_csv(data_root + \"dissimilar_pairs_2021.csv\")\n",
    "print(f\"length of dissimilar_df: {len(dissimilar_df)}\")\n",
    "print(f\"dissimilar_df columns: {dissimilar_df.columns}\")\n",
    "company_a_cik_set = set(dissimilar_df['company_a_cik'].unique())\n",
    "company_b_cik_set = set(dissimilar_df['company_b_cik'].unique())\n",
    "dissimilar_union_set = company_a_cik_set.union(company_b_cik_set)\n",
    "print(f\"number of firms occured in dissimilar_df: {len(dissimilar_union_set)} \\n\")\n",
    "\n",
    "similar_df = pd.read_csv(data_root + \"pairs_gpt_competitors_2021.csv\")\n",
    "print(f\"length of similar_df: {len(similar_df)}\")\n",
    "print(f\"similar_df columns: {similar_df.columns}\")\n",
    "company_a_cik_set = set(similar_df['company_a_cik'].unique())\n",
    "company_b_cik_set = set(similar_df['company_b_cik'].unique())\n",
    "similar_union_set = company_a_cik_set.union(company_b_cik_set)\n",
    "print(f\"number of firms occured in similar_df: {len(similar_union_set)} \\n\")\n",
    "\n",
    "print(f\"final union set length: {len(dissimilar_union_set.union(similar_union_set))}\")\n",
    "\n",
    "# similar_df = similar_df[['company_a_cik', 'company_b_cik']]\n",
    "# dissimilar_df = dissimilar_df[['company_a_cik', 'company_b_cik']]"
   ]
  },
  {
   "cell_type": "markdown",
   "metadata": {},
   "source": [
    "# Create dataset"
   ]
  },
  {
   "cell_type": "markdown",
   "metadata": {},
   "source": [
    "### Prepare labels"
   ]
  },
  {
   "cell_type": "code",
   "execution_count": 7,
   "metadata": {},
   "outputs": [
    {
     "name": "stdout",
     "output_type": "stream",
     "text": [
      "Relation Matrix:\n",
      " tensor([[-1., -1., -1.,  ..., -1., -1., -1.],\n",
      "        [-1., -1., -1.,  ..., -1., -1., -1.],\n",
      "        [-1., -1., -1.,  ..., -1., -1., -1.],\n",
      "        ...,\n",
      "        [-1., -1., -1.,  ..., -1., -1., -1.],\n",
      "        [-1., -1., -1.,  ..., -1., -1., -1.],\n",
      "        [-1., -1., -1.,  ..., -1., -1., -1.]])\n",
      "Number of 1's: 4564\n",
      "Number of 0's: 5826\n"
     ]
    }
   ],
   "source": [
    "# Get number of unique entities\n",
    "N = len(unique_cik)\n",
    "\n",
    "# Initialize the relation matrix with -1 (unknown/no relation)\n",
    "relation_matrix = -1 * np.ones((N, N))\n",
    "\n",
    "# Fill in similar pairs\n",
    "for _, row in similar_df.iterrows():\n",
    "    i, j = cik_to_index[row['company_a_cik']], cik_to_index[row['company_b_cik']]\n",
    "    relation_matrix[i, j] = 1\n",
    "    relation_matrix[j, i] = 1  # Ensure symmetry\n",
    "\n",
    "# Fill in dissimilar pairs\n",
    "for _, row in dissimilar_df.iterrows():\n",
    "    i, j = cik_to_index[row['company_a_cik']], cik_to_index[row['company_b_cik']]\n",
    "    relation_matrix[i, j] = 0\n",
    "    relation_matrix[j, i] = 0  # Ensure symmetry\n",
    "\n",
    "# Set diagonal to -1 (self-relations not needed)\n",
    "np.fill_diagonal(relation_matrix, -1)\n",
    "\n",
    "# Convert to PyTorch tensor\n",
    "relation_matrix = torch.tensor(relation_matrix, dtype=torch.float32)\n",
    "\n",
    "print(\"Relation Matrix:\\n\", relation_matrix)\n",
    "\n",
    "\n",
    "# Count number of 1's\n",
    "num_ones = (relation_matrix == 1).sum().item()\n",
    "\n",
    "# Count number of -1's\n",
    "num_neg_ones = (relation_matrix == 0).sum().item()\n",
    "\n",
    "print(f\"Number of 1's: {num_ones}\")\n",
    "print(f\"Number of 0's: {num_neg_ones}\")"
   ]
  },
  {
   "cell_type": "markdown",
   "metadata": {},
   "source": [
    "#### **Some similar pairs are useless!**"
   ]
  },
  {
   "cell_type": "code",
   "execution_count": 6,
   "metadata": {},
   "outputs": [],
   "source": [
    "# print(len(similar_df))\n",
    "# print(len(dissimilar_df))\n",
    "# similar_df[similar_df['company_a_cik'] == similar_df['company_b_cik']]"
   ]
  },
  {
   "cell_type": "markdown",
   "metadata": {},
   "source": [
    "### Final step"
   ]
  },
  {
   "cell_type": "code",
   "execution_count": 8,
   "metadata": {},
   "outputs": [],
   "source": [
    "# Define a custom dataset\n",
    "class ContrastiveDataset(Dataset):\n",
    "    def __init__(self, data, index_list):\n",
    "        self.data = data\n",
    "        self.index_list = index_list\n",
    "\n",
    "    def __len__(self):\n",
    "        return len(self.data)\n",
    "\n",
    "    def __getitem__(self, idx):\n",
    "        return self.data[idx], self.index_list[idx]\n",
    "\n",
    "\n",
    "\n",
    "train_dataset = ContrastiveDataset(train_data, train_label)\n",
    "train_loader = DataLoader(train_dataset, batch_size=32, shuffle=True)\n",
    "\n",
    "test_dataset = ContrastiveDataset(test_data, torch.arange(1197))\n",
    "test_loader = DataLoader(test_dataset, batch_size=32, shuffle=True)"
   ]
  },
  {
   "cell_type": "markdown",
   "metadata": {},
   "source": [
    "# Model training"
   ]
  },
  {
   "cell_type": "code",
   "execution_count": 9,
   "metadata": {},
   "outputs": [],
   "source": [
    "class ProjectionNet(nn.Module):\n",
    "    def __init__(self, input_dim, output_dim, hidden_dim=256):\n",
    "        super(ProjectionNet, self).__init__()\n",
    "        \n",
    "        # Define the layers sequentially\n",
    "        self.model = nn.Sequential(\n",
    "            nn.Linear(input_dim, hidden_dim),         # First fully connected layer\n",
    "            nn.BatchNorm1d(hidden_dim),               # Batch Normalization\n",
    "            nn.LeakyReLU(negative_slope=0.01),        # LeakyReLU activation\n",
    "            # nn.Dropout(p=dropout_prob),               # Dropout\n",
    "            nn.Linear(hidden_dim, output_dim)         # Second fully connected layer\n",
    "        )\n",
    "    \n",
    "    def forward(self, x):\n",
    "        # Pass the input through the sequential model\n",
    "        return self.model(x)"
   ]
  },
  {
   "cell_type": "markdown",
   "metadata": {},
   "source": [
    "#### Train with contrastive loss 2"
   ]
  },
  {
   "cell_type": "code",
   "execution_count": 13,
   "metadata": {},
   "outputs": [],
   "source": [
    "def nt_bxent_loss(x, pos_indices, temperature):\n",
    "    assert len(x.size()) == 2\n",
    "\n",
    "    # Add indexes of the principal diagonal elements to pos_indices\n",
    "    pos_indices = torch.cat([\n",
    "        pos_indices,\n",
    "        torch.arange(x.size(0)).reshape(x.size(0), 1).expand(-1, 2),\n",
    "    ], dim=0)\n",
    "    \n",
    "    # Ground truth labels\n",
    "    target = torch.zeros(x.size(0), x.size(0))\n",
    "    target[pos_indices[:,0], pos_indices[:,1]] = 1.0\n",
    "\n",
    "    # Cosine similarity\n",
    "    xcs = F.cosine_similarity(x[None,:,:], x[:,None,:], dim=-1)\n",
    "    # Set logit of diagonal element to \"inf\" signifying complete\n",
    "    # correlation. sigmoid(inf) = 1.0 so this will work out nicely\n",
    "    # when computing the Binary Cross Entropy Loss.\n",
    "    xcs[torch.eye(x.size(0)).bool()] = float(\"inf\")\n",
    "\n",
    "    # Standard binary cross entropy loss. We use binary_cross_entropy() here and not\n",
    "    # binary_cross_entropy_with_logits() because of https://github.com/pytorch/pytorch/issues/102894\n",
    "    # The method *_with_logits() uses the log-sum-exp-trick, which causes inf and -inf values\n",
    "    # to result in a NaN result.\n",
    "    loss = F.binary_cross_entropy((xcs / temperature).sigmoid(), target, reduction=\"none\")\n",
    "    \n",
    "    target_pos = target.bool()\n",
    "    target_neg = ~target_pos\n",
    "    \n",
    "    loss_pos = torch.zeros(x.size(0), x.size(0)).masked_scatter(target_pos, loss[target_pos])\n",
    "    loss_neg = torch.zeros(x.size(0), x.size(0)).masked_scatter(target_neg, loss[target_neg])\n",
    "    loss_pos = loss_pos.sum(dim=1)\n",
    "    loss_neg = loss_neg.sum(dim=1)\n",
    "    num_pos = target.sum(dim=1)\n",
    "    num_neg = x.size(0) - num_pos\n",
    "\n",
    "    return ((loss_pos / num_pos) + (loss_neg / num_neg)).mean()"
   ]
  },
  {
   "cell_type": "markdown",
   "metadata": {},
   "source": [
    "#### Might be useless"
   ]
  },
  {
   "cell_type": "code",
   "execution_count": null,
   "metadata": {},
   "outputs": [],
   "source": [
    "# def contrastive_loss(batch_output, pos_pairs, temperature=0.5):\n",
    "#     \"\"\"\n",
    "#     Computes the contrastive loss using NT-Xent (Normalized Temperature-scaled Cross Entropy Loss).\n",
    "    \n",
    "#     Args:\n",
    "#         batch_output (torch.Tensor): Tensor of shape (B, D) containing the model outputs.\n",
    "#         pos_pairs (List[Tuple[int, int]]): List of positive index pairs.\n",
    "#         neg_pairs (List[Tuple[int, int]]): List of negative index pairs.\n",
    "#         temperature (float): Scaling factor for the similarity scores.\n",
    "\n",
    "#     Returns:\n",
    "#         loss (torch.Tensor): Contrastive loss.\n",
    "#     \"\"\"\n",
    "#     # Compute similarity matrix (cosine similarity)\n",
    "#     batch_output = F.normalize(batch_output, dim=1)  # Normalize embeddings\n",
    "#     sim_matrix = torch.mm(batch_output, batch_output.T)  # (B, B) similarity matrix\n",
    "#     sim_matrix /= temperature\n",
    "\n",
    "#     loss = 0\n",
    "#     num_pairs = 0\n",
    "\n",
    "#     # Compute loss for positive pairs\n",
    "#     for i, j in pos_pairs:\n",
    "#         num_pairs += 1\n",
    "#         sim_ij = sim_matrix[i, j]\n",
    "#         exp_sim_ij = torch.exp(sim_ij)\n",
    "\n",
    "#         # Negative samples\n",
    "#         neg_sims = sim_matrix[i, :]\n",
    "#         exp_neg_sims = torch.exp(neg_sims)\n",
    "#         exp_neg_sims[j] = 0  # Exclude the positive pair itself\n",
    "\n",
    "#         loss += -torch.log(exp_sim_ij / (torch.sum(exp_neg_sims) + exp_sim_ij))  # NT-Xent formula\n",
    "\n",
    "#     return loss / num_pairs if num_pairs > 0 else torch.tensor(0.0, device=batch_output.device)\n",
    "\n",
    "\n",
    "\n",
    "\n",
    "# # def ContrastiveLoss2(batch_output, pos_pairs, neg_pairs, temperature=0.5):\n",
    "# #     \"\"\"\n",
    "# #     Computes the contrastive loss using NT-Xent (Normalized Temperature-scaled Cross Entropy Loss).\n",
    "    \n",
    "# #     Args:\n",
    "# #         batch_output (torch.Tensor): Tensor of shape (B, D) containing the model outputs.\n",
    "# #         pos_pairs (List[Tuple[int, int]]): List of positive index pairs.\n",
    "# #         neg_pairs (List[Tuple[int, int]]): List of negative index pairs.\n",
    "# #         temperature (float): Scaling factor for the similarity scores.\n",
    "\n",
    "# #     Returns:\n",
    "# #         loss (torch.Tensor): Contrastive loss.\n",
    "# #     \"\"\"\n",
    "# #     # Normalize embeddings to ensure cosine similarity is in [-1,1]\n",
    "# #     batch_output = F.normalize(batch_output, dim=1)\n",
    "    \n",
    "# #     # Compute cosine similarity matrix\n",
    "# #     sim_matrix = torch.mm(batch_output, batch_output.T)  # (B, B) similarity matrix\n",
    "    \n",
    "# #     loss = 0\n",
    "# #     num_pairs = 0\n",
    "\n",
    "# #     # Compute loss for positive pairs\n",
    "# #     for i, j in pos_pairs:\n",
    "# #         num_pairs += 1\n",
    "# #         sim_ij = sim_matrix[i, j] / temperature  # Scaled similarity\n",
    "# #         exp_sim_ij = torch.exp(sim_ij)\n",
    "\n",
    "# #         # Negative samples: Use all negative pairs plus all non-positive pairs\n",
    "# #         neg_sims = torch.exp(sim_matrix[i, :] / temperature)  # All similarities for anchor i\n",
    "# #         neg_sims[j] = 0  # Exclude the positive pair itself\n",
    "\n",
    "# #         # Explicitly include negative pairs\n",
    "# #         for neg_i, neg_j in neg_pairs:\n",
    "# #             neg_sims[neg_j] = torch.exp(sim_matrix[neg_i, neg_j] / temperature)\n",
    "\n",
    "# #         loss += -torch.log(exp_sim_ij / (torch.sum(neg_sims) + exp_sim_ij))  # NT-Xent formula\n",
    "\n",
    "# #     return loss / num_pairs if num_pairs > 0 else torch.tensor(0.0, device=batch_output.device)\n"
   ]
  },
  {
   "cell_type": "markdown",
   "metadata": {},
   "source": [
    "#### Make full use of the sample in each batch"
   ]
  },
  {
   "cell_type": "code",
   "execution_count": null,
   "metadata": {},
   "outputs": [],
   "source": [
    "import itertools\n",
    "\n",
    "def get_positive_negative_pairs(batch_indices):\n",
    "    # Extract the batch submatrix\n",
    "    batch_rel_matrix = relation_matrix[batch_indices][:, batch_indices]  # Shape (B, B)\n",
    "\n",
    "    # Find indices where the relation value is 1\n",
    "    pos_pairs = torch.nonzero(batch_rel_matrix == 1, as_tuple=False)  # Shape (N, 2)\n",
    "\n",
    "    return pos_pairs"
   ]
  },
  {
   "cell_type": "code",
   "execution_count": 30,
   "metadata": {},
   "outputs": [
    {
     "name": "stdout",
     "output_type": "stream",
     "text": [
      "Epoch [1/20], train_avg_Loss: 0.5504\n",
      "Epoch [1/20], test_avg_Loss: 0.5719\n",
      "\n",
      "Epoch [2/20], train_avg_Loss: 0.5313\n",
      "Epoch [2/20], test_avg_Loss: 0.5117\n",
      "\n",
      "Epoch [3/20], train_avg_Loss: 0.5444\n",
      "Epoch [3/20], test_avg_Loss: 0.6064\n",
      "\n",
      "Epoch [4/20], train_avg_Loss: 0.5476\n",
      "Epoch [4/20], test_avg_Loss: 0.4540\n",
      "\n",
      "Epoch [5/20], train_avg_Loss: 0.5288\n",
      "Epoch [5/20], test_avg_Loss: 0.5094\n",
      "\n"
     ]
    },
    {
     "ename": "KeyboardInterrupt",
     "evalue": "",
     "output_type": "error",
     "traceback": [
      "\u001b[1;31m---------------------------------------------------------------------------\u001b[0m",
      "\u001b[1;31mKeyboardInterrupt\u001b[0m                         Traceback (most recent call last)",
      "Cell \u001b[1;32mIn[30], line 21\u001b[0m\n\u001b[0;32m     18\u001b[0m batch_size \u001b[38;5;241m=\u001b[39m batch_data\u001b[38;5;241m.\u001b[39msize(\u001b[38;5;241m0\u001b[39m)\n\u001b[0;32m     20\u001b[0m z1 \u001b[38;5;241m=\u001b[39m model(batch_data)\n\u001b[1;32m---> 21\u001b[0m pos_pairs \u001b[38;5;241m=\u001b[39m \u001b[43mget_positive_negative_pairs\u001b[49m\u001b[43m(\u001b[49m\u001b[43mbatch_idx\u001b[49m\u001b[43m)\u001b[49m\n\u001b[0;32m     23\u001b[0m loss \u001b[38;5;241m=\u001b[39m torch\u001b[38;5;241m.\u001b[39mtensor(\u001b[38;5;241m0.0\u001b[39m, device\u001b[38;5;241m=\u001b[39mz1\u001b[38;5;241m.\u001b[39mdevice, requires_grad\u001b[38;5;241m=\u001b[39m\u001b[38;5;28;01mTrue\u001b[39;00m)\n\u001b[0;32m     24\u001b[0m \u001b[38;5;28;01mif\u001b[39;00m \u001b[38;5;28mlen\u001b[39m(pos_pairs) \u001b[38;5;241m>\u001b[39m \u001b[38;5;241m0\u001b[39m:\n",
      "Cell \u001b[1;32mIn[29], line 13\u001b[0m, in \u001b[0;36mget_positive_negative_pairs\u001b[1;34m(batch_indices)\u001b[0m\n\u001b[0;32m     11\u001b[0m \u001b[38;5;28;01mfor\u001b[39;00m i, j \u001b[38;5;129;01min\u001b[39;00m itertools\u001b[38;5;241m.\u001b[39mcombinations(\u001b[38;5;28mrange\u001b[39m(batch_size), \u001b[38;5;241m2\u001b[39m):  \n\u001b[0;32m     12\u001b[0m     rel_value \u001b[38;5;241m=\u001b[39m batch_rel_matrix[i, j]\n\u001b[1;32m---> 13\u001b[0m     \u001b[38;5;28;01mif\u001b[39;00m \u001b[43mrel_value\u001b[49m\u001b[43m \u001b[49m\u001b[38;5;241;43m==\u001b[39;49m\u001b[43m \u001b[49m\u001b[38;5;241;43m1\u001b[39;49m:\n\u001b[0;32m     14\u001b[0m         pos_pairs\u001b[38;5;241m.\u001b[39mappend((i, j))  \u001b[38;5;66;03m# Store indices instead of embeddings\u001b[39;00m\n\u001b[0;32m     15\u001b[0m         pos_pairs\u001b[38;5;241m.\u001b[39mappend((j, i))\n",
      "\u001b[1;31mKeyboardInterrupt\u001b[0m: "
     ]
    }
   ],
   "source": [
    "input_dim = 256\n",
    "output_dim = 128\n",
    "hidden_dim = 256\n",
    "temperature = 0.5\n",
    "\n",
    "\n",
    "model = ProjectionNet(input_dim, output_dim, hidden_dim)\n",
    "criterion = nt_bxent_loss\n",
    "optimizer = optim.Adam(model.parameters(), lr=0.0001)\n",
    "\n",
    "# Training loop\n",
    "num_epochs = 20\n",
    "for epoch in range(num_epochs):\n",
    "    total_loss = 0\n",
    "    model.train()\n",
    "    for batch_data, batch_idx in train_loader:\n",
    "\n",
    "        batch_size = batch_data.size(0)\n",
    "\n",
    "        z1 = model(batch_data)\n",
    "        pos_pairs = get_positive_negative_pairs(batch_idx)\n",
    "\n",
    "        loss = torch.tensor(0.0, device=z1.device, requires_grad=True)\n",
    "        if len(pos_pairs) > 0:\n",
    "            loss = loss + criterion(z1, pos_pairs, temperature)\n",
    "        # if len(neg_pairs) > 0:\n",
    "        #     loss = loss + criterion(neg_pairs, torch.zeros(len(neg_pairs)))\n",
    "\n",
    "        total_loss += loss.item()\n",
    "\n",
    "        # Backward pass and optimization\n",
    "        optimizer.zero_grad()\n",
    "        loss.backward()\n",
    "        optimizer.step()\n",
    "    print(f\"Epoch [{epoch+1}/{num_epochs}], train_avg_Loss: {total_loss/len(train_loader):.4f}\")\n",
    "\n",
    "    total_loss = 0\n",
    "    model.eval()\n",
    "    with torch.no_grad():\n",
    "        for batch_data, batch_idx in test_loader:\n",
    "\n",
    "            batch_size = batch_data.size(0)\n",
    "\n",
    "            z1 = model(batch_data)\n",
    "            pos_pairs = get_positive_negative_pairs(batch_idx)\n",
    "\n",
    "            loss = torch.tensor(0.0, device=z1.device, requires_grad=True)\n",
    "            if len(pos_pairs) > 0:  # Check if there's at least one valid pair\n",
    "                # Compute loss\n",
    "                loss = loss + criterion(z1, pos_pairs, temperature)\n",
    "            # if len(neg_pairs) > 0:\n",
    "            #     loss = loss + criterion(neg_pairs, torch.zeros(len(neg_pairs)))\n",
    "            \n",
    "            total_loss += loss.item()\n",
    "    print(f\"Epoch [{epoch+1}/{num_epochs}], test_avg_Loss: {total_loss/len(test_loader):.4f}\\n\")"
   ]
  },
  {
   "cell_type": "markdown",
   "metadata": {},
   "source": [
    "#### Clustering"
   ]
  },
  {
   "cell_type": "code",
   "execution_count": 31,
   "metadata": {},
   "outputs": [
    {
     "data": {
      "text/plain": [
       "torch.Size([1197, 128])"
      ]
     },
     "execution_count": 31,
     "metadata": {},
     "output_type": "execute_result"
    }
   ],
   "source": [
    "model.eval()\n",
    "with torch.no_grad():\n",
    "    final_representation = model(test_data)\n",
    "final_representation.shape"
   ]
  },
  {
   "cell_type": "code",
   "execution_count": 32,
   "metadata": {},
   "outputs": [
    {
     "name": "stdout",
     "output_type": "stream",
     "text": [
      "Normalized Within-Cluster Sum of Squares (WCSS): 0.11152251202958569\n",
      "Normalized Within-Cluster Sum of Squares (WCSS): 0.05472320582135678\n"
     ]
    },
    {
     "data": {
      "text/html": [
       "<div>\n",
       "<style scoped>\n",
       "    .dataframe tbody tr th:only-of-type {\n",
       "        vertical-align: middle;\n",
       "    }\n",
       "\n",
       "    .dataframe tbody tr th {\n",
       "        vertical-align: top;\n",
       "    }\n",
       "\n",
       "    .dataframe thead th {\n",
       "        text-align: right;\n",
       "    }\n",
       "</style>\n",
       "<table border=\"1\" class=\"dataframe\">\n",
       "  <thead>\n",
       "    <tr style=\"text-align: right;\">\n",
       "      <th></th>\n",
       "      <th>cik</th>\n",
       "      <th>tic</th>\n",
       "      <th>Year</th>\n",
       "      <th>cluster_10</th>\n",
       "      <th>cluster_100</th>\n",
       "    </tr>\n",
       "  </thead>\n",
       "  <tbody>\n",
       "    <tr>\n",
       "      <th>0</th>\n",
       "      <td>850460</td>\n",
       "      <td>WIRE</td>\n",
       "      <td>2021</td>\n",
       "      <td>8</td>\n",
       "      <td>54</td>\n",
       "    </tr>\n",
       "    <tr>\n",
       "      <th>1</th>\n",
       "      <td>352541</td>\n",
       "      <td>LNT</td>\n",
       "      <td>2021</td>\n",
       "      <td>7</td>\n",
       "      <td>8</td>\n",
       "    </tr>\n",
       "    <tr>\n",
       "      <th>2</th>\n",
       "      <td>1704715</td>\n",
       "      <td>AMR</td>\n",
       "      <td>2021</td>\n",
       "      <td>5</td>\n",
       "      <td>50</td>\n",
       "    </tr>\n",
       "    <tr>\n",
       "      <th>3</th>\n",
       "      <td>1575515</td>\n",
       "      <td>SFM</td>\n",
       "      <td>2021</td>\n",
       "      <td>0</td>\n",
       "      <td>4</td>\n",
       "    </tr>\n",
       "    <tr>\n",
       "      <th>4</th>\n",
       "      <td>1125376</td>\n",
       "      <td>ENSG</td>\n",
       "      <td>2021</td>\n",
       "      <td>1</td>\n",
       "      <td>80</td>\n",
       "    </tr>\n",
       "    <tr>\n",
       "      <th>...</th>\n",
       "      <td>...</td>\n",
       "      <td>...</td>\n",
       "      <td>...</td>\n",
       "      <td>...</td>\n",
       "      <td>...</td>\n",
       "    </tr>\n",
       "    <tr>\n",
       "      <th>1192</th>\n",
       "      <td>1021860</td>\n",
       "      <td>NOV</td>\n",
       "      <td>2021</td>\n",
       "      <td>9</td>\n",
       "      <td>73</td>\n",
       "    </tr>\n",
       "    <tr>\n",
       "      <th>1193</th>\n",
       "      <td>1744489</td>\n",
       "      <td>DIS</td>\n",
       "      <td>2021</td>\n",
       "      <td>8</td>\n",
       "      <td>40</td>\n",
       "    </tr>\n",
       "    <tr>\n",
       "      <th>1194</th>\n",
       "      <td>1102112</td>\n",
       "      <td>PACW</td>\n",
       "      <td>2021</td>\n",
       "      <td>2</td>\n",
       "      <td>99</td>\n",
       "    </tr>\n",
       "    <tr>\n",
       "      <th>1195</th>\n",
       "      <td>28823</td>\n",
       "      <td>DBD</td>\n",
       "      <td>2021</td>\n",
       "      <td>8</td>\n",
       "      <td>55</td>\n",
       "    </tr>\n",
       "    <tr>\n",
       "      <th>1196</th>\n",
       "      <td>100517</td>\n",
       "      <td>UAL</td>\n",
       "      <td>2021</td>\n",
       "      <td>3</td>\n",
       "      <td>48</td>\n",
       "    </tr>\n",
       "  </tbody>\n",
       "</table>\n",
       "<p>1197 rows × 5 columns</p>\n",
       "</div>"
      ],
      "text/plain": [
       "          cik   tic  Year  cluster_10  cluster_100\n",
       "0      850460  WIRE  2021           8           54\n",
       "1      352541   LNT  2021           7            8\n",
       "2     1704715   AMR  2021           5           50\n",
       "3     1575515   SFM  2021           0            4\n",
       "4     1125376  ENSG  2021           1           80\n",
       "...       ...   ...   ...         ...          ...\n",
       "1192  1021860   NOV  2021           9           73\n",
       "1193  1744489   DIS  2021           8           40\n",
       "1194  1102112  PACW  2021           2           99\n",
       "1195    28823   DBD  2021           8           55\n",
       "1196   100517   UAL  2021           3           48\n",
       "\n",
       "[1197 rows x 5 columns]"
      ]
     },
     "execution_count": 32,
     "metadata": {},
     "output_type": "execute_result"
    }
   ],
   "source": [
    "exp_df['cluster_10'] = cluster(final_representation, 10)\n",
    "exp_df['cluster_100'] = cluster(final_representation, 100)\n",
    "exp_df"
   ]
  },
  {
   "cell_type": "code",
   "execution_count": 33,
   "metadata": {},
   "outputs": [
    {
     "name": "stdout",
     "output_type": "stream",
     "text": [
      "0.40571371514424187\n",
      "0.44786511057935546\n",
      "1064\n"
     ]
    }
   ],
   "source": [
    "year = 2021\n",
    "mode = 'forward'  # Can be 'in-sample', 'forward', or 'backtest'\n",
    "returns_long = pd.read_csv(data_root+\"returns_long.csv\")\n",
    "\n",
    "exp_returns = pd.merge(exp_df, returns_long, on='tic', how='inner')\n",
    "\n",
    "exp_intra_corrs_10 = intra_industry_correlations(exp_returns, \"cluster_10\")\n",
    "exp_avg_intra_corr_10 = np.nanmean(list(exp_intra_corrs_10.values()))\n",
    "print(exp_avg_intra_corr_10)\n",
    "\n",
    "exp_intra_corrs_100 = intra_industry_correlations(exp_returns, \"cluster_100\")\n",
    "exp_avg_intra_corr_100 = np.nanmean(list(exp_intra_corrs_100.values()))\n",
    "print(exp_avg_intra_corr_100)\n",
    "\n",
    "print(len(exp_returns['cik'].unique()))"
   ]
  },
  {
   "cell_type": "code",
   "execution_count": 34,
   "metadata": {},
   "outputs": [
    {
     "data": {
      "image/png": "[encoded data removed]",
      "text/plain": [
       "<Figure size 1000x800 with 1 Axes>"
      ]
     },
     "metadata": {},
     "output_type": "display_data"
    }
   ],
   "source": [
    "show_cluster_graph(final_representation, exp_df['cluster_10'])"
   ]
  },
  {
   "cell_type": "code",
   "execution_count": null,
   "metadata": {},
   "outputs": [],
   "source": []
  },
  {
   "cell_type": "markdown",
   "metadata": {},
   "source": [
    "# Pair eval"
   ]
  },
  {
   "cell_type": "code",
   "execution_count": 35,
   "metadata": {},
   "outputs": [],
   "source": [
    "similar_df = pd.read_csv(data_root + \"pairs_gpt_competitors_2021.csv\")\n",
    "similar_df = similar_df[similar_df['company_a_cik'] != similar_df['company_b_cik']]\n"
   ]
  },
  {
   "cell_type": "code",
   "execution_count": 36,
   "metadata": {},
   "outputs": [
    {
     "name": "stdout",
     "output_type": "stream",
     "text": [
      "Missing CIKs in pairs dataset: 0 (company A), 0 (company B)\n",
      "CIKs not found in main dataset: 0 (company A), 0 (company B)\n",
      "Total valid pairs: 2282\n",
      "========================================\n",
      "cluster_10\n",
      "Original number of positive pairs: 2282\n",
      "Number of positive pairs after filtering: 2282\n",
      "\n",
      "\n",
      "========================================\n",
      "cluster_100\n",
      "Original number of positive pairs: 2282\n",
      "Number of positive pairs after filtering: 2282\n",
      "\n",
      "\n"
     ]
    },
    {
     "data": {
      "text/html": [
       "<div>\n",
       "<style scoped>\n",
       "    .dataframe tbody tr th:only-of-type {\n",
       "        vertical-align: middle;\n",
       "    }\n",
       "\n",
       "    .dataframe tbody tr th {\n",
       "        vertical-align: top;\n",
       "    }\n",
       "\n",
       "    .dataframe thead th {\n",
       "        text-align: right;\n",
       "    }\n",
       "</style>\n",
       "<table border=\"1\" class=\"dataframe\">\n",
       "  <thead>\n",
       "    <tr style=\"text-align: right;\">\n",
       "      <th></th>\n",
       "      <th>Classification_Scheme</th>\n",
       "      <th>Precision</th>\n",
       "      <th>False_Positive_rate</th>\n",
       "      <th>N_Industries</th>\n",
       "      <th>Avg_Firms_per_Industry</th>\n",
       "    </tr>\n",
       "  </thead>\n",
       "  <tbody>\n",
       "    <tr>\n",
       "      <th>0</th>\n",
       "      <td>cluster_10</td>\n",
       "      <td>0.848379</td>\n",
       "      <td>0.984823</td>\n",
       "      <td>10</td>\n",
       "      <td>119.70</td>\n",
       "    </tr>\n",
       "    <tr>\n",
       "      <th>1</th>\n",
       "      <td>cluster_100</td>\n",
       "      <td>0.689308</td>\n",
       "      <td>0.808637</td>\n",
       "      <td>100</td>\n",
       "      <td>11.97</td>\n",
       "    </tr>\n",
       "  </tbody>\n",
       "</table>\n",
       "</div>"
      ],
      "text/plain": [
       "  Classification_Scheme  Precision  False_Positive_rate  N_Industries  \\\n",
       "0            cluster_10   0.848379             0.984823            10   \n",
       "1           cluster_100   0.689308             0.808637           100   \n",
       "\n",
       "   Avg_Firms_per_Industry  \n",
       "0                  119.70  \n",
       "1                   11.97  "
      ]
     },
     "execution_count": 36,
     "metadata": {},
     "output_type": "execute_result"
    }
   ],
   "source": [
    "similar_df_results = precision_and_false_positive(similar_df, exp_df.copy(), ['cluster_10', 'cluster_100'], 10000)\n",
    "similar_df_results"
   ]
  }
 ],
 "metadata": {
  "kernelspec": {
   "display_name": "NLP",
   "language": "python",
   "name": "python3"
  },
  "language_info": {
   "codemirror_mode": {
    "name": "ipython",
    "version": 3
   },
   "file_extension": ".py",
   "mimetype": "text/x-python",
   "name": "python",
   "nbconvert_exporter": "python",
   "pygments_lexer": "ipython3",
   "version": "3.9.19"
  }
 },
 "nbformat": 4,
 "nbformat_minor": 2
}
