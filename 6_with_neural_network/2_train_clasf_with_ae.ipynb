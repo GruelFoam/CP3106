{
 "cells": [
  {
   "cell_type": "code",
   "execution_count": 1,
   "metadata": {},
   "outputs": [],
   "source": [
    "import torch\n",
    "import torch.nn as nn\n",
    "import torch.optim as optim\n",
    "# import torch.nn.functional as F\n",
    "import pandas as pd\n",
    "import numpy as np\n",
    "import json\n",
    "\n",
    "import sys\n",
    "import os\n",
    "\n",
    "sys.path.append(os.path.abspath('../'))\n",
    "from tool import *\n",
    "\n",
    "data_root = '../../MyData/'"
   ]
  },
  {
   "cell_type": "markdown",
   "metadata": {},
   "source": [
    "# Load data (With GICS_Sector)"
   ]
  },
  {
   "cell_type": "code",
   "execution_count": 14,
   "metadata": {},
   "outputs": [
    {
     "name": "stdout",
     "output_type": "stream",
     "text": [
      "1197\n",
      "       cik   tic  Year                                   item1_embeddings  \\\n",
      "0   850460  WIRE  2021  [0.03955410048365593, -0.04159577935934067, -0...   \n",
      "1   352541   LNT  2021  [-0.0231856107711792, 0.001279839314520359, 0....   \n",
      "2  1704715   AMR  2021  [0.014074714854359627, 0.006938479840755463, 0...   \n",
      "3  1575515   SFM  2021  [-0.023708730936050415, 0.01762891560792923, 0...   \n",
      "4  1125376  ENSG  2021  [0.04463111609220505, 0.0018805989529937506, 0...   \n",
      "\n",
      "   GICS_Sector  \n",
      "0         20.0  \n",
      "1         55.0  \n",
      "2         15.0  \n",
      "3         30.0  \n",
      "4         35.0  \n",
      "1197\n",
      "       cik                           SP_SHORT_DESC_embeddings  \\\n",
      "0   850460  [0.01568225771188736, -0.07636360824108124, -0...   \n",
      "1   352541  [-0.013836896046996117, -0.028995024040341377,...   \n",
      "2  1704715  [0.0030535957776010036, 0.0008783274097368121,...   \n",
      "3  1575515  [-0.025762900710105896, 0.0034106436651200056,...   \n",
      "4  1125376  [0.04616139456629753, -0.0021259395871311426, ...   \n",
      "\n",
      "                             SP_LONG_DESC_embeddings  \\\n",
      "0  [0.06089901179075241, -0.07059630751609802, -0...   \n",
      "1  [-0.021961161866784096, 0.020302705466747284, ...   \n",
      "2  [-0.0017570963827893138, 0.006557094398885965,...   \n",
      "3  [-0.015190708450973034, 0.011541897431015968, ...   \n",
      "4  [0.05935207009315491, 0.0013673527864739299, 0...   \n",
      "\n",
      "                          ORBIS_PROD_SERV_embeddings  \\\n",
      "0                                                NaN   \n",
      "1  [-0.015400929376482964, 0.03232719004154205, -...   \n",
      "2  [-0.02030838653445244, -0.009386725723743439, ...   \n",
      "3  [-0.013177500106394291, 0.036401789635419846, ...   \n",
      "4  [0.029405493289232254, 0.014010551385581493, 0...   \n",
      "\n",
      "                           ORBIS_OVERVIEW_embeddings  \n",
      "0                                                NaN  \n",
      "1  [-0.041709959506988525, -0.011898815631866455,...  \n",
      "2  [-0.012340557761490345, -0.01428779773414135, ...  \n",
      "3  [-0.01883152313530445, 0.021741388365626335, 0...  \n",
      "4  [-0.006068837363272905, 0.010537531226873398, ...  \n",
      "1197\n"
     ]
    },
    {
     "data": {
      "text/html": [
       "<div>\n",
       "<style scoped>\n",
       "    .dataframe tbody tr th:only-of-type {\n",
       "        vertical-align: middle;\n",
       "    }\n",
       "\n",
       "    .dataframe tbody tr th {\n",
       "        vertical-align: top;\n",
       "    }\n",
       "\n",
       "    .dataframe thead th {\n",
       "        text-align: right;\n",
       "    }\n",
       "</style>\n",
       "<table border=\"1\" class=\"dataframe\">\n",
       "  <thead>\n",
       "    <tr style=\"text-align: right;\">\n",
       "      <th></th>\n",
       "      <th>cik</th>\n",
       "      <th>tic</th>\n",
       "      <th>Year</th>\n",
       "      <th>item1_embeddings</th>\n",
       "      <th>GICS_Sector</th>\n",
       "      <th>SP_SHORT_DESC_embeddings</th>\n",
       "      <th>SP_LONG_DESC_embeddings</th>\n",
       "      <th>ORBIS_PROD_SERV_embeddings</th>\n",
       "      <th>ORBIS_OVERVIEW_embeddings</th>\n",
       "    </tr>\n",
       "  </thead>\n",
       "  <tbody>\n",
       "    <tr>\n",
       "      <th>0</th>\n",
       "      <td>850460</td>\n",
       "      <td>WIRE</td>\n",
       "      <td>2021</td>\n",
       "      <td>[0.03955410048365593, -0.04159577935934067, -0...</td>\n",
       "      <td>20.0</td>\n",
       "      <td>[0.01568225771188736, -0.07636360824108124, -0...</td>\n",
       "      <td>[0.06089901179075241, -0.07059630751609802, -0...</td>\n",
       "      <td>NaN</td>\n",
       "      <td>NaN</td>\n",
       "    </tr>\n",
       "    <tr>\n",
       "      <th>1</th>\n",
       "      <td>352541</td>\n",
       "      <td>LNT</td>\n",
       "      <td>2021</td>\n",
       "      <td>[-0.0231856107711792, 0.001279839314520359, 0....</td>\n",
       "      <td>55.0</td>\n",
       "      <td>[-0.013836896046996117, -0.028995024040341377,...</td>\n",
       "      <td>[-0.021961161866784096, 0.020302705466747284, ...</td>\n",
       "      <td>[-0.015400929376482964, 0.03232719004154205, -...</td>\n",
       "      <td>[-0.041709959506988525, -0.011898815631866455,...</td>\n",
       "    </tr>\n",
       "    <tr>\n",
       "      <th>2</th>\n",
       "      <td>1704715</td>\n",
       "      <td>AMR</td>\n",
       "      <td>2021</td>\n",
       "      <td>[0.014074714854359627, 0.006938479840755463, 0...</td>\n",
       "      <td>15.0</td>\n",
       "      <td>[0.0030535957776010036, 0.0008783274097368121,...</td>\n",
       "      <td>[-0.0017570963827893138, 0.006557094398885965,...</td>\n",
       "      <td>[-0.02030838653445244, -0.009386725723743439, ...</td>\n",
       "      <td>[-0.012340557761490345, -0.01428779773414135, ...</td>\n",
       "    </tr>\n",
       "    <tr>\n",
       "      <th>3</th>\n",
       "      <td>1575515</td>\n",
       "      <td>SFM</td>\n",
       "      <td>2021</td>\n",
       "      <td>[-0.023708730936050415, 0.01762891560792923, 0...</td>\n",
       "      <td>30.0</td>\n",
       "      <td>[-0.025762900710105896, 0.0034106436651200056,...</td>\n",
       "      <td>[-0.015190708450973034, 0.011541897431015968, ...</td>\n",
       "      <td>[-0.013177500106394291, 0.036401789635419846, ...</td>\n",
       "      <td>[-0.01883152313530445, 0.021741388365626335, 0...</td>\n",
       "    </tr>\n",
       "    <tr>\n",
       "      <th>4</th>\n",
       "      <td>1125376</td>\n",
       "      <td>ENSG</td>\n",
       "      <td>2021</td>\n",
       "      <td>[0.04463111609220505, 0.0018805989529937506, 0...</td>\n",
       "      <td>35.0</td>\n",
       "      <td>[0.04616139456629753, -0.0021259395871311426, ...</td>\n",
       "      <td>[0.05935207009315491, 0.0013673527864739299, 0...</td>\n",
       "      <td>[0.029405493289232254, 0.014010551385581493, 0...</td>\n",
       "      <td>[-0.006068837363272905, 0.010537531226873398, ...</td>\n",
       "    </tr>\n",
       "  </tbody>\n",
       "</table>\n",
       "</div>"
      ],
      "text/plain": [
       "       cik   tic  Year                                   item1_embeddings  \\\n",
       "0   850460  WIRE  2021  [0.03955410048365593, -0.04159577935934067, -0...   \n",
       "1   352541   LNT  2021  [-0.0231856107711792, 0.001279839314520359, 0....   \n",
       "2  1704715   AMR  2021  [0.014074714854359627, 0.006938479840755463, 0...   \n",
       "3  1575515   SFM  2021  [-0.023708730936050415, 0.01762891560792923, 0...   \n",
       "4  1125376  ENSG  2021  [0.04463111609220505, 0.0018805989529937506, 0...   \n",
       "\n",
       "   GICS_Sector                           SP_SHORT_DESC_embeddings  \\\n",
       "0         20.0  [0.01568225771188736, -0.07636360824108124, -0...   \n",
       "1         55.0  [-0.013836896046996117, -0.028995024040341377,...   \n",
       "2         15.0  [0.0030535957776010036, 0.0008783274097368121,...   \n",
       "3         30.0  [-0.025762900710105896, 0.0034106436651200056,...   \n",
       "4         35.0  [0.04616139456629753, -0.0021259395871311426, ...   \n",
       "\n",
       "                             SP_LONG_DESC_embeddings  \\\n",
       "0  [0.06089901179075241, -0.07059630751609802, -0...   \n",
       "1  [-0.021961161866784096, 0.020302705466747284, ...   \n",
       "2  [-0.0017570963827893138, 0.006557094398885965,...   \n",
       "3  [-0.015190708450973034, 0.011541897431015968, ...   \n",
       "4  [0.05935207009315491, 0.0013673527864739299, 0...   \n",
       "\n",
       "                          ORBIS_PROD_SERV_embeddings  \\\n",
       "0                                                NaN   \n",
       "1  [-0.015400929376482964, 0.03232719004154205, -...   \n",
       "2  [-0.02030838653445244, -0.009386725723743439, ...   \n",
       "3  [-0.013177500106394291, 0.036401789635419846, ...   \n",
       "4  [0.029405493289232254, 0.014010551385581493, 0...   \n",
       "\n",
       "                           ORBIS_OVERVIEW_embeddings  \n",
       "0                                                NaN  \n",
       "1  [-0.041709959506988525, -0.011898815631866455,...  \n",
       "2  [-0.012340557761490345, -0.01428779773414135, ...  \n",
       "3  [-0.01883152313530445, 0.021741388365626335, 0...  \n",
       "4  [-0.006068837363272905, 0.010537531226873398, ...  "
      ]
     },
     "execution_count": 14,
     "metadata": {},
     "output_type": "execute_result"
    }
   ],
   "source": [
    "item1_embedding = pd.read_csv(data_root+'merged_1197.csv')\n",
    "item1_embedding = item1_embedding[['cik', 'tic', 'Year', 'item1_embeddings', 'GICS_Sector']]\n",
    "print(len(item1_embedding))\n",
    "print(item1_embedding.head())\n",
    "\n",
    "other_embedding = pd.read_csv(data_root+'output_embeddings_2.csv')\n",
    "other_embedding = other_embedding[['cik', 'SP_SHORT_DESC_embeddings', 'SP_LONG_DESC_embeddings', 'ORBIS_PROD_SERV_embeddings', 'ORBIS_OVERVIEW_embeddings']]\n",
    "print(len(other_embedding))\n",
    "print(other_embedding.head())\n",
    "\n",
    "total_embedding = pd.merge(item1_embedding, other_embedding, on=['cik'])\n",
    "\n",
    "# To reduce mem consumption\n",
    "item1_embedding = ''\n",
    "other_embedding = ''\n",
    "\n",
    "print(len(total_embedding))\n",
    "total_embedding.head()"
   ]
  },
  {
   "cell_type": "markdown",
   "metadata": {},
   "source": [
    "### Check dataset"
   ]
  },
  {
   "cell_type": "code",
   "execution_count": 3,
   "metadata": {},
   "outputs": [
    {
     "name": "stdout",
     "output_type": "stream",
     "text": [
      "The nan value proportion in each column:\n",
      "cik                           0.000000\n",
      "tic                           0.000000\n",
      "Year                          0.000000\n",
      "item1_embeddings              0.000000\n",
      "GICS_Sector                   0.006683\n",
      "SP_SHORT_DESC_embeddings      0.041771\n",
      "SP_LONG_DESC_embeddings       0.095238\n",
      "ORBIS_PROD_SERV_embeddings    0.208020\n",
      "ORBIS_OVERVIEW_embeddings     0.168755\n",
      "dtype: float64\n",
      "\n",
      "\n"
     ]
    }
   ],
   "source": [
    "nan_proportion = total_embedding.isna().mean()\n",
    "print(f\"The nan value proportion in each column:\\n{nan_proportion}\\n\\n\")"
   ]
  },
  {
   "cell_type": "code",
   "execution_count": 4,
   "metadata": {},
   "outputs": [
    {
     "data": {
      "text/plain": [
       "8"
      ]
     },
     "execution_count": 4,
     "metadata": {},
     "output_type": "execute_result"
    }
   ],
   "source": [
    "only_item1 = total_embedding[total_embedding[['GICS_Sector']].isna().all(axis=1)]\n",
    "len(only_item1)"
   ]
  },
  {
   "cell_type": "markdown",
   "metadata": {},
   "source": [
    "# Load ae"
   ]
  },
  {
   "cell_type": "code",
   "execution_count": 5,
   "metadata": {},
   "outputs": [],
   "source": [
    "from model.obtain_model import load_ae\n",
    "device = torch.device(\"cuda\" if torch.cuda.is_available() else \"cpu\")\n",
    "\n",
    "trained_ae = load_ae(\"../model/saved_models/basic_ae.pth\", device)"
   ]
  },
  {
   "cell_type": "code",
   "execution_count": 6,
   "metadata": {},
   "outputs": [],
   "source": [
    "# # Assuming x is a batch of input data (1D, not images)\n",
    "# x = next(iter(test_loader))  # Get a batch of data\n",
    "# x = x[0][8:16]\n",
    "\n",
    "# # Encode the input\n",
    "# trained_ae.eval()\n",
    "# with torch.no_grad():\n",
    "#     x = x.unsqueeze(1)\n",
    "#     generated_samples = trained_ae(x.to(device))\n",
    "    \n",
    "#     # Move to CPU and convert to numpy if necessary\n",
    "#     x = x.cpu()\n",
    "#     x = x.squeeze(1)\n",
    "#     print(x.shape)\n",
    "#     generated_samples = generated_samples.cpu()\n",
    "#     generated_samples = generated_samples.squeeze(1)\n",
    "#     print(generated_samples.shape)\n",
    "    \n",
    "#     # Plot the original and generated samples in separate subplots\n",
    "#     fig, axes = plt.subplots(8, 1, figsize=(12, 24))  # 8 rows, 1 column\n",
    "    \n",
    "#     for i in range(8):\n",
    "#         axes[i].plot(x[i][900:1100], label=\"Original\", linestyle='-', color='b', alpha=0.7)\n",
    "#         axes[i].plot(generated_samples[i][900:1100], label=\"Generated\", linestyle='--', color='r', alpha=0.7)\n",
    "#         axes[i].set_title(f\"Sample {i+1}\")\n",
    "#         axes[i].set_xlabel(\"Data Dimension\")\n",
    "#         axes[i].set_ylabel(\"Value\")\n",
    "#         axes[i].legend()\n",
    "    \n",
    "#     plt.tight_layout()\n",
    "#     plt.show()\n"
   ]
  },
  {
   "cell_type": "markdown",
   "metadata": {},
   "source": [
    "# Train classifier"
   ]
  },
  {
   "cell_type": "markdown",
   "metadata": {},
   "source": [
    "### Prepare training data and label\n",
    "\n",
    "The input of the classifier is the single view embedding (256)."
   ]
  },
  {
   "cell_type": "code",
   "execution_count": null,
   "metadata": {},
   "outputs": [],
   "source": [
    "target_list = ['item1_embeddings', 'SP_LONG_DESC_embeddings', 'SP_SHORT_DESC_embeddings', 'ORBIS_PROD_SERV_embeddings', 'ORBIS_OVERVIEW_embeddings']\n",
    "info_list = ['cik', 'tic', 'Year', 'GICS_Sector']\n",
    "\n",
    "# Drop rows that don't have GICS label\n",
    "exp_df = convert_to_array(total_embedding.dropna(subset=['GICS_Sector']), info_list, target_list, 1536, False)\n",
    "# print(type(exp_df))\n",
    "# print(exp_df.shape)\n",
    "\n",
    "# Dictionary to store the stacked embeddings\n",
    "embedding_arrays = {}\n",
    "label_arrays = {}\n",
    "\n",
    "# Loop through the columns and apply np.vstack\n",
    "for col in target_list:\n",
    "    embedding_arrays[col] = np.vstack(exp_df[col].values)\n",
    "    nan_mask = ~np.any(np.isnan(embedding_arrays[col]), axis=1)\n",
    "\n",
    "    embedding_arrays[col] = embedding_arrays[col][nan_mask]\n",
    "    label_arrays[col] = exp_df['GICS_Sector'][nan_mask]"
   ]
  },
  {
   "cell_type": "code",
   "execution_count": 7,
   "metadata": {},
   "outputs": [
    {
     "name": "stdout",
     "output_type": "stream",
     "text": [
      "<class 'numpy.ndarray'>\n",
      "(5362, 1536)\n",
      "<class 'pandas.core.frame.DataFrame'>\n",
      "(5362, 11)\n"
     ]
    }
   ],
   "source": [
    "X = np.vstack([embedding_arrays['item1_embeddings'],\n",
    "               embedding_arrays['SP_LONG_DESC_embeddings'],\n",
    "               embedding_arrays['SP_SHORT_DESC_embeddings'],\n",
    "               embedding_arrays['ORBIS_PROD_SERV_embeddings'],\n",
    "               embedding_arrays['ORBIS_OVERVIEW_embeddings']])\n",
    "print(type(X))\n",
    "print(X.shape)\n",
    "\n",
    "label_df = pd.concat([label_arrays['item1_embeddings'],\n",
    "                    label_arrays['SP_LONG_DESC_embeddings'],\n",
    "                    label_arrays['SP_SHORT_DESC_embeddings'],\n",
    "                    label_arrays['ORBIS_PROD_SERV_embeddings'],\n",
    "                    label_arrays['ORBIS_OVERVIEW_embeddings']], ignore_index=True)\n",
    "Y = pd.get_dummies(label_df)\n",
    "print(type(Y))\n",
    "print(Y.shape)"
   ]
  },
  {
   "cell_type": "code",
   "execution_count": 8,
   "metadata": {},
   "outputs": [
    {
     "name": "stdout",
     "output_type": "stream",
     "text": [
      "Features shape: torch.Size([64, 1536]), Labels shape: torch.Size([64, 11])\n"
     ]
    }
   ],
   "source": [
    "import torch\n",
    "import numpy as np\n",
    "from torch.utils.data import DataLoader, Dataset, random_split\n",
    "\n",
    "# Convert NumPy arrays to PyTorch tensors\n",
    "X_tensor = torch.tensor(X, dtype=torch.float32)  # Input features\n",
    "y_tensor = torch.tensor(Y.values, dtype=torch.float32)  # One-hot encoded labels (convert from DataFrame)\n",
    "\n",
    "# Custom Dataset class with labels\n",
    "class clasf_Dataset(Dataset):\n",
    "    def __init__(self, features, labels):\n",
    "        self.features = features\n",
    "        self.labels = labels\n",
    "\n",
    "    def __len__(self):\n",
    "        return len(self.features)\n",
    "\n",
    "    def __getitem__(self, idx):\n",
    "        # Return both input data (features) and corresponding labels\n",
    "        return self.features[idx], self.labels[idx]\n",
    "\n",
    "# Create the full dataset with both features and labels\n",
    "dataset = clasf_Dataset(X_tensor, y_tensor)\n",
    "\n",
    "# Split dataset into train and test (80% train, 20% test)\n",
    "train_size = int(0.8 * len(dataset))\n",
    "test_size = len(dataset) - train_size\n",
    "train_dataset, test_dataset = random_split(dataset, [train_size, test_size])\n",
    "\n",
    "# Create DataLoaders for train and test\n",
    "train_loader = DataLoader(train_dataset, batch_size=64, shuffle=True)\n",
    "test_loader = DataLoader(test_dataset, batch_size=64, shuffle=False)\n",
    "\n",
    "# Check the shape of a batch (should print both features and labels)\n",
    "for batch in train_loader:\n",
    "    features, labels = batch\n",
    "    print(f\"Features shape: {features.shape}, Labels shape: {labels.shape}\")  # (64, 1536) for features, (64, 11) for labels\n",
    "    break  # Just print the first batch\n",
    "\n"
   ]
  },
  {
   "cell_type": "markdown",
   "metadata": {},
   "source": [
    "### Training Loop"
   ]
  },
  {
   "cell_type": "code",
   "execution_count": 9,
   "metadata": {},
   "outputs": [
    {
     "name": "stdout",
     "output_type": "stream",
     "text": [
      "Epoch [1/30], Loss: 1.1061, Accuracy: 68.92%\n",
      "Epoch [2/30], Loss: 0.4140, Accuracy: 88.90%\n",
      "Epoch [3/30], Loss: 0.3004, Accuracy: 91.82%\n",
      "Epoch [4/30], Loss: 0.2340, Accuracy: 93.22%\n",
      "Epoch [5/30], Loss: 0.1818, Accuracy: 94.99%\n",
      "Epoch [6/30], Loss: 0.1429, Accuracy: 96.08%\n",
      "Epoch [7/30], Loss: 0.1186, Accuracy: 97.23%\n",
      "Epoch [8/30], Loss: 0.0988, Accuracy: 97.55%\n",
      "Epoch [9/30], Loss: 0.0872, Accuracy: 97.79%\n",
      "Epoch [10/30], Loss: 0.0867, Accuracy: 97.88%\n",
      "Epoch [11/30], Loss: 0.1095, Accuracy: 96.64%\n",
      "Epoch [12/30], Loss: 0.0747, Accuracy: 97.72%\n",
      "Epoch [13/30], Loss: 0.0576, Accuracy: 98.44%\n",
      "Epoch [14/30], Loss: 0.0467, Accuracy: 98.76%\n",
      "Epoch [15/30], Loss: 0.0455, Accuracy: 98.76%\n",
      "Epoch [16/30], Loss: 0.0525, Accuracy: 98.51%\n",
      "Epoch [17/30], Loss: 0.0518, Accuracy: 98.72%\n",
      "Epoch [18/30], Loss: 0.0386, Accuracy: 98.88%\n",
      "Epoch [19/30], Loss: 0.0337, Accuracy: 99.09%\n",
      "Epoch [20/30], Loss: 0.0315, Accuracy: 99.07%\n",
      "Epoch [21/30], Loss: 0.0264, Accuracy: 99.23%\n",
      "Epoch [22/30], Loss: 0.0476, Accuracy: 98.53%\n",
      "Epoch [23/30], Loss: 0.0413, Accuracy: 98.72%\n",
      "Epoch [24/30], Loss: 0.0330, Accuracy: 98.90%\n",
      "Epoch [25/30], Loss: 0.0297, Accuracy: 99.07%\n",
      "Epoch [26/30], Loss: 0.0236, Accuracy: 99.21%\n",
      "Epoch [27/30], Loss: 0.0306, Accuracy: 99.09%\n",
      "Epoch [28/30], Loss: 0.0278, Accuracy: 99.16%\n",
      "Epoch [29/30], Loss: 0.0312, Accuracy: 98.97%\n",
      "Epoch [30/30], Loss: 0.0233, Accuracy: 99.32%\n"
     ]
    }
   ],
   "source": [
    "from model.obtain_model import init_clasf\n",
    "device = torch.device(\"cuda\" if torch.cuda.is_available() else \"cpu\")\n",
    "\n",
    "# Hyper parameters\n",
    "input_dim = 256\n",
    "hidden_dim = 128\n",
    "num_class = 11\n",
    "drop_rate = 0.1\n",
    "\n",
    "clasf = init_clasf(device, input_dim, hidden_dim, num_class, drop_rate)\n",
    "\n",
    "# Define the loss function and optimizer\n",
    "criterion = nn.CrossEntropyLoss()  # Multi-class classification loss\n",
    "optimizer = optim.Adam(clasf.parameters(), lr=0.001)\n",
    "\n",
    "# Training loop\n",
    "num_epochs = 30\n",
    "for epoch in range(num_epochs):\n",
    "    clasf.train()  # Set the model to training mode\n",
    "    running_loss = 0.0\n",
    "    correct = 0\n",
    "    total = 0\n",
    "    \n",
    "    for inputs, labels in train_loader:\n",
    "        # Pre-process\n",
    "        inputs = inputs.to(device)\n",
    "        labels = labels.to(device)\n",
    "        inputs = trained_ae.encoder_net(inputs)\n",
    "\n",
    "        # Zero the parameter gradients\n",
    "        optimizer.zero_grad()\n",
    "        \n",
    "        # Forward pass\n",
    "        outputs, _ = clasf(inputs)\n",
    "        \n",
    "        # Compute loss\n",
    "        loss = criterion(outputs, labels)\n",
    "        \n",
    "        # Backward pass\n",
    "        loss.backward()\n",
    "        \n",
    "        # Optimize the model\n",
    "        optimizer.step()\n",
    "        \n",
    "        # Track statistics\n",
    "        running_loss += loss.item()\n",
    "        _, predicted = torch.max(outputs, 1)  # Get the predicted class (highest logit)\n",
    "        total += labels.size(0)\n",
    "\n",
    "        _, classes = torch.max(labels, 1)\n",
    "        correct += (predicted == classes).sum().item()\n",
    "    \n",
    "    # Print training statistics for this epoch\n",
    "    epoch_loss = running_loss / len(train_loader)\n",
    "    epoch_accuracy = 100 * correct / total\n",
    "    print(f\"Epoch [{epoch+1}/{num_epochs}], Loss: {epoch_loss:.4f}, Accuracy: {epoch_accuracy:.2f}%\")\n"
   ]
  },
  {
   "cell_type": "code",
   "execution_count": 10,
   "metadata": {},
   "outputs": [
    {
     "name": "stdout",
     "output_type": "stream",
     "text": [
      "Test Accuracy: 93.01%\n"
     ]
    }
   ],
   "source": [
    "# Evaluation loop (on the test dataset)\n",
    "clasf.eval()  # Set the model to evaluation mode\n",
    "correct = 0\n",
    "total = 0\n",
    "with torch.no_grad():  # Disable gradient calculation\n",
    "    for inputs, labels in test_loader:\n",
    "        # Pre-process\n",
    "        inputs = inputs.to(device)\n",
    "        labels = labels.to(device)\n",
    "        inputs = trained_ae.encoder_net(inputs)\n",
    "\n",
    "        # Projection and predict\n",
    "        outputs, _ = clasf(inputs)\n",
    "        _, predicted = torch.max(outputs, 1)\n",
    "        total += labels.size(0)\n",
    "        _, classes = torch.max(labels, 1)\n",
    "        correct += (predicted == classes).sum().item()\n",
    "\n",
    "# Print test accuracy\n",
    "test_accuracy = 100 * correct / total\n",
    "print(f\"Test Accuracy: {test_accuracy:.2f}%\")"
   ]
  },
  {
   "cell_type": "code",
   "execution_count": 11,
   "metadata": {},
   "outputs": [],
   "source": [
    "torch.save(clasf.state_dict(), \"../model/saved_models/clasf.pth\")"
   ]
  },
  {
   "cell_type": "markdown",
   "metadata": {},
   "source": [
    "# Test Classifier"
   ]
  },
  {
   "cell_type": "markdown",
   "metadata": {},
   "source": [
    "### Load classifier"
   ]
  },
  {
   "cell_type": "code",
   "execution_count": 12,
   "metadata": {},
   "outputs": [],
   "source": [
    "from model.obtain_model import load_clasf\n",
    "device = torch.device(\"cuda\" if torch.cuda.is_available() else \"cpu\")\n",
    "\n",
    "trained_clasf = load_clasf(\"../model/saved_models/clasf.pth\", device)"
   ]
  },
  {
   "cell_type": "markdown",
   "metadata": {},
   "source": [
    "### Prepare data"
   ]
  },
  {
   "cell_type": "code",
   "execution_count": null,
   "metadata": {},
   "outputs": [
    {
     "name": "stderr",
     "output_type": "stream",
     "text": [
      "d:\\NGNE\\clustering_project\\CP3106\\tool.py:27: SettingWithCopyWarning: \n",
      "A value is trying to be set on a copy of a slice from a DataFrame.\n",
      "Try using .loc[row_indexer,col_indexer] = value instead\n",
      "\n",
      "See the caveats in the documentation: https://pandas.pydata.org/pandas-docs/stable/user_guide/indexing.html#returning-a-view-versus-a-copy\n",
      "  data_df[target] = data_df[target].apply(\n"
     ]
    },
    {
     "name": "stdout",
     "output_type": "stream",
     "text": [
      "<class 'pandas.core.frame.DataFrame'>\n",
      "(1197, 7)\n"
     ]
    }
   ],
   "source": [
    "target_list = ['item1_embeddings', 'SP_LONG_DESC_embeddings', 'ORBIS_OVERVIEW_embeddings']\n",
    "info_list = ['cik', 'tic', 'Year', 'GICS_Sector']\n",
    "\n",
    "exp_df = convert_to_array(total_embedding, info_list, target_list, 1536, False)\n",
    "print(type(exp_df))\n",
    "print(exp_df.shape)\n",
    "\n",
    "\n",
    "# Dictionary to store the stacked embeddings as PyTorch tensors\n",
    "embedding_tensors = {}\n",
    "\n",
    "# Loop through the columns and convert to PyTorch tensor\n",
    "for col in target_list:\n",
    "    numpy_array = np.vstack(exp_df[col].values)  # Stack the column values\n",
    "    embedding_tensors[col] = torch.tensor(numpy_array, dtype=torch.float32)  # Convert to tensor"
   ]
  },
  {
   "cell_type": "code",
   "execution_count": 16,
   "metadata": {},
   "outputs": [],
   "source": [
    "'''\n",
    "convert original embeddings to new latent space with trained_ae and trained_clasf\n",
    "'''\n",
    "def safe_inference(model, input_tensor):\n",
    "    '''\n",
    "    Passes the input tensor through the network,\n",
    "    skipping rows containing only NaNs while preserving their original positions in the output.\n",
    "    '''\n",
    "    # Create a mask to identify NaN rows\n",
    "    nan_mask = torch.isnan(input_tensor).all(dim=1)  # True for rows that are fully NaN\n",
    "    \n",
    "    # Extract valid (non-NaN) rows\n",
    "    valid_rows = input_tensor[~nan_mask]  # Select rows where nan_mask is False\n",
    "    \n",
    "    with torch.no_grad():\n",
    "        valid_output = model(valid_rows)\n",
    "\n",
    "    if isinstance(valid_output, tuple):\n",
    "        _, valid_output = valid_output\n",
    "    \n",
    "    # Create an output tensor filled with NaNs\n",
    "    output = torch.full((input_tensor.shape[0], valid_output.shape[1]), float('nan'), device=input_tensor.device)\n",
    "    \n",
    "    # Insert computed values into the non-NaN positions\n",
    "    output[~nan_mask] = valid_output\n",
    "    \n",
    "    return output\n",
    "\n",
    "latent_tensors = {}\n",
    "for col in target_list:\n",
    "    after_encoder = safe_inference(trained_ae.encoder_net, embedding_tensors[col].to(device))\n",
    "    latent_tensors[col] = safe_inference(trained_clasf, after_encoder)"
   ]
  },
  {
   "cell_type": "code",
   "execution_count": 17,
   "metadata": {},
   "outputs": [],
   "source": [
    "'''\n",
    "Calculate the average of \n",
    "'''\n",
    "def average_tensors(tensor_dict):\n",
    "    \"\"\"\n",
    "    Computes the element-wise average of 2D tensors in a dictionary, \n",
    "    while handling NaN values properly.\n",
    "    \n",
    "    :param tensor_dict: Dictionary where values are 2D tensors of the same shape\n",
    "    :return: A 2D tensor with the averaged values\n",
    "    \"\"\"\n",
    "    tensor_list = list(tensor_dict.values())  # Extract tensors\n",
    "    \n",
    "    # Stack tensors along a new dimension (shape: [num_tensors, rows, cols])\n",
    "    stacked_tensors = torch.stack(tensor_list, dim=0)\n",
    "\n",
    "    # Create a mask for valid (non-NaN) values\n",
    "    valid_mask = ~torch.isnan(stacked_tensors)\n",
    "\n",
    "    # Replace NaNs with 0 for summation\n",
    "    stacked_tensors = torch.nan_to_num(stacked_tensors, nan=0.0)\n",
    "\n",
    "    # Sum across all tensors (axis=0)\n",
    "    summed_tensors = torch.sum(stacked_tensors, dim=0)\n",
    "\n",
    "    # Count valid (non-NaN) values at each position\n",
    "    valid_counts = valid_mask.sum(dim=0)\n",
    "\n",
    "    # Avoid division by zero and compute the average\n",
    "    average_tensor = summed_tensors / torch.clamp(valid_counts, min=1)\n",
    "\n",
    "    return average_tensor\n",
    "\n",
    "average_latent = average_tensors(latent_tensors).cpu()"
   ]
  },
  {
   "cell_type": "code",
   "execution_count": 18,
   "metadata": {},
   "outputs": [
    {
     "data": {
      "text/plain": [
       "tensor([[-0.5115,  0.1762, -0.4470,  ..., -0.3204, -0.9206,  0.3220],\n",
       "        [-0.0561, -0.9329,  0.5674,  ..., -0.5822, -0.0398,  0.6763],\n",
       "        [-0.4251,  0.2646,  0.1217,  ...,  0.2705,  0.2873,  1.4592],\n",
       "        ...,\n",
       "        [-0.2664, -0.0588, -0.3731,  ..., -0.1566, -0.7277, -0.1657],\n",
       "        [ 0.4740, -0.7589, -0.1786,  ..., -0.0649,  0.0743, -0.8534],\n",
       "        [ 0.2330, -0.0293, -1.1696,  ...,  0.0599, -0.5971, -0.4928]])"
      ]
     },
     "execution_count": 18,
     "metadata": {},
     "output_type": "execute_result"
    }
   ],
   "source": [
    "average_latent"
   ]
  },
  {
   "cell_type": "code",
   "execution_count": 19,
   "metadata": {},
   "outputs": [
    {
     "name": "stdout",
     "output_type": "stream",
     "text": [
      "Normalized Within-Cluster Sum of Squares (WCSS): 0.11098154525310673\n",
      "Normalized Within-Cluster Sum of Squares (WCSS): 0.0551630719662111\n"
     ]
    },
    {
     "data": {
      "text/html": [
       "<div>\n",
       "<style scoped>\n",
       "    .dataframe tbody tr th:only-of-type {\n",
       "        vertical-align: middle;\n",
       "    }\n",
       "\n",
       "    .dataframe tbody tr th {\n",
       "        vertical-align: top;\n",
       "    }\n",
       "\n",
       "    .dataframe thead th {\n",
       "        text-align: right;\n",
       "    }\n",
       "</style>\n",
       "<table border=\"1\" class=\"dataframe\">\n",
       "  <thead>\n",
       "    <tr style=\"text-align: right;\">\n",
       "      <th></th>\n",
       "      <th>cik</th>\n",
       "      <th>tic</th>\n",
       "      <th>Year</th>\n",
       "      <th>cluster_10</th>\n",
       "      <th>cluster_100</th>\n",
       "    </tr>\n",
       "  </thead>\n",
       "  <tbody>\n",
       "    <tr>\n",
       "      <th>0</th>\n",
       "      <td>850460</td>\n",
       "      <td>WIRE</td>\n",
       "      <td>2021</td>\n",
       "      <td>1</td>\n",
       "      <td>1</td>\n",
       "    </tr>\n",
       "    <tr>\n",
       "      <th>1</th>\n",
       "      <td>352541</td>\n",
       "      <td>LNT</td>\n",
       "      <td>2021</td>\n",
       "      <td>8</td>\n",
       "      <td>14</td>\n",
       "    </tr>\n",
       "    <tr>\n",
       "      <th>2</th>\n",
       "      <td>1704715</td>\n",
       "      <td>AMR</td>\n",
       "      <td>2021</td>\n",
       "      <td>3</td>\n",
       "      <td>52</td>\n",
       "    </tr>\n",
       "    <tr>\n",
       "      <th>3</th>\n",
       "      <td>1575515</td>\n",
       "      <td>SFM</td>\n",
       "      <td>2021</td>\n",
       "      <td>7</td>\n",
       "      <td>61</td>\n",
       "    </tr>\n",
       "    <tr>\n",
       "      <th>4</th>\n",
       "      <td>1125376</td>\n",
       "      <td>ENSG</td>\n",
       "      <td>2021</td>\n",
       "      <td>2</td>\n",
       "      <td>86</td>\n",
       "    </tr>\n",
       "    <tr>\n",
       "      <th>...</th>\n",
       "      <td>...</td>\n",
       "      <td>...</td>\n",
       "      <td>...</td>\n",
       "      <td>...</td>\n",
       "      <td>...</td>\n",
       "    </tr>\n",
       "    <tr>\n",
       "      <th>1192</th>\n",
       "      <td>1021860</td>\n",
       "      <td>NOV</td>\n",
       "      <td>2021</td>\n",
       "      <td>3</td>\n",
       "      <td>6</td>\n",
       "    </tr>\n",
       "    <tr>\n",
       "      <th>1193</th>\n",
       "      <td>1744489</td>\n",
       "      <td>DIS</td>\n",
       "      <td>2021</td>\n",
       "      <td>6</td>\n",
       "      <td>15</td>\n",
       "    </tr>\n",
       "    <tr>\n",
       "      <th>1194</th>\n",
       "      <td>1102112</td>\n",
       "      <td>PACW</td>\n",
       "      <td>2021</td>\n",
       "      <td>5</td>\n",
       "      <td>21</td>\n",
       "    </tr>\n",
       "    <tr>\n",
       "      <th>1195</th>\n",
       "      <td>28823</td>\n",
       "      <td>DBD</td>\n",
       "      <td>2021</td>\n",
       "      <td>4</td>\n",
       "      <td>95</td>\n",
       "    </tr>\n",
       "    <tr>\n",
       "      <th>1196</th>\n",
       "      <td>100517</td>\n",
       "      <td>UAL</td>\n",
       "      <td>2021</td>\n",
       "      <td>1</td>\n",
       "      <td>18</td>\n",
       "    </tr>\n",
       "  </tbody>\n",
       "</table>\n",
       "<p>1197 rows × 5 columns</p>\n",
       "</div>"
      ],
      "text/plain": [
       "          cik   tic  Year  cluster_10  cluster_100\n",
       "0      850460  WIRE  2021           1            1\n",
       "1      352541   LNT  2021           8           14\n",
       "2     1704715   AMR  2021           3           52\n",
       "3     1575515   SFM  2021           7           61\n",
       "4     1125376  ENSG  2021           2           86\n",
       "...       ...   ...   ...         ...          ...\n",
       "1192  1021860   NOV  2021           3            6\n",
       "1193  1744489   DIS  2021           6           15\n",
       "1194  1102112  PACW  2021           5           21\n",
       "1195    28823   DBD  2021           4           95\n",
       "1196   100517   UAL  2021           1           18\n",
       "\n",
       "[1197 rows x 5 columns]"
      ]
     },
     "execution_count": 19,
     "metadata": {},
     "output_type": "execute_result"
    }
   ],
   "source": [
    "exp_df = exp_df[['cik', 'tic', 'Year']]\n",
    "exp_df['cluster_10'] = cluster(average_latent, 10)\n",
    "exp_df['cluster_100'] = cluster(average_latent, 100)\n",
    "exp_df"
   ]
  },
  {
   "cell_type": "code",
   "execution_count": 20,
   "metadata": {},
   "outputs": [
    {
     "name": "stdout",
     "output_type": "stream",
     "text": [
      "0.40246135117944865\n",
      "0.433659867378158\n",
      "1064\n"
     ]
    }
   ],
   "source": [
    "year = 2021\n",
    "mode = 'forward'  # Can be 'in-sample', 'forward', or 'backtest'\n",
    "returns_long = pd.read_csv(data_root+\"returns_long.csv\")\n",
    "\n",
    "exp_returns = pd.merge(exp_df, returns_long, on='tic', how='inner')\n",
    "\n",
    "exp_intra_corrs_10 = intra_industry_correlations(exp_returns, \"cluster_10\")\n",
    "exp_avg_intra_corr_10 = np.nanmean(list(exp_intra_corrs_10.values()))\n",
    "print(exp_avg_intra_corr_10)\n",
    "\n",
    "exp_intra_corrs_100 = intra_industry_correlations(exp_returns, \"cluster_100\")\n",
    "exp_avg_intra_corr_100 = np.nanmean(list(exp_intra_corrs_100.values()))\n",
    "print(exp_avg_intra_corr_100)\n",
    "\n",
    "print(len(exp_returns['cik'].unique()))"
   ]
  },
  {
   "cell_type": "code",
   "execution_count": 21,
   "metadata": {},
   "outputs": [
    {
     "data": {
      "image/png": "[encoded data removed]",
      "text/plain": [
       "<Figure size 1000x800 with 1 Axes>"
      ]
     },
     "metadata": {},
     "output_type": "display_data"
    }
   ],
   "source": [
    "show_cluster_graph(average_latent, exp_df['cluster_10'])"
   ]
  },
  {
   "cell_type": "code",
   "execution_count": 22,
   "metadata": {},
   "outputs": [],
   "source": [
    "exp_df.to_csv(\"../clustering_res/6_clasf.csv\", index=False)"
   ]
  }
 ],
 "metadata": {
  "kernelspec": {
   "display_name": "NLP",
   "language": "python",
   "name": "python3"
  },
  "language_info": {
   "codemirror_mode": {
    "name": "ipython",
    "version": 3
   },
   "file_extension": ".py",
   "mimetype": "text/x-python",
   "name": "python",
   "nbconvert_exporter": "python",
   "pygments_lexer": "ipython3",
   "version": "3.9.19"
  }
 },
 "nbformat": 4,
 "nbformat_minor": 2
}
