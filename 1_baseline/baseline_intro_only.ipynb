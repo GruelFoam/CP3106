{
 "cells": [
  {
   "cell_type": "code",
   "execution_count": 1,
   "metadata": {},
   "outputs": [],
   "source": [
    "import pandas as pd\n",
    "import json\n",
    "from sklearn.cluster import KMeans\n",
    "import numpy as np"
   ]
  },
  {
   "cell_type": "code",
   "execution_count": null,
   "metadata": {},
   "outputs": [],
   "source": [
    "# file_path = '../item1_and_financial_variable/processed_data/df_stage4_5years.csv'\n",
    "# df = pd.read_csv(file_path)\n",
    "# df = df[df['Year']==2021]\n",
    "# df[['CIK', 'Year', 'Embeddings']].to_csv(\"2021_embedding.csv\", index=False)\n"
   ]
  },
  {
   "cell_type": "code",
   "execution_count": 2,
   "metadata": {},
   "outputs": [
    {
     "name": "stdout",
     "output_type": "stream",
     "text": [
      "          CIK  Year                                         Embeddings\n",
      "231    861459  2021  [0.005930817220360041, 0.010183613747358322, 0...\n",
      "675    861459  2021  [0.005812405608594418, 0.0010421487968415022, ...\n",
      "160    886128  2021  [0.0029625254683196545, -0.006495341192930937,...\n",
      "196    886128  2021  [-0.00039266914245672524, -0.01439815759658813...\n",
      "506    898437  2021  [-0.016832245513796806, 0.026567725464701653, ...\n",
      "1158   898437  2021  [-0.016669191420078278, 0.02598797157406807, 0...\n",
      "275    943819  2021  [-0.06954989582300186, -0.007926642894744873, ...\n",
      "511    943819  2021  [0.0375671461224556, 0.035842668265104294, 0.0...\n",
      "1086   943819  2021  [0.0047199055552482605, 0.02963181398808956, 0...\n",
      "780   1590715  2021  [0.018716150894761086, 0.0005908565944992006, ...\n",
      "927   1590715  2021  [0.0156477689743042, 0.005799402948468924, 0.0...\n"
     ]
    },
    {
     "data": {
      "text/html": [
       "<div>\n",
       "<style scoped>\n",
       "    .dataframe tbody tr th:only-of-type {\n",
       "        vertical-align: middle;\n",
       "    }\n",
       "\n",
       "    .dataframe tbody tr th {\n",
       "        vertical-align: top;\n",
       "    }\n",
       "\n",
       "    .dataframe thead th {\n",
       "        text-align: right;\n",
       "    }\n",
       "</style>\n",
       "<table border=\"1\" class=\"dataframe\">\n",
       "  <thead>\n",
       "    <tr style=\"text-align: right;\">\n",
       "      <th></th>\n",
       "      <th>CIK</th>\n",
       "      <th>Year</th>\n",
       "      <th>Embeddings</th>\n",
       "    </tr>\n",
       "  </thead>\n",
       "  <tbody>\n",
       "  </tbody>\n",
       "</table>\n",
       "</div>"
      ],
      "text/plain": [
       "Empty DataFrame\n",
       "Columns: [CIK, Year, Embeddings]\n",
       "Index: []"
      ]
     },
     "execution_count": 2,
     "metadata": {},
     "output_type": "execute_result"
    }
   ],
   "source": [
    "file_path = 'baseline_data/2021_embedding.csv'\n",
    "df = pd.read_csv(file_path)\n",
    "\n",
    "# There are several firms that have more than one embedding, I only retain first one here\n",
    "duplicates = df[df['CIK'].duplicated(keep=False)]\n",
    "print(duplicates.sort_values(by=\"CIK\"))\n",
    "df = df.drop_duplicates(subset='CIK', keep='first')\n",
    "df[df['CIK'].duplicated(keep=False)]"
   ]
  },
  {
   "cell_type": "code",
   "execution_count": 3,
   "metadata": {},
   "outputs": [
    {
     "data": {
      "text/plain": [
       "1219"
      ]
     },
     "execution_count": 3,
     "metadata": {},
     "output_type": "execute_result"
    }
   ],
   "source": [
    "len(df)"
   ]
  },
  {
   "cell_type": "code",
   "execution_count": 73,
   "metadata": {},
   "outputs": [],
   "source": [
    "df_cluster = df"
   ]
  },
  {
   "cell_type": "code",
   "execution_count": null,
   "metadata": {},
   "outputs": [],
   "source": [
    "# file_path = '../item1_and_financial_variable/compustat_entire_2005_2022.csv'\n",
    "# df = pd.read_csv(file_path)\n",
    "# df = df[['cik', 'fyear', 'tic']]\n",
    "# df = df.rename(columns={'cik': 'CIK', 'fyear': 'Year'})\n",
    "# df.to_csv(\"tic_mapping.csv\", index=False)\n",
    "\n",
    "# df.head()"
   ]
  },
  {
   "cell_type": "code",
   "execution_count": 74,
   "metadata": {},
   "outputs": [
    {
     "name": "stdout",
     "output_type": "stream",
     "text": [
      "219761\n",
      "167766\n",
      "      CIK    Year  tic\n",
      "0  1750.0  2004.0  AIR\n",
      "1  1750.0  2005.0  AIR\n",
      "2  1750.0  2006.0  AIR\n",
      "3  1750.0  2007.0  AIR\n",
      "4  1750.0  2008.0  AIR\n",
      "int64\n",
      "int64\n",
      "int64\n",
      "int64\n"
     ]
    }
   ],
   "source": [
    "file_path = \"baseline_data/tic_mapping.csv\"\n",
    "df = pd.read_csv(file_path)\n",
    "print(len(df))\n",
    "\n",
    "# Several records in compustats have nan values\n",
    "df = df.dropna(subset=['CIK', 'Year', 'tic'])\n",
    "print(len(df))\n",
    "print(df.head())\n",
    "# merged_df = pd.merge(df, compustat, how='left', on=['CIK', 'Year'])\n",
    "\n",
    "\n",
    "# Convert the data type\n",
    "df['CIK'] = df[\"CIK\"].astype(\"int64\")\n",
    "df['Year'] = df['Year'].astype(\"int64\")\n",
    "\n",
    "print(df_cluster['CIK'].dtype)\n",
    "print(df['CIK'].dtype)\n",
    "\n",
    "print(df_cluster['Year'].dtype)\n",
    "print(df['Year'].dtype)"
   ]
  },
  {
   "cell_type": "code",
   "execution_count": 75,
   "metadata": {},
   "outputs": [
    {
     "name": "stdout",
     "output_type": "stream",
     "text": [
      "1403\n",
      "1381\n",
      "1197\n"
     ]
    }
   ],
   "source": [
    "# Get \"tic\" for each record. problem here is that several embeddings don't have matching tic.\n",
    "merged_df = pd.merge(df_cluster, df, how='left', on=['CIK', 'Year'])\n",
    "# print(merged_df[merged_df.isna().any(axis=1)])\n",
    "\n",
    "# It might because some records from compustat have nan cik or fyear, and those records are deleted from the above cell\n",
    "print(len(merged_df))\n",
    "merged_df = merged_df.dropna()\n",
    "print(len(merged_df))\n",
    "\n",
    "# Some duplicate from compustats, droped those duplicated records\n",
    "# print(merged_df[merged_df['CIK'].duplicated(keep=False)])\n",
    "merged_df = merged_df.drop_duplicates(subset=[\"CIK\", \"Year\"])\n",
    "\n",
    "print(len(merged_df))\n",
    "# print(merged_df.head())\n"
   ]
  },
  {
   "cell_type": "code",
   "execution_count": 76,
   "metadata": {},
   "outputs": [
    {
     "name": "stdout",
     "output_type": "stream",
     "text": [
      "1197\n"
     ]
    },
    {
     "data": {
      "text/plain": [
       "534"
      ]
     },
     "execution_count": 76,
     "metadata": {},
     "output_type": "execute_result"
    }
   ],
   "source": [
    "\n",
    "print(len(merged_df['tic'].unique()))\n",
    "\n",
    "with open(\"baseline_data/firm_subset.json\", \"r\") as file:\n",
    "    subset = json.load(file)\n",
    "\n",
    "merged_df = merged_df[merged_df['tic'].isin(subset)]\n",
    "len(merged_df['tic'].unique())"
   ]
  },
  {
   "cell_type": "markdown",
   "metadata": {},
   "source": [
    "### Clustering without PCA"
   ]
  },
  {
   "cell_type": "code",
   "execution_count": 56,
   "metadata": {},
   "outputs": [
    {
     "data": {
      "text/plain": [
       "534"
      ]
     },
     "execution_count": 56,
     "metadata": {},
     "output_type": "execute_result"
    }
   ],
   "source": [
    "embedding_list = list(merged_df['Embeddings'].apply(json.loads))\n",
    "len(embedding_list)"
   ]
  },
  {
   "cell_type": "code",
   "execution_count": 57,
   "metadata": {},
   "outputs": [],
   "source": [
    "def cluster(target, n_clusters):\n",
    "    # Convert to a numpy array\n",
    "    X = np.array(target)\n",
    "\n",
    "    # Initialize and fit the k-means model\n",
    "    kmeans = KMeans(n_clusters=n_clusters, random_state=42)\n",
    "    kmeans.fit(X)\n",
    "\n",
    "    # Get cluster assignments\n",
    "    labels = kmeans.labels_\n",
    "    print(\"Cluster Labels:\", labels)\n",
    "\n",
    "    # Get cluster centers\n",
    "    centers = kmeans.cluster_centers_\n",
    "    print(\"Cluster Centers:\", centers)\n",
    "\n",
    "    wcss = np.sum((X - centers[labels])**2)\n",
    "    print(\"Within-Cluster Sum of Squares (WCSS):\", wcss)\n",
    "\n",
    "    return labels\n"
   ]
  },
  {
   "cell_type": "code",
   "execution_count": 59,
   "metadata": {},
   "outputs": [
    {
     "name": "stdout",
     "output_type": "stream",
     "text": [
      "Cluster Labels: [8 4 2 8 3 5 8 4 8 8 7 0 4 8 8 3 5 9 8 5 8 2 1 9 8 5 2 1 3 8 5 1 4 8 5 6 4\n",
      " 8 1 0 7 1 2 2 9 8 4 8 9 7 0 8 5 4 0 5 9 4 5 9 9 3 5 9 1 1 3 5 9 0 3 5 9 4\n",
      " 4 2 3 8 3 5 4 9 5 1 4 4 2 1 8 5 4 1 7 8 8 4 8 3 4 8 2 7 2 9 4 8 5 8 9 9 7\n",
      " 4 9 7 8 4 5 8 7 2 9 8 7 1 1 7 7 5 1 0 1 4 6 8 3 7 7 6 8 5 4 4 5 0 1 9 7 3\n",
      " 3 3 8 1 3 8 2 0 3 3 3 9 3 6 9 5 8 2 9 1 5 4 3 8 7 8 8 7 3 7 6 5 4 2 8 2 5\n",
      " 8 8 2 5 4 4 2 5 4 9 2 7 8 8 1 0 9 7 9 5 1 1 5 5 1 4 9 8 1 1 4 7 8 7 0 7 4\n",
      " 8 7 4 2 8 1 5 7 2 2 4 3 8 5 1 9 5 5 7 1 6 6 7 7 5 6 2 4 3 8 2 0 8 4 4 5 5\n",
      " 9 1 9 0 5 2 4 1 3 5 7 4 8 7 9 8 4 3 1 8 1 4 9 4 8 2 2 2 9 2 2 4 7 1 4 1 9\n",
      " 4 7 8 1 5 5 4 8 8 0 3 7 8 7 7 9 8 5 7 2 2 8 6 4 5 2 8 8 2 7 5 2 3 7 7 9 4\n",
      " 8 8 2 2 9 7 3 8 4 1 3 4 3 7 5 0 4 4 8 3 8 5 6 4 6 4 7 7 7 3 0 5 9 4 9 8 3\n",
      " 2 1 5 9 9 9 9 7 8 1 1 8 6 9 9 8 8 9 8 7 2 4 3 7 8 8 8 3 9 8 4 4 0 9 9 5 2\n",
      " 5 1 1 7 4 5 8 2 5 8 7 8 8 4 8 5 2 3 7 7 9 8 3 6 8 4 8 2 1 3 8 4 4 2 9 5 3\n",
      " 2 5 3 1 8 5 1 8 4 1 8 5 8 5 0 8 4 0 5 7 3 8 8 8 7 4 5 9 2 5 5 1 8 5 3 2 9\n",
      " 8 8 5 0 8 9 2 9 1 3 4 6 4 1 7 2 7 2 3 4 7 3 7 4 8 1 4 4 7 3 2 4 9 7 2 9 6\n",
      " 5 5 3 9 7 3 7 1 8 4 6 6 9 1 1 8]\n",
      "Cluster Centers: [[-0.01094644  0.01837494  0.04367192 ...  0.00651653  0.01877352\n",
      "   0.02434858]\n",
      " [-0.00568798  0.01909357  0.04355488 ...  0.00597473  0.02085593\n",
      "   0.01520522]\n",
      " [ 0.00098981  0.0058823   0.04445785 ...  0.01116575  0.01785055\n",
      "   0.02031557]\n",
      " ...\n",
      " [-0.01202286  0.00906027  0.03723979 ...  0.0079787   0.01207921\n",
      "   0.01545356]\n",
      " [ 0.00227832  0.01213355  0.03924076 ...  0.00289671  0.01398424\n",
      "   0.01976573]\n",
      " [-0.00539377  0.003667    0.04869224 ...  0.00051998  0.01303492\n",
      "   0.01793367]]\n",
      "Within-Cluster Sum of Squares (WCSS): 223.34717679407464\n",
      "Cluster Labels: [72 23 28 19 34 42 56 23 57 55 26 63 17 27 60 59 67 21 27 33 56 28 23 58\n",
      "  7 81 86 37 12 82 71 61  6 88 59 83 14 13 43 62 73 43 28 50 98 10 37 55\n",
      " 97 44 62  7 61 37 26 33 84 93 67 45 45 70 12 28 15 49 34 19 74  0 83  7\n",
      " 47 23 93 11 78 26 83 99  6 54 33  1 87 17  4 95 27 19 40 21 26 88 56 40\n",
      " 56  8 31 50 41 51 20 43 50  5 33 77 47 45 73 86 29 12 18 50 33 56 78 28\n",
      " 45 50 44 21 21 30 44 33 21 62 79 96 32 27 39 91 24 65  8  8 14 61 33 48\n",
      " 79 43 44 83 34  7 82 25 44 13  4 48  2 65 78 58 26 74 67 71 50 41 19 89\n",
      "  8 93 83 50  8 55 52  8 33 92 74 70 50 85 27 19 70 66 72 28 33  9 31 28\n",
      " 64  9 74 20 10 38 27 15  0 98 44 74 67 21 21 59 19 49 96 30 68 49 35 83\n",
      " 83 18 12  0 53  9 35 77 23 28 50 49 39 44 41 41 82 34  2 19 95 45 33 33\n",
      " 12 21 32  3 83  8 61 32 18 50 83  7 85 92 51 93 17 33 20 29 86 97 62 39\n",
      " 20 37 90 19 59  1 23 55 27 84 22 14 59 21 27  3 23 49 50 18 28 41 41 54\n",
      " 20 20 37 12 95 90 15 54 93 35 26 89 33 19 76 27 22 63 59 44 23 12 69 46\n",
      " 10 77 12 20 28  8 32  9 19 41 27 18 20 91 70  4  5 44 26 94 50 66 55  4\n",
      " 80  3 35  2 72 50 74 64 40 34 26 77  0 93 93 55 36 18 33 74  9  3 50 92\n",
      " 12 77 78 51 33 29 17 45 59 36 28 67 67 45 84 43 47 92 57 89 79 18 16  8\n",
      " 89 50 26 46  7 44 85 23 56  8 55 55 38 64 43 56 37 93 26 45 43 45 28 67\n",
      " 21 90 43 80 45  7 20 67  5 26 55 56 96 82 45 28 70 44 12 46 10 83 43 97\n",
      "  9 88 41 67 27 55 23 37 11 42 19  2 85 19 59 89 23 33 37 50 23 28 77 70\n",
      " 13 33 92  7 14 12 67  8 83 50 82 27 44 31  8 45 28 99 33 79 72 98 59  4\n",
      " 29 27 60 19 63 18 47 20 45  3 36 23 32 23 49 44 28 44 11 83  9 64 78 12\n",
      " 90 64 75 50 40 73 78 28 37 42 53 28 42 32  8  7 83 45 51 78 64 89 57  9\n",
      " 81 32 47 79 15 66]\n",
      "Cluster Centers: [[-0.00875048  0.0185424   0.04840055 ...  0.02286651  0.01621179\n",
      "   0.02233788]\n",
      " [ 0.02353169  0.04046443  0.05912619 ...  0.02296604  0.03261501\n",
      "   0.01408171]\n",
      " [-0.00286692  0.00386784  0.0334451  ...  0.02394341  0.01329443\n",
      "   0.02362403]\n",
      " ...\n",
      " [-0.00184056  0.02331127  0.03659552 ...  0.00331514  0.0146948\n",
      "   0.00994494]\n",
      " [-0.01597016  0.00976912  0.07346351 ...  0.01988007  0.0258729\n",
      "   0.0175303 ]\n",
      " [-0.01673459  0.02881349  0.08277472 ...  0.01115837  0.01005537\n",
      "   0.01890403]]\n",
      "Within-Cluster Sum of Squares (WCSS): 153.63957952143184\n"
     ]
    },
    {
     "data": {
      "text/html": [
       "<div>\n",
       "<style scoped>\n",
       "    .dataframe tbody tr th:only-of-type {\n",
       "        vertical-align: middle;\n",
       "    }\n",
       "\n",
       "    .dataframe tbody tr th {\n",
       "        vertical-align: top;\n",
       "    }\n",
       "\n",
       "    .dataframe thead th {\n",
       "        text-align: right;\n",
       "    }\n",
       "</style>\n",
       "<table border=\"1\" class=\"dataframe\">\n",
       "  <thead>\n",
       "    <tr style=\"text-align: right;\">\n",
       "      <th></th>\n",
       "      <th>CIK</th>\n",
       "      <th>Year</th>\n",
       "      <th>Embeddings</th>\n",
       "      <th>tic</th>\n",
       "      <th>Cluster_10</th>\n",
       "      <th>Cluster_100</th>\n",
       "    </tr>\n",
       "  </thead>\n",
       "  <tbody>\n",
       "    <tr>\n",
       "      <th>2</th>\n",
       "      <td>1704715</td>\n",
       "      <td>2021</td>\n",
       "      <td>[0.014074714854359627, 0.006938479840755463, 0...</td>\n",
       "      <td>AMR</td>\n",
       "      <td>8</td>\n",
       "      <td>72</td>\n",
       "    </tr>\n",
       "    <tr>\n",
       "      <th>3</th>\n",
       "      <td>1575515</td>\n",
       "      <td>2021</td>\n",
       "      <td>[-0.023708730936050415, 0.01762891560792923, 0...</td>\n",
       "      <td>SFM</td>\n",
       "      <td>4</td>\n",
       "      <td>23</td>\n",
       "    </tr>\n",
       "    <tr>\n",
       "      <th>4</th>\n",
       "      <td>1125376</td>\n",
       "      <td>2021</td>\n",
       "      <td>[0.04463111609220505, 0.0018805989529937506, 0...</td>\n",
       "      <td>ENSG</td>\n",
       "      <td>2</td>\n",
       "      <td>28</td>\n",
       "    </tr>\n",
       "    <tr>\n",
       "      <th>5</th>\n",
       "      <td>1674335</td>\n",
       "      <td>2021</td>\n",
       "      <td>[-0.0054583558812737465, 0.04776754230260849, ...</td>\n",
       "      <td>JELD</td>\n",
       "      <td>8</td>\n",
       "      <td>19</td>\n",
       "    </tr>\n",
       "    <tr>\n",
       "      <th>6</th>\n",
       "      <td>1023128</td>\n",
       "      <td>2021</td>\n",
       "      <td>[0.007417375687509775, -0.03694348409771919, -...</td>\n",
       "      <td>LAD</td>\n",
       "      <td>3</td>\n",
       "      <td>34</td>\n",
       "    </tr>\n",
       "  </tbody>\n",
       "</table>\n",
       "</div>"
      ],
      "text/plain": [
       "       CIK  Year                                         Embeddings   tic  \\\n",
       "2  1704715  2021  [0.014074714854359627, 0.006938479840755463, 0...   AMR   \n",
       "3  1575515  2021  [-0.023708730936050415, 0.01762891560792923, 0...   SFM   \n",
       "4  1125376  2021  [0.04463111609220505, 0.0018805989529937506, 0...  ENSG   \n",
       "5  1674335  2021  [-0.0054583558812737465, 0.04776754230260849, ...  JELD   \n",
       "6  1023128  2021  [0.007417375687509775, -0.03694348409771919, -...   LAD   \n",
       "\n",
       "   Cluster_10  Cluster_100  \n",
       "2           8           72  \n",
       "3           4           23  \n",
       "4           2           28  \n",
       "5           8           19  \n",
       "6           3           34  "
      ]
     },
     "execution_count": 59,
     "metadata": {},
     "output_type": "execute_result"
    }
   ],
   "source": [
    "labels_10 = cluster(embedding_list, 10)\n",
    "merged_df['Cluster_10'] = labels_10\n",
    "labels_100 = cluster(embedding_list, 100)\n",
    "merged_df['Cluster_100'] = labels_100\n",
    "merged_df.head()"
   ]
  },
  {
   "cell_type": "code",
   "execution_count": 60,
   "metadata": {},
   "outputs": [],
   "source": [
    "import yfinance as yf\n",
    "\n",
    "def fetch_stock_data(df_full_set, year, mode):\n",
    "    # Filter data for the given year\n",
    "    df_processed = df_full_set[df_full_set.Year == year]\n",
    "\n",
    "    # Get unique tickers\n",
    "    tickers = df_processed['tic'].unique().tolist()\n",
    "\n",
    "    # Define the period based on the mode\n",
    "    if mode == 'in-sample':\n",
    "        # In-sample mode: start and end within the same year\n",
    "        start_date = f'{year}-01-01'\n",
    "        end_date = f'{year}-12-31'\n",
    "    elif mode == 'forward':\n",
    "        # Forward mode: next two years\n",
    "        start_date = f'{year+1}-01-01'\n",
    "        end_date = f'{year+2}-12-31'\n",
    "    elif mode == 'backtest':\n",
    "        # Backtest mode: last 10 years, up until year-1\n",
    "        start_date = f'{year-10}-01-01'\n",
    "        end_date = f'{year-1}-12-31'\n",
    "    else:\n",
    "        raise ValueError(\"Mode must be 'in-sample', 'forward', or 'backtest'\")\n",
    "\n",
    "    # Fetch historical stock data for all tickers\n",
    "    stock_data = yf.download(tickers, threads= False, start=start_date, end=end_date)\n",
    "\n",
    "    # Get adjusted close prices\n",
    "    close_prices = stock_data['Adj Close']\n",
    "\n",
    "    # Drop columns where all values are NaN\n",
    "    close_prices = close_prices.dropna(axis=1, how='all')\n",
    "\n",
    "    # Calculate daily returns\n",
    "    returns = close_prices.pct_change()\n",
    "\n",
    "    # Melt the returns DataFrame to long format for merging\n",
    "    returns_long = returns.reset_index().melt(id_vars='Date', var_name='tic', value_name='Return')\n",
    "\n",
    "\n",
    "\n",
    "# Merge the returns with the original dataframe\n",
    "\n",
    "\n",
    "\n",
    "    return returns_long\n"
   ]
  },
  {
   "cell_type": "code",
   "execution_count": 61,
   "metadata": {},
   "outputs": [],
   "source": [
    "#Start of where Tongzhou should reference\n",
    "\n",
    "year = 2021\n",
    "mode = 'forward'  # Can be 'in-sample', 'forward', or 'backtest'\n",
    "# returns_long = fetch_stock_data(merged_df, year, mode)\n",
    "returns_long = pd.read_csv(\"baseline_data/return_for_merged_item1.csv\")\n",
    "\n",
    "df_returns = pd.merge(merged_df, returns_long, on='tic', how='inner')\n"
   ]
  },
  {
   "cell_type": "code",
   "execution_count": 62,
   "metadata": {},
   "outputs": [
    {
     "name": "stdout",
     "output_type": "stream",
     "text": [
      "534\n"
     ]
    },
    {
     "data": {
      "text/plain": [
       "534"
      ]
     },
     "execution_count": 62,
     "metadata": {},
     "output_type": "execute_result"
    }
   ],
   "source": [
    "print(len(df_returns['tic'].unique()))\n",
    "\n",
    "with open(\"baseline_data/firm_subset.json\", \"r\") as file:\n",
    "    subset = json.load(file)\n",
    "\n",
    "df_returns = df_returns[df_returns['tic'].isin(subset)]\n",
    "len(df_returns['tic'].unique())\n"
   ]
  },
  {
   "cell_type": "code",
   "execution_count": 18,
   "metadata": {},
   "outputs": [],
   "source": [
    "def intra_industry_correlations(df, classification_column):\n",
    "    intra_matrix = []\n",
    "    industry_groups = df.groupby(classification_column)\n",
    "    intra_correlations = {}\n",
    "    for industry, group in industry_groups:\n",
    "        pivot_table = group.pivot(index='Date', columns='tic', values='Return')\n",
    "        corr_matrix = pivot_table.corr()\n",
    "        # Take the upper triangle of the correlation matrix without the diagonal\n",
    "        intra_corr = corr_matrix.where(np.triu(np.ones(corr_matrix.shape), k=1).astype(bool)).stack().mean()\n",
    "        intra_correlations[industry] = intra_corr\n",
    "    return intra_correlations"
   ]
  },
  {
   "cell_type": "code",
   "execution_count": 63,
   "metadata": {},
   "outputs": [
    {
     "data": {
      "text/plain": [
       "0.3472796232527919"
      ]
     },
     "execution_count": 63,
     "metadata": {},
     "output_type": "execute_result"
    }
   ],
   "source": [
    "intra_corrs_10 = intra_industry_correlations(df_returns, \"Cluster_10\")\n",
    "avg_intra_corr_10 = np.nanmean(list(intra_corrs_10.values()))\n",
    "avg_intra_corr_10"
   ]
  },
  {
   "cell_type": "code",
   "execution_count": 64,
   "metadata": {},
   "outputs": [
    {
     "data": {
      "text/plain": [
       "0.4172189683301795"
      ]
     },
     "execution_count": 64,
     "metadata": {},
     "output_type": "execute_result"
    }
   ],
   "source": [
    "intra_corrs_100 = intra_industry_correlations(df_returns, \"Cluster_100\")\n",
    "avg_intra_corr_100 = np.nanmean(list(intra_corrs_100.values()))\n",
    "avg_intra_corr_100"
   ]
  },
  {
   "cell_type": "code",
   "execution_count": null,
   "metadata": {},
   "outputs": [],
   "source": [
    "# merged_df.to_csv(\"merged_df_from_item1.csv\", index=False)"
   ]
  },
  {
   "cell_type": "markdown",
   "metadata": {},
   "source": [
    "### PCA dimension reduction"
   ]
  },
  {
   "cell_type": "code",
   "execution_count": 77,
   "metadata": {},
   "outputs": [
    {
     "name": "stdout",
     "output_type": "stream",
     "text": [
      "1197\n"
     ]
    },
    {
     "data": {
      "text/plain": [
       "534"
      ]
     },
     "execution_count": 77,
     "metadata": {},
     "output_type": "execute_result"
    }
   ],
   "source": [
    "file_path = \"baseline_data/merged_df_from_item1.csv\"\n",
    "item1_df = pd.read_csv(file_path)\n",
    "item1_df = item1_df.drop(['Cluster_10', 'Cluster_100'], axis=1)\n",
    "item1_df.head()\n",
    "\n",
    "print(len(item1_df['tic'].unique()))\n",
    "\n",
    "with open(\"baseline_data/firm_subset.json\", \"r\") as file:\n",
    "    subset = json.load(file)\n",
    "\n",
    "item1_df = item1_df[item1_df['tic'].isin(subset)]\n",
    "len(item1_df['tic'].unique())"
   ]
  },
  {
   "cell_type": "code",
   "execution_count": 78,
   "metadata": {},
   "outputs": [
    {
     "data": {
      "text/plain": [
       "534"
      ]
     },
     "execution_count": 78,
     "metadata": {},
     "output_type": "execute_result"
    }
   ],
   "source": [
    "from sklearn.decomposition import PCA\n",
    "embedding_list = list(item1_df['Embeddings'].apply(json.loads))\n",
    "\n",
    "pca = PCA(n_components=10)\n",
    "embedding_pca = pca.fit_transform(embedding_list)\n",
    "embedding_pca = np.array(embedding_pca)\n",
    "len(embedding_pca)"
   ]
  },
  {
   "cell_type": "code",
   "execution_count": 79,
   "metadata": {},
   "outputs": [
    {
     "name": "stdout",
     "output_type": "stream",
     "text": [
      "Cluster Labels: [0 6 2 1 9 5 8 6 1 8 4 0 6 8 0 9 5 5 8 7 8 2 3 5 8 7 2 6 9 8 7 4 6 0 7 1 6\n",
      " 0 4 0 0 5 2 2 5 8 6 8 5 3 1 8 1 6 0 7 5 6 5 5 5 1 1 5 4 4 9 7 5 0 9 7 4 6\n",
      " 6 2 9 0 9 0 6 4 7 4 6 6 2 4 8 7 6 4 0 8 8 6 8 9 6 8 2 0 2 5 1 1 7 0 4 5 0\n",
      " 6 5 0 8 8 7 8 0 2 5 1 3 4 4 5 3 7 4 0 4 6 4 8 9 3 3 4 0 7 6 1 7 0 4 5 3 9\n",
      " 3 9 8 5 9 0 2 0 9 9 9 5 9 4 5 7 8 2 5 4 7 6 9 8 1 8 8 0 9 6 4 1 1 2 8 2 7\n",
      " 8 0 2 7 6 6 2 1 6 5 2 1 8 1 4 0 5 3 5 5 4 4 1 7 4 6 5 1 1 1 6 3 8 1 1 3 6\n",
      " 1 1 6 2 1 4 7 3 2 2 8 9 0 7 4 5 7 7 1 4 4 4 3 1 1 5 2 6 3 8 2 0 0 6 6 7 7\n",
      " 5 6 5 0 7 2 6 6 9 7 3 6 1 3 5 0 6 9 4 0 4 6 4 6 8 2 2 2 5 2 2 6 1 4 6 4 4\n",
      " 6 1 0 4 7 7 6 8 0 0 9 3 8 3 1 4 8 9 3 2 2 1 4 6 7 2 1 8 2 3 7 2 1 3 0 5 6\n",
      " 8 8 2 2 5 1 9 0 6 4 9 6 9 9 7 0 6 6 1 9 8 7 4 6 4 6 0 9 0 9 0 7 5 8 5 8 9\n",
      " 2 4 5 5 5 5 5 0 1 4 4 8 4 5 5 8 0 4 0 3 2 6 9 1 1 8 8 9 5 8 6 6 0 5 5 5 2\n",
      " 5 4 6 3 6 5 8 2 5 8 0 8 8 6 8 7 2 9 3 1 4 1 9 5 8 6 8 2 4 9 1 6 6 2 5 7 9\n",
      " 2 7 9 4 8 7 1 8 1 4 0 9 0 7 0 8 6 0 5 1 1 8 8 8 3 6 7 5 2 5 7 4 0 3 9 2 4\n",
      " 0 8 7 0 8 5 2 5 4 3 6 4 6 4 3 2 3 2 9 6 1 9 4 6 1 4 1 6 0 9 2 6 5 3 2 5 5\n",
      " 7 7 3 5 0 9 9 4 1 6 4 4 5 4 4 8]\n",
      "Cluster Centers: [[-0.10278711 -0.10229995 -0.09211094  0.17134804  0.01879176  0.01840519\n",
      "  -0.00584675 -0.0320028   0.06672082 -0.01996198]\n",
      " [-0.03469631 -0.0827344   0.00818506 -0.05281523 -0.02506711 -0.0171761\n",
      "   0.13232355 -0.00499855  0.00805297 -0.03485055]\n",
      " [-0.03229565  0.2465572   0.05470894  0.08178656 -0.10906548 -0.12792578\n",
      "  -0.02190041 -0.01204051  0.02251642  0.0064483 ]\n",
      " [ 0.07945199 -0.10802347 -0.13004543 -0.0440735   0.03504796 -0.12691844\n",
      "  -0.06468168 -0.03594013 -0.06088672  0.05010271]\n",
      " [ 0.13504206  0.04539647 -0.09205772  0.02872659 -0.05748249  0.07883623\n",
      "   0.01075964  0.02559263 -0.05662666 -0.04079936]\n",
      " [ 0.04255237  0.13562928 -0.07425214 -0.04319744  0.12173333  0.03049258\n",
      "   0.00806245  0.05321731 -0.01483985  0.00639139]\n",
      " [ 0.20326223 -0.0689374   0.14515186 -0.00678898  0.01494527 -0.00182509\n",
      "  -0.00870904 -0.01888632  0.05746054  0.01177508]\n",
      " [-0.16326346  0.08177039  0.01714297 -0.106361    0.0492302   0.05777306\n",
      "   0.01019384 -0.07602869  0.03162587  0.01746933]\n",
      " [-0.12487118 -0.07733135  0.12582074  0.06502546  0.02385888  0.0337635\n",
      "  -0.00412761  0.06322572 -0.04768028  0.01892724]\n",
      " [-0.09075377 -0.1080533  -0.04348166 -0.15825661 -0.09131724 -0.02761473\n",
      "  -0.09478628 -0.01217647 -0.0251994   0.01068874]]\n",
      "Within-Cluster Sum of Squares (WCSS): 29.757818557602874\n",
      "Cluster Labels: [25 30 12 91 22 35  3  8 83 58 94 60 51 33 52  5 27 48 16 63 16 49  7 54\n",
      " 55 97 79 77 87 73 14 21 96 19 81 72 51 65 61 57 80 48 49 92 34 74 36 19\n",
      " 48  7 76 16 62 44 57 63 48  6 70 54 89 87 76 85 21 18 22  3 34  0 22 16\n",
      " 42  8 93 13  4  9 72 29 96 77 14 49 36 51 31 40 16 84  6 61 33 19 10  6\n",
      " 10 64 30 99 92  9 92 48 88 83 81 59 26 26 80 79 26 80 58 99 84  3  0 12\n",
      " 70 74 66 61 40  2 66 81 40 57 90 36 98 16 64 94 43 72  9 23  8 62 14 60\n",
      " 18 78  7 38 38 45 19 78 64 65 11 60  5 72 45 54 97 42 78 14 55 71 85 61\n",
      " 84 44 69  3 68 37  1 29 97 30 98  5 74 32 74 31 23 10 33 12 14 62 20 47\n",
      "  5 44 26 71 87 16 91 21  0 85 43 26 70 61 61 83 81 18 24 85  1 62  1 30\n",
      " 43 83 76 76 39 44 88 86 51 12 88 17 70 66 31 31 51 22 57 84 21 50 84 14\n",
      " 83 40 17 98 22 76 62 98  3 44 22 83 71  9 29 93 51 97  3 48 20 54 76 97\n",
      " 32 36 20 83 81 94 30 91 68  2 33 51 67 40 29 53  8 53 96 99 41 82 92  2\n",
      " 71 32 36 88 21 20 21 77  6  1 65  2 84 84 96 55 33 60 97 94  8 43 87 38\n",
      " 55  5 39 32 12 88 42 44 23 82  1 55 32 94 84 31 83 43 65 50 79 10 58 31\n",
      " 79 85  1 67 25 99 15 69  6 38 64 81  0  6 24 91 73 37 81 98 96 90 44  9\n",
      " 64 59 87  9 81 26 51 89 37 73 85 27 54 70 48 48 54  9  1 90 77 55 61 42\n",
      "  2 65 52 77 29  7 13 75 67 15 15 95 16 83 48 37 36 77 65 89 48 50 31 27\n",
      " 61 75 38 79 70 10 71 70 16 33 58 10 36 37 23 47  5 46 39 15  1 74 26 58\n",
      " 44 19 31 27 45  1 75 44 13 54 81 64 71 84 28 53 99 63 88 74 87 49 59 56\n",
      " 57 81 52 16  8  9 27 68 69 74 19 16 66 75 23 54 47 50 84 18 25 94 28 82\n",
      " 98 25 19 23  0 95 70 71 85 17 87  8 98 51 17 46 49 66 13 87 93 68 64 53\n",
      " 20 83 40 62 96 80 64 41 24 48 39 49 70 17 23 58 22 85  9 45 56 18  1 44\n",
      " 53 98 54 90 21 10]\n",
      "Cluster Centers: [[-4.55122991e-02 -9.73170669e-02 -1.64390861e-01  1.33448153e-01\n",
      "   2.58333625e-02 -7.43190861e-02 -4.64224833e-02 -1.12704188e-01\n",
      "   1.43859035e-01 -1.94112181e-01]\n",
      " [-7.83916097e-03 -1.12361629e-01  1.53671397e-02 -3.84581443e-02\n",
      "  -8.37191005e-02  3.46157604e-02  1.50107754e-01  8.22431149e-02\n",
      "   4.44321633e-02  5.97924991e-02]\n",
      " [ 1.12655625e-01  1.03759031e-01 -6.47253868e-02 -7.51537120e-02\n",
      "   1.24003798e-02  4.76955527e-02 -2.93650154e-03 -3.93944851e-02\n",
      "  -1.81581903e-02  2.75580080e-02]\n",
      " [-1.92343836e-01  1.13483811e-01  1.62214168e-01  4.68911905e-02\n",
      "   1.63280366e-02 -5.22700158e-02 -1.21108100e-02 -3.72181754e-02\n",
      "  -4.68759291e-02  2.88967806e-02]\n",
      " [-1.16630416e-01 -1.43894580e-01 -1.39327558e-01 -1.01070390e-01\n",
      "   5.80680283e-02 -9.45105952e-02 -1.88512584e-01  1.11485750e-01\n",
      "   4.70250556e-02 -2.85228306e-02]\n",
      " [-1.22040963e-01 -6.06964110e-02 -2.06329651e-02 -1.60849057e-01\n",
      "   2.02886377e-02 -4.33420269e-02 -1.26722674e-03  4.24997347e-02\n",
      "  -1.88956859e-02 -2.48404497e-02]\n",
      " [ 2.20269555e-01 -6.74071112e-02  1.67685261e-01 -9.59918498e-02\n",
      "  -7.97489519e-02  5.02615529e-02 -1.74372800e-02  5.75151663e-02\n",
      "   1.72289518e-01  3.74377305e-02]\n",
      " [ 5.66282691e-02 -1.03042633e-01 -8.01954268e-02  4.14366878e-02\n",
      "   8.56284972e-02 -9.95470394e-02 -3.96484059e-02  1.71839941e-02\n",
      "  -1.04363554e-01  5.89933349e-02]\n",
      " [ 1.08258707e-01 -8.44077880e-02  2.22064595e-01  8.92407055e-02\n",
      "   1.09127461e-01 -2.79054228e-02  6.35951618e-03 -8.76203144e-02\n",
      "  -1.02652741e-01  7.15893378e-02]\n",
      " [-6.55106505e-02 -7.24503256e-02 -1.13163339e-01  1.86117249e-01\n",
      "   3.71422041e-02 -1.55446338e-02  4.52746032e-02 -6.15545932e-02\n",
      "   5.16532197e-02 -1.05918691e-02]\n",
      " [-1.85946271e-01 -9.67843118e-02  9.95904067e-02  6.31538538e-02\n",
      "  -3.39994788e-02  1.12279520e-01 -4.64435405e-02  1.51684181e-01\n",
      "  -2.88806330e-02  7.38444143e-02]\n",
      " [-9.87370873e-02  3.24679494e-01  4.40801735e-02 -6.49333647e-02\n",
      "  -9.77836184e-02 -1.48922312e-01  2.95943250e-02 -1.54695903e-01\n",
      "   1.04191144e-01  4.01613691e-03]\n",
      " [ 7.47504928e-02  1.89716535e-01 -1.17823660e-01  1.22312845e-01\n",
      "  -1.53759028e-01 -1.53427988e-01  6.15791543e-02  7.53661156e-02\n",
      "   9.84247175e-02  6.07670514e-02]\n",
      " [-7.66901825e-03  2.63046888e-01  9.04146452e-02  5.97857792e-02\n",
      "  -3.29315887e-02 -8.91748944e-02 -1.51041758e-01  1.35757455e-02\n",
      "   7.62828069e-02 -2.54910102e-02]\n",
      " [-1.86220775e-01  1.22485535e-01  6.34248431e-02 -2.74662057e-02\n",
      "  -1.08767356e-02  1.80128319e-01  7.62780739e-03 -8.44561589e-02\n",
      "   1.01652721e-01  1.49878891e-02]\n",
      " [ 1.72162317e-02  5.90772132e-02 -5.92370729e-03  5.40341793e-02\n",
      "  -2.36663867e-02  3.07983018e-02  7.22958713e-02 -4.14976886e-02\n",
      "  -1.07208642e-01 -1.40656617e-02]\n",
      " [-2.32799541e-01 -6.22965021e-02  4.30925014e-02  9.83210815e-03\n",
      "  -8.59694725e-02  1.00922805e-01  3.32625769e-02  1.94557432e-02\n",
      "  -7.40589407e-02  3.47644234e-02]\n",
      " [ 1.01800040e-01  2.89319155e-02 -7.85389716e-02 -1.94065967e-03\n",
      "  -5.43372914e-04 -4.06547236e-02  8.94198329e-02  1.47848734e-01\n",
      "  -1.01307571e-01 -8.39918229e-02]\n",
      " [ 2.16270521e-01  3.49013238e-02 -4.91488153e-02  1.94754850e-02\n",
      "  -7.43738915e-02  5.00586225e-02  7.96496804e-02 -9.72818126e-02\n",
      "  -1.21556883e-01 -6.12090620e-02]\n",
      " [-6.33900855e-02 -1.09211584e-01  1.29042779e-01  2.11262260e-01\n",
      "   1.14900715e-01 -7.32479525e-03 -5.63514910e-02 -2.13915890e-02\n",
      "  -1.06525492e-01  2.32112894e-02]\n",
      " [ 2.55375685e-01 -5.21182037e-02  4.71388173e-02  5.94329144e-02\n",
      "  -3.70301902e-02  5.43061052e-02 -6.96166089e-02 -8.75274667e-02\n",
      "   5.17495298e-02 -1.03370049e-01]\n",
      " [ 1.94650347e-01  2.95981723e-02 -9.92007282e-02  3.15312600e-02\n",
      "  -1.63779076e-01  2.31131529e-01  2.90067494e-02 -6.45008384e-02\n",
      "   1.12086156e-02 -6.48433006e-02]\n",
      " [ 9.38774898e-02 -1.38470560e-01 -3.98234241e-02 -1.43899314e-01\n",
      "  -1.39028941e-01 -4.11461088e-02 -1.01715616e-01 -8.56978738e-02\n",
      "  -3.30574599e-02  1.85017881e-02]\n",
      " [-1.78179784e-01  4.05801451e-02 -3.97574855e-02 -9.35384271e-02\n",
      "   8.59884559e-02 -3.06853712e-02  5.44771898e-02 -7.63055665e-02\n",
      "   2.22959474e-02 -3.96143439e-02]\n",
      " [ 2.81001978e-01 -8.40812125e-02  1.34651784e-01  2.95627927e-03\n",
      "   8.52541248e-02 -6.40765780e-02  5.11148711e-02 -1.08165892e-01\n",
      "   8.17725106e-02  6.38799789e-02]\n",
      " [-1.32297229e-01 -1.41785744e-01 -4.87926657e-02  2.23480937e-01\n",
      "  -1.98427638e-02  1.36627872e-01  5.39871532e-02 -8.76910657e-02\n",
      "  -1.04243773e-01  6.04812083e-02]\n",
      " [ 2.29396435e-02  9.00766047e-02 -7.27740336e-02  3.51770626e-02\n",
      "   8.44139101e-02  3.98632707e-02  3.41804651e-02  5.85216742e-02\n",
      "  -7.72596206e-02 -8.41104528e-02]\n",
      " [ 9.20048725e-02  1.08723834e-01 -1.71828677e-01 -1.55954589e-03\n",
      "   1.65592387e-01  1.33050686e-01  2.74082822e-02 -1.34559941e-01\n",
      "  -4.51805305e-02  5.03925635e-02]\n",
      " [-1.82984920e-01  4.75937075e-02  3.67568203e-03 -2.83479915e-01\n",
      "  -1.04354959e-01  1.04389719e-01 -1.99642615e-01 -1.75420181e-02\n",
      "   6.67349092e-03  4.84302285e-02]\n",
      " [-1.70375294e-01 -4.42697468e-02 -4.21434640e-02  1.06213763e-01\n",
      "   4.43027970e-02  1.98445512e-02  8.88273598e-02 -7.29745536e-02\n",
      "   5.09776846e-02 -6.00777689e-02]\n",
      " [ 2.00551977e-01 -1.55824941e-01  1.12723357e-01  4.64607786e-02\n",
      "   9.44614265e-02 -1.03421888e-01 -4.66009361e-02 -6.27367169e-02\n",
      "   1.00266324e-01  4.93853258e-02]\n",
      " [-1.19481161e-01  2.33119155e-01  6.91508633e-02  3.38328203e-02\n",
      "  -1.26378459e-01 -1.48246407e-01  8.31167185e-03  1.08319509e-02\n",
      "   7.29719376e-02  2.02946548e-02]\n",
      " [-9.23840188e-02  3.18351205e-01  9.92669431e-02  1.61312772e-01\n",
      "  -1.28702291e-01 -7.99012862e-02 -7.76155253e-02 -1.57256773e-01\n",
      "  -5.21733298e-02 -3.43600766e-03]\n",
      " [-9.68278326e-02 -1.73101802e-01 -1.08873819e-01  2.30757307e-01\n",
      "  -5.48865088e-02  1.08127825e-01 -4.95425073e-02  3.24995536e-02\n",
      "   3.84512583e-02  1.38092629e-01]\n",
      " [ 1.47482312e-03  1.20207678e-01 -1.40901144e-01  7.11741619e-03\n",
      "   2.70025423e-03 -1.90879566e-02  7.77411472e-02  8.53865309e-02\n",
      "   4.11069286e-04  1.12327780e-01]\n",
      " [-4.61763742e-02  1.80961861e-01 -3.70119056e-02 -7.46133464e-02\n",
      "   2.25697467e-01  1.39824188e-01 -2.14582074e-02  2.85124760e-02\n",
      "   8.48309293e-02 -3.42418107e-02]\n",
      " [ 2.62206199e-01 -1.12671855e-01  1.02350970e-01 -6.11555517e-02\n",
      "   1.02244996e-02 -3.04700401e-02  1.09095367e-01 -1.23836751e-02\n",
      "   1.07085250e-01 -1.49074858e-02]\n",
      " [-7.47495528e-02 -2.65316630e-02  1.58777710e-01  4.56475414e-02\n",
      "   1.16464063e-01  1.74185536e-02 -4.83121296e-02  8.23801463e-02\n",
      "   8.59714325e-03  6.95078815e-02]\n",
      " [ 1.31777221e-01 -8.97053695e-02 -7.28920139e-02 -1.33005496e-01\n",
      "  -1.48220540e-01  8.67639973e-03 -1.08191457e-01  1.14246166e-02\n",
      "  -7.52376348e-02  1.63152512e-01]\n",
      " [ 1.49767097e-02 -1.10881398e-01 -1.87485601e-01 -5.24866561e-02\n",
      "  -8.36131901e-03 -1.11317280e-01  7.58018614e-02 -7.59883132e-02\n",
      "  -4.83090688e-02 -2.41634104e-02]\n",
      " [ 1.66983403e-01  5.37317556e-02 -9.18856841e-02  2.26071809e-02\n",
      "   2.92856024e-02  1.49566713e-01 -2.84695655e-02 -8.51791781e-02\n",
      "  -7.41520485e-02 -4.52912776e-02]\n",
      " [ 8.99442514e-02  2.07770192e-01 -9.29712283e-02  9.40259082e-02\n",
      "  -1.37527705e-01 -2.18491280e-01  4.51673305e-02  9.12754405e-02\n",
      "   1.75610073e-02  1.26318647e-01]\n",
      " [ 1.76604320e-02  4.46075165e-02 -1.55366077e-01  2.49833403e-02\n",
      "  -3.07456974e-02  3.97665591e-02  6.57657929e-03  2.06270923e-01\n",
      "  -1.46883330e-01  5.06164997e-02]\n",
      " [ 1.06804406e-01 -1.61567658e-01 -1.95795304e-01 -3.99407971e-02\n",
      "   2.48700956e-02 -2.16726214e-01 -1.06380252e-01  3.55208992e-02\n",
      "  -3.04846213e-02  1.44764517e-02]\n",
      " [ 2.57128341e-01 -2.70549131e-02  1.76956653e-01 -7.46222889e-02\n",
      "   1.10303058e-02  1.04706314e-02  2.78540153e-02 -6.79978786e-03\n",
      "   8.00558441e-02  4.41342181e-03]\n",
      " [-1.93429149e-01 -1.60480864e-01 -1.19575245e-02 -1.90270141e-01\n",
      "  -1.27029217e-01 -3.61238793e-02 -1.04440936e-01 -5.42574334e-03\n",
      "  -1.18141803e-01  3.02720820e-02]\n",
      " [ 2.28967132e-02 -1.29541018e-01 -1.22759449e-01 -1.37696511e-02\n",
      "   9.74272173e-02 -2.14945257e-01 -7.77889313e-02 -1.60033241e-01\n",
      "  -1.72720613e-01  9.54567178e-02]\n",
      " [ 7.23102274e-03  2.60080935e-01  3.97128738e-02  2.97333019e-02\n",
      "  -8.93825753e-03 -1.96654495e-01  5.27260244e-02 -4.24417916e-02\n",
      "  -2.20901514e-02  4.25038981e-02]\n",
      " [ 1.10596269e-01  1.37045810e-01  2.97235181e-02 -5.01942000e-02\n",
      "   1.04359927e-01  5.99628549e-02 -6.05423193e-03  4.19816102e-02\n",
      "  -7.15615180e-02 -1.07715505e-02]\n",
      " [ 1.15979329e-01  1.90155119e-01 -4.11236320e-02  1.20887951e-01\n",
      "  -1.23208099e-01 -1.36079556e-01  1.12762807e-01 -4.66598141e-02\n",
      "  -8.58866294e-02  8.15968118e-02]\n",
      " [-6.18649835e-02  1.03024794e-01 -1.15694012e-01 -3.86195749e-02\n",
      "   9.19922405e-02 -2.09854332e-02  3.71119182e-02  8.93443924e-02\n",
      "   6.31536374e-02 -3.10997151e-02]\n",
      " [ 9.60851187e-02 -1.12906587e-01  1.92918481e-01  7.85166777e-02\n",
      "   9.74973669e-02 -1.67509164e-02 -9.70466511e-02  6.47259011e-02\n",
      "  -6.65876974e-03  7.86083229e-03]\n",
      " [-5.80407112e-02 -1.77448401e-01 -1.13986029e-02  2.54594450e-01\n",
      "   2.59241447e-02  2.41946012e-02 -2.04188830e-01 -8.14765393e-04\n",
      "   1.31488175e-02 -5.69722911e-02]\n",
      " [ 7.31338617e-02  5.85599210e-02 -1.47712301e-01  4.00233140e-02\n",
      "  -9.10564350e-02 -5.08754358e-03  6.49395590e-02  9.70330411e-02\n",
      "  -2.78902525e-03 -3.44240124e-02]\n",
      " [ 4.81051409e-02  1.84011991e-01 -5.87062487e-02 -9.21267859e-02\n",
      "   1.78703090e-01  5.60855914e-02 -3.17221467e-02  1.10034113e-01\n",
      "  -2.81193138e-02 -2.00342982e-02]\n",
      " [-1.59963689e-01 -1.00483522e-01  1.41263874e-01  7.52193002e-02\n",
      "   6.74052048e-02  3.95448997e-02 -1.61200928e-02  9.12495430e-02\n",
      "   1.44101538e-02 -7.82224634e-02]\n",
      " [-1.21551763e-01 -9.17995439e-02 -1.41244804e-01 -5.47755711e-02\n",
      "  -1.50004479e-01 -3.42511399e-02  1.20046645e-02  5.85945315e-03\n",
      "  -1.08017354e-01  1.28976185e-01]\n",
      " [-2.13681851e-01 -5.17574653e-02 -9.83045922e-02  6.65128887e-02\n",
      "   8.07115725e-02  1.84907327e-02 -3.65825877e-02 -4.98602490e-02\n",
      "   1.50374641e-01 -1.45330306e-01]\n",
      " [-1.25664496e-01 -4.83849091e-02  1.65448556e-01 -6.61446953e-03\n",
      "   7.50900705e-02  7.24878356e-02  7.40673402e-02  9.55262279e-02\n",
      "  -8.29934576e-02 -2.77457873e-02]\n",
      " [-1.49996613e-01 -9.06121364e-02 -1.06508926e-01  8.51874973e-02\n",
      "  -1.95152358e-02  5.31346768e-02  8.70509560e-02  5.56284682e-02\n",
      "   6.09739076e-02  1.56960628e-01]\n",
      " [-2.08961116e-02 -1.31857569e-01 -1.57129602e-01  3.33474097e-01\n",
      "  -4.90880210e-02  9.91937558e-02 -6.10887760e-02 -6.48312269e-02\n",
      "   1.20939534e-01 -6.76357108e-02]\n",
      " [ 1.84295859e-01  6.77682156e-02 -7.31894913e-02  2.58276891e-02\n",
      "  -9.99914970e-04  1.14845828e-01 -9.33958112e-02  5.41219313e-02\n",
      "  -7.45964700e-02 -2.72053795e-02]\n",
      " [ 5.98936458e-02 -1.75857739e-03  1.01057253e-01 -8.04686034e-02\n",
      "  -7.83196812e-02  5.59471625e-02  1.12749461e-01 -1.21478706e-01\n",
      "   1.45564316e-02 -2.10018261e-02]\n",
      " [-1.00153197e-01  1.74781629e-01  9.79160258e-03 -1.05171081e-01\n",
      "   1.02291342e-01  2.16053888e-01 -6.86699867e-02 -9.73895094e-02\n",
      "   3.79393504e-02  4.84740479e-02]\n",
      " [-1.28764439e-01 -1.27517324e-01 -1.08981240e-01 -1.46124340e-01\n",
      "  -5.31111572e-02 -6.28454715e-02 -1.26350767e-01  1.08719882e-02\n",
      "   1.76331266e-02  1.50282111e-02]\n",
      " [-1.74537229e-01 -1.05335110e-01 -5.06320453e-03  1.40566703e-01\n",
      "   1.46957723e-02 -2.10725562e-02 -1.08123810e-01  4.70063742e-02\n",
      "   1.09882076e-01 -3.33822053e-02]\n",
      " [ 6.69107198e-02 -1.08274898e-01 -1.25671144e-01 -2.92253830e-02\n",
      "   1.68938181e-01 -1.98195091e-01 -7.10908912e-02 -5.53145389e-02\n",
      "  -2.95629025e-02  6.39339285e-02]\n",
      " [-1.33381988e-01 -4.30058149e-02  3.90513505e-02 -2.42638137e-01\n",
      "  -1.77774864e-01  4.22913922e-02 -1.46072329e-01  5.84913128e-02\n",
      "  -4.76847557e-02  8.85802906e-02]\n",
      " [-6.16239870e-02 -8.91680581e-02 -1.17660782e-01 -3.97620794e-02\n",
      "   2.53997999e-02 -1.00812953e-01  1.42880540e-01 -3.61105529e-02\n",
      "   7.25464174e-02  6.29796148e-02]\n",
      " [-7.40342836e-02 -1.67896434e-01 -4.91751813e-02 -1.10048323e-01\n",
      "  -1.30508020e-01 -5.23955136e-02  2.06674097e-03 -1.09641247e-01\n",
      "  -6.53257192e-02 -1.31822405e-01]\n",
      " [-1.69701622e-02  1.63383641e-01 -1.09813105e-01 -6.43378713e-02\n",
      "   1.44582242e-01  5.75600837e-02 -1.03031240e-02 -3.18844908e-02\n",
      "   7.18003811e-02  6.83035275e-02]\n",
      " [-8.12275108e-02  2.85069218e-01  1.02744036e-01  1.35515329e-01\n",
      "  -1.32484419e-01 -4.30262540e-02 -1.44930125e-01  2.16199653e-02\n",
      "   2.61979692e-02 -4.77214533e-02]\n",
      " [ 4.15506062e-02 -1.04026678e-01 -1.97480290e-02 -1.35205415e-01\n",
      "  -1.26394174e-01  3.97639105e-02 -6.30323195e-02 -4.73466652e-03\n",
      "  -9.61737921e-03 -1.90327739e-01]\n",
      " [-5.30602068e-02 -2.00512263e-01 -2.53804698e-02  8.14229567e-04\n",
      "  -3.91894906e-02 -8.94124269e-02 -9.97843180e-02  3.83215755e-02\n",
      "  -1.44071401e-01  5.14819234e-02]\n",
      " [-7.94214752e-02 -1.08887657e-01  1.16510432e-01 -3.72037686e-02\n",
      "  -1.50122802e-03 -5.91328347e-02  3.57547483e-03  1.16097114e-01\n",
      "  -8.96443760e-03 -6.45879192e-02]\n",
      " [ 2.76490260e-01 -1.00750084e-01  6.29324705e-02 -3.05358410e-03\n",
      "   4.36700437e-02 -2.09563212e-02 -9.43773629e-02 -1.27633614e-01\n",
      "   3.48035394e-03 -5.23770574e-02]\n",
      " [-9.13755253e-02 -5.89480377e-02 -1.07652336e-01 -2.41214595e-02\n",
      "   3.31445343e-02 -2.28379043e-02  9.15730222e-02  2.20927693e-02\n",
      "   5.28747084e-02 -1.50819424e-01]\n",
      " [ 1.75158248e-01  9.84600305e-03 -3.78869549e-02  4.95106163e-02\n",
      "  -7.23559745e-02  8.07249114e-02 -6.60748306e-03  6.68019918e-02\n",
      "   1.08403503e-01  8.61696210e-02]\n",
      " [ 7.52441048e-02  8.02116384e-02 -1.94191098e-01  1.00682813e-01\n",
      "   1.40320032e-01  1.21137318e-01 -4.22049258e-03  4.39755257e-02\n",
      "   3.87485182e-03  1.17851994e-01]\n",
      " [ 1.14324877e-01  9.39543591e-02  1.59434148e-01  1.15325155e-01\n",
      "   1.20523502e-02 -8.58484690e-02 -1.28701926e-01 -7.69106131e-02\n",
      "   1.96576630e-02  4.56050863e-02]\n",
      " [-2.35276017e-04 -1.17210281e-01 -1.28716786e-01  1.53680613e-01\n",
      "   2.99281322e-02 -4.60948937e-02  1.09919858e-01  7.45788303e-02\n",
      "   7.72219451e-02  1.13228920e-01]\n",
      " [-1.92122938e-01  6.15911587e-02  3.40871593e-02 -1.33024611e-01\n",
      "   3.17575156e-02  5.99394927e-02 -1.23117543e-02 -7.49197609e-03\n",
      "   7.06036199e-02  5.10146406e-02]\n",
      " [-1.40827108e-01  2.64804027e-01  1.19791366e-01  7.11174510e-02\n",
      "  -1.64404255e-01 -1.34220035e-01  2.58482301e-02 -9.81963661e-02\n",
      "   9.64517156e-03 -3.73572610e-03]\n",
      " [-1.51508843e-01 -9.19628292e-02  4.03982888e-02 -7.17129622e-02\n",
      "  -4.22102251e-02 -2.31623919e-02  6.38610737e-02 -2.99289749e-02\n",
      "  -4.21168772e-02 -4.69169939e-02]\n",
      " [-1.50731209e-01  8.71752762e-02  1.85598423e-02 -1.35034702e-01\n",
      "   7.07791380e-02  2.65538510e-02  4.15083907e-02 -1.46677442e-01\n",
      "  -4.45726351e-02  1.35118929e-02]\n",
      " [ 4.77841564e-02  1.60185084e-01 -7.33499071e-02 -1.74720053e-02\n",
      "   8.06593990e-02 -1.17882539e-01  4.22854380e-02  1.03445482e-01\n",
      "  -2.85603809e-02 -9.02890256e-03]\n",
      " [-8.05928809e-02 -7.81761885e-02 -9.02718218e-02 -6.61852810e-02\n",
      "   1.77887722e-01 -7.62708207e-03  1.31098913e-01  5.83150296e-02\n",
      "   2.52154830e-01  1.03158359e-01]\n",
      " [-2.85539889e-02 -1.34564758e-01  1.46251460e-03 -1.27160812e-01\n",
      "   3.99545269e-02 -1.23389093e-01 -1.32614421e-03 -3.95567930e-02\n",
      "   1.60481957e-02 -4.42475386e-02]\n",
      " [ 5.14449648e-03 -7.37860480e-02  4.66699964e-02 -3.82861984e-02\n",
      "  -4.49414304e-02 -2.35648278e-02  2.34620845e-01  2.93215022e-02\n",
      "   1.07545377e-02 -1.01242040e-01]\n",
      " [ 2.05700411e-02  1.50841906e-01 -1.29661275e-01 -1.28485250e-01\n",
      "   2.25292544e-01 -2.30412143e-02  3.19788564e-02  1.15597130e-01\n",
      "   1.29652225e-01  1.73784667e-02]\n",
      " [ 2.06798725e-01 -7.15058232e-03 -1.06103275e-01 -8.16153412e-03\n",
      "  -1.26340164e-01  4.66565705e-02 -3.90241212e-03  1.81487004e-02\n",
      "  -2.57268691e-02 -1.45138667e-01]\n",
      " [-4.76674300e-02 -1.04455267e-01  5.95940241e-02  2.24614024e-03\n",
      "  -1.87664766e-02  3.69716096e-03  2.35127750e-01 -1.01442745e-01\n",
      "  -7.22065494e-02  3.99140381e-03]\n",
      " [-4.88001126e-02  2.23791786e-01  1.56923776e-01 -4.35797497e-02\n",
      "  -1.38808407e-01 -1.34263654e-01  1.51292287e-02  5.34232318e-02\n",
      "   3.93077287e-02 -9.72920934e-02]\n",
      " [ 2.35106212e-01 -4.73929571e-02  1.56488104e-01 -4.20492881e-02\n",
      "  -6.51852182e-02  7.02342409e-02  4.80597657e-02 -2.86728527e-02\n",
      "   1.07951775e-01  1.96553040e-01]\n",
      " [ 9.89328435e-02 -5.19840184e-03 -1.64108497e-01 -2.40356933e-02\n",
      "   2.04256303e-03 -3.49964544e-02 -9.46570577e-02 -2.41149984e-02\n",
      "  -5.40605980e-02  8.51307213e-02]\n",
      " [-6.03775566e-02 -7.86639918e-02  2.38410737e-01  6.73087288e-02\n",
      "   8.93454331e-02 -3.85970696e-02  1.30866016e-01 -3.75931517e-03\n",
      "  -1.23930949e-01  6.24203551e-02]\n",
      " [ 1.38425357e-01 -3.30255846e-02  1.33606159e-01 -8.47952293e-02\n",
      "  -9.30114490e-02  7.44631359e-02  4.57627551e-03  6.64278772e-02\n",
      "   6.63837756e-02 -5.28840922e-02]\n",
      " [-8.85066811e-02 -8.10700185e-03 -5.02235962e-02 -1.80796849e-01\n",
      "  -2.49645460e-02  6.23421163e-02 -6.25555945e-02 -7.53863235e-02\n",
      "   6.54319911e-02  4.23641475e-02]\n",
      " [ 6.13083151e-02  5.71062936e-02 -8.97696688e-02  2.39517885e-02\n",
      "  -3.73220663e-02  2.13755670e-02 -1.65702709e-02  1.58906381e-01\n",
      "  -1.08675891e-01 -1.38312958e-01]\n",
      " [ 2.58781895e-02 -4.41829743e-02  2.35055849e-01  9.73416709e-02\n",
      "   4.93452668e-02 -3.11685232e-02  2.93114979e-02  1.62060629e-02\n",
      "  -5.72101449e-02 -3.81711129e-02]]\n",
      "Within-Cluster Sum of Squares (WCSS): 11.368661310123757\n"
     ]
    },
    {
     "data": {
      "text/html": [
       "<div>\n",
       "<style scoped>\n",
       "    .dataframe tbody tr th:only-of-type {\n",
       "        vertical-align: middle;\n",
       "    }\n",
       "\n",
       "    .dataframe tbody tr th {\n",
       "        vertical-align: top;\n",
       "    }\n",
       "\n",
       "    .dataframe thead th {\n",
       "        text-align: right;\n",
       "    }\n",
       "</style>\n",
       "<table border=\"1\" class=\"dataframe\">\n",
       "  <thead>\n",
       "    <tr style=\"text-align: right;\">\n",
       "      <th></th>\n",
       "      <th>CIK</th>\n",
       "      <th>Year</th>\n",
       "      <th>Embeddings</th>\n",
       "      <th>tic</th>\n",
       "      <th>Cluster_10</th>\n",
       "      <th>Cluster_100</th>\n",
       "    </tr>\n",
       "  </thead>\n",
       "  <tbody>\n",
       "    <tr>\n",
       "      <th>2</th>\n",
       "      <td>1704715</td>\n",
       "      <td>2021</td>\n",
       "      <td>[0.014074714854359627, 0.006938479840755463, 0...</td>\n",
       "      <td>AMR</td>\n",
       "      <td>0</td>\n",
       "      <td>25</td>\n",
       "    </tr>\n",
       "    <tr>\n",
       "      <th>3</th>\n",
       "      <td>1575515</td>\n",
       "      <td>2021</td>\n",
       "      <td>[-0.023708730936050415, 0.01762891560792923, 0...</td>\n",
       "      <td>SFM</td>\n",
       "      <td>6</td>\n",
       "      <td>30</td>\n",
       "    </tr>\n",
       "    <tr>\n",
       "      <th>4</th>\n",
       "      <td>1125376</td>\n",
       "      <td>2021</td>\n",
       "      <td>[0.04463111609220505, 0.0018805989529937506, 0...</td>\n",
       "      <td>ENSG</td>\n",
       "      <td>2</td>\n",
       "      <td>12</td>\n",
       "    </tr>\n",
       "    <tr>\n",
       "      <th>5</th>\n",
       "      <td>1674335</td>\n",
       "      <td>2021</td>\n",
       "      <td>[-0.0054583558812737465, 0.04776754230260849, ...</td>\n",
       "      <td>JELD</td>\n",
       "      <td>1</td>\n",
       "      <td>91</td>\n",
       "    </tr>\n",
       "    <tr>\n",
       "      <th>6</th>\n",
       "      <td>1023128</td>\n",
       "      <td>2021</td>\n",
       "      <td>[0.007417375687509775, -0.03694348409771919, -...</td>\n",
       "      <td>LAD</td>\n",
       "      <td>9</td>\n",
       "      <td>22</td>\n",
       "    </tr>\n",
       "  </tbody>\n",
       "</table>\n",
       "</div>"
      ],
      "text/plain": [
       "       CIK  Year                                         Embeddings   tic  \\\n",
       "2  1704715  2021  [0.014074714854359627, 0.006938479840755463, 0...   AMR   \n",
       "3  1575515  2021  [-0.023708730936050415, 0.01762891560792923, 0...   SFM   \n",
       "4  1125376  2021  [0.04463111609220505, 0.0018805989529937506, 0...  ENSG   \n",
       "5  1674335  2021  [-0.0054583558812737465, 0.04776754230260849, ...  JELD   \n",
       "6  1023128  2021  [0.007417375687509775, -0.03694348409771919, -...   LAD   \n",
       "\n",
       "   Cluster_10  Cluster_100  \n",
       "2           0           25  \n",
       "3           6           30  \n",
       "4           2           12  \n",
       "5           1           91  \n",
       "6           9           22  "
      ]
     },
     "execution_count": 79,
     "metadata": {},
     "output_type": "execute_result"
    }
   ],
   "source": [
    "labels_10 = cluster(embedding_pca, 10)\n",
    "item1_df['Cluster_10'] = labels_10\n",
    "labels_100 = cluster(embedding_pca, 100)\n",
    "item1_df['Cluster_100'] = labels_100\n",
    "item1_df.head()"
   ]
  },
  {
   "cell_type": "code",
   "execution_count": null,
   "metadata": {},
   "outputs": [],
   "source": [
    "year = 2021\n",
    "mode = 'forward'  # Can be 'in-sample', 'forward', or 'backtest'\n",
    "# returns_long = fetch_stock_data(item1_df, year, mode)\n",
    "\n",
    "df_returns = pd.merge(item1_df, returns_long, on='tic', how='inner')"
   ]
  },
  {
   "cell_type": "code",
   "execution_count": 81,
   "metadata": {},
   "outputs": [
    {
     "name": "stdout",
     "output_type": "stream",
     "text": [
      "534\n"
     ]
    }
   ],
   "source": [
    "print(len(df_returns['tic'].unique()))"
   ]
  },
  {
   "cell_type": "code",
   "execution_count": null,
   "metadata": {},
   "outputs": [],
   "source": [
    "# # returns_long.to_csv(\"baseline_data/return_for_merged_item1.csv\", index=False)\n",
    "# returns_long = pd.read_csv(\"baseline_data/return_for_merged_item1.csv\")\n",
    "# df_returns = pd.merge(item1_df, returns_long, on='tic', how='inner')"
   ]
  },
  {
   "cell_type": "code",
   "execution_count": 82,
   "metadata": {},
   "outputs": [
    {
     "data": {
      "text/plain": [
       "0.3466661552205877"
      ]
     },
     "execution_count": 82,
     "metadata": {},
     "output_type": "execute_result"
    }
   ],
   "source": [
    "intra_corrs_10 = intra_industry_correlations(df_returns, \"Cluster_10\")\n",
    "avg_intra_corr_10 = np.nanmean(list(intra_corrs_10.values()))\n",
    "avg_intra_corr_10"
   ]
  },
  {
   "cell_type": "code",
   "execution_count": 83,
   "metadata": {},
   "outputs": [
    {
     "data": {
      "text/plain": [
       "0.3959588777109477"
      ]
     },
     "execution_count": 83,
     "metadata": {},
     "output_type": "execute_result"
    }
   ],
   "source": [
    "intra_corrs_100 = intra_industry_correlations(df_returns, \"Cluster_100\")\n",
    "avg_intra_corr_100 = np.nanmean(list(intra_corrs_100.values()))\n",
    "avg_intra_corr_100"
   ]
  },
  {
   "cell_type": "code",
   "execution_count": 49,
   "metadata": {},
   "outputs": [
    {
     "data": {
      "text/html": [
       "<div>\n",
       "<style scoped>\n",
       "    .dataframe tbody tr th:only-of-type {\n",
       "        vertical-align: middle;\n",
       "    }\n",
       "\n",
       "    .dataframe tbody tr th {\n",
       "        vertical-align: top;\n",
       "    }\n",
       "\n",
       "    .dataframe thead th {\n",
       "        text-align: right;\n",
       "    }\n",
       "</style>\n",
       "<table border=\"1\" class=\"dataframe\">\n",
       "  <thead>\n",
       "    <tr style=\"text-align: right;\">\n",
       "      <th></th>\n",
       "      <th>CIK</th>\n",
       "      <th>Year</th>\n",
       "      <th>Embeddings</th>\n",
       "      <th>tic</th>\n",
       "      <th>Cluster_10</th>\n",
       "      <th>Cluster_100</th>\n",
       "      <th>Date</th>\n",
       "      <th>Return</th>\n",
       "      <th>Cluster_1</th>\n",
       "    </tr>\n",
       "  </thead>\n",
       "  <tbody>\n",
       "    <tr>\n",
       "      <th>0</th>\n",
       "      <td>1704715</td>\n",
       "      <td>2021</td>\n",
       "      <td>[0.014074714854359627, 0.006938479840755463, 0...</td>\n",
       "      <td>AMR</td>\n",
       "      <td>0</td>\n",
       "      <td>26</td>\n",
       "      <td>2022-01-03</td>\n",
       "      <td>NaN</td>\n",
       "      <td>1</td>\n",
       "    </tr>\n",
       "    <tr>\n",
       "      <th>1</th>\n",
       "      <td>1704715</td>\n",
       "      <td>2021</td>\n",
       "      <td>[0.014074714854359627, 0.006938479840755463, 0...</td>\n",
       "      <td>AMR</td>\n",
       "      <td>0</td>\n",
       "      <td>26</td>\n",
       "      <td>2022-01-04</td>\n",
       "      <td>0.016987</td>\n",
       "      <td>1</td>\n",
       "    </tr>\n",
       "    <tr>\n",
       "      <th>2</th>\n",
       "      <td>1704715</td>\n",
       "      <td>2021</td>\n",
       "      <td>[0.014074714854359627, 0.006938479840755463, 0...</td>\n",
       "      <td>AMR</td>\n",
       "      <td>0</td>\n",
       "      <td>26</td>\n",
       "      <td>2022-01-05</td>\n",
       "      <td>-0.019981</td>\n",
       "      <td>1</td>\n",
       "    </tr>\n",
       "    <tr>\n",
       "      <th>3</th>\n",
       "      <td>1704715</td>\n",
       "      <td>2021</td>\n",
       "      <td>[0.014074714854359627, 0.006938479840755463, 0...</td>\n",
       "      <td>AMR</td>\n",
       "      <td>0</td>\n",
       "      <td>26</td>\n",
       "      <td>2022-01-06</td>\n",
       "      <td>0.001434</td>\n",
       "      <td>1</td>\n",
       "    </tr>\n",
       "    <tr>\n",
       "      <th>4</th>\n",
       "      <td>1704715</td>\n",
       "      <td>2021</td>\n",
       "      <td>[0.014074714854359627, 0.006938479840755463, 0...</td>\n",
       "      <td>AMR</td>\n",
       "      <td>0</td>\n",
       "      <td>26</td>\n",
       "      <td>2022-01-07</td>\n",
       "      <td>-0.002704</td>\n",
       "      <td>1</td>\n",
       "    </tr>\n",
       "  </tbody>\n",
       "</table>\n",
       "</div>"
      ],
      "text/plain": [
       "       CIK  Year                                         Embeddings  tic  \\\n",
       "0  1704715  2021  [0.014074714854359627, 0.006938479840755463, 0...  AMR   \n",
       "1  1704715  2021  [0.014074714854359627, 0.006938479840755463, 0...  AMR   \n",
       "2  1704715  2021  [0.014074714854359627, 0.006938479840755463, 0...  AMR   \n",
       "3  1704715  2021  [0.014074714854359627, 0.006938479840755463, 0...  AMR   \n",
       "4  1704715  2021  [0.014074714854359627, 0.006938479840755463, 0...  AMR   \n",
       "\n",
       "   Cluster_10  Cluster_100        Date    Return  Cluster_1  \n",
       "0           0           26  2022-01-03       NaN          1  \n",
       "1           0           26  2022-01-04  0.016987          1  \n",
       "2           0           26  2022-01-05 -0.019981          1  \n",
       "3           0           26  2022-01-06  0.001434          1  \n",
       "4           0           26  2022-01-07 -0.002704          1  "
      ]
     },
     "execution_count": 49,
     "metadata": {},
     "output_type": "execute_result"
    }
   ],
   "source": [
    "df_returns['Cluster_1'] = np.ones(len(df_returns), dtype=\"int64\")\n",
    "df_returns.head()"
   ]
  },
  {
   "cell_type": "code",
   "execution_count": 50,
   "metadata": {},
   "outputs": [
    {
     "data": {
      "text/plain": [
       "0.30203190501983"
      ]
     },
     "execution_count": 50,
     "metadata": {},
     "output_type": "execute_result"
    }
   ],
   "source": [
    "intra_corrs_1 = intra_industry_correlations(df_returns, \"Cluster_1\")\n",
    "avg_intra_corr_1 = np.nanmean(list(intra_corrs_1.values()))\n",
    "avg_intra_corr_1"
   ]
  }
 ],
 "metadata": {
  "kernelspec": {
   "display_name": "NLP",
   "language": "python",
   "name": "python3"
  },
  "language_info": {
   "codemirror_mode": {
    "name": "ipython",
    "version": 3
   },
   "file_extension": ".py",
   "mimetype": "text/x-python",
   "name": "python",
   "nbconvert_exporter": "python",
   "pygments_lexer": "ipython3",
   "version": "3.9.19"
  }
 },
 "nbformat": 4,
 "nbformat_minor": 2
}
